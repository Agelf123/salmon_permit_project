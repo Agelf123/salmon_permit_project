{
 "cells": [
  {
   "cell_type": "markdown",
   "metadata": {},
   "source": [
    "# Data Dictionary"
   ]
  },
  {
   "cell_type": "markdown",
   "metadata": {},
   "source": [
    "|Name of Field|Where Table exists|Description|Source|Datatype|\n",
    "|---|---|---|---|---|\n",
    "|Fishcount|df_clean|Fish Counts by river for every river system in Alaska| http://www.adfg.alaska.gov/sf/FishCounts/ |float64|\n",
    "|Ex Vessel Pricing Salmon|df_clean|dock price or price paid to fisherman for salmon by year|https://www.adfg.alaska.gov/index.cfm?adfg=commercialbyfisherysalmon.salmoncatch_exvessel|float64|\n",
    "|Salmon price by Area|df_clean|Salmon price per pound by area|https://www.adfg.alaska.gov/index.cfm?adfg=commercialbyfisherysalmon.salmon_grossearnings_byarea|float64|\n",
    "|Wholesale value of Salmon|df_clean|'Unique code for each reddit post|https://www.adfg.alaska.gov/index.cfm?adfg=commercialbyfisherysalmon.salmoncatch_wholesale|int64|\n",
    "|Farm Salmon Pricing|df_clean|price for norwegian farm salmon retail price|https://www.indexmundi.com/commodities/?commodity=salmon&months=360|float64|\n",
    "|Shrimp |df_clean|price for shrimp on world markets|https://www.indexmundi.com/commodities/?commodity=shrimp&months=360|float64|\n",
    "|Gross Earnings By Area|df_clean|The gross earnings for each salmon area |https://www.adfg.alaska.gov/index.cfm?adfg=commercialbyfisherysalmon.salmon_grossearnings_byarea|float64|\n",
    "|Gross Earnings By Species|df_clean|gros Earnings for Each salmon Species|https://www.adfg.alaska.gov/index.cfm?adfg=commercialbyfisherysalmon.salmoncatch_wholesale|float64|\n",
    "|Seafood production and Consumption|df_clean|Seafood Consumption and Production|https://ourworldindata.org/seafood-production|float64|\n",
    "|Capture Fishing vs Aquaculture|df_clean|capture fishing vs aquaculture|https://ourworldindata.org/seafood-production|float64|\n",
    "|Bristol Bay Permit Pricing|df_clean|The price of a drift permit for bristol bay salmon|https://www.cfec.state.ak.us/pmtvalue/X_S03T.HTM|float64|"
   ]
  }
 ],
 "metadata": {
  "kernelspec": {
   "display_name": "Python 3",
   "language": "python",
   "name": "python3"
  },
  "language_info": {
   "codemirror_mode": {
    "name": "ipython",
    "version": 3
   },
   "file_extension": ".py",
   "mimetype": "text/x-python",
   "name": "python",
   "nbconvert_exporter": "python",
   "pygments_lexer": "ipython3",
   "version": "3.7.4"
  }
 },
 "nbformat": 4,
 "nbformat_minor": 2
}
