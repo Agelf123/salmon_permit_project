{
 "cells": [
  {
   "cell_type": "code",
   "execution_count": 1,
   "metadata": {},
   "outputs": [
    {
     "name": "stderr",
     "output_type": "stream",
     "text": [
      "\n",
      "Bad key \"text.kerning_factor\" on line 4 in\n",
      "/Users/aryehgelfand/opt/anaconda3/lib/python3.7/site-packages/matplotlib/mpl-data/stylelib/_classic_test_patch.mplstyle.\n",
      "You probably need to get an updated matplotlibrc file from\n",
      "https://github.com/matplotlib/matplotlib/blob/v3.1.3/matplotlibrc.template\n",
      "or from the matplotlib source distribution\n"
     ]
    }
   ],
   "source": [
    "import pandas as pd\n",
    "import numpy as np\n",
    "import matplotlib.pyplot as plt\n",
    "import seaborn as sns"
   ]
  },
  {
   "cell_type": "code",
   "execution_count": 4,
   "metadata": {},
   "outputs": [
    {
     "data": {
      "text/plain": [
       "(888, 1397)"
      ]
     },
     "execution_count": 4,
     "metadata": {},
     "output_type": "execute_result"
    }
   ],
   "source": [
    "df = pd.read_csv('data.csv')\n",
    "df = df.rename(columns={'Unnamed: 0': 'year',\"Estimated Value\":\"target\"})\n",
    "df = df.set_index('year')\n",
    "df.shape"
   ]
  },
  {
   "cell_type": "code",
   "execution_count": 5,
   "metadata": {},
   "outputs": [],
   "source": [
    "df.dropna(axis='columns',inplace=True)\n"
   ]
  },
  {
   "cell_type": "code",
   "execution_count": 7,
   "metadata": {},
   "outputs": [
    {
     "data": {
      "text/html": [
       "<div>\n",
       "<style scoped>\n",
       "    .dataframe tbody tr th:only-of-type {\n",
       "        vertical-align: middle;\n",
       "    }\n",
       "\n",
       "    .dataframe tbody tr th {\n",
       "        vertical-align: top;\n",
       "    }\n",
       "\n",
       "    .dataframe thead th {\n",
       "        text-align: right;\n",
       "    }\n",
       "</style>\n",
       "<table border=\"1\" class=\"dataframe\">\n",
       "  <thead>\n",
       "    <tr style=\"text-align: right;\">\n",
       "      <th></th>\n",
       "      <th>('FISHCOUNT', 'Afognak River (Litnik)')</th>\n",
       "      <th>('FISHCOUNT', 'Alagnak River')</th>\n",
       "      <th>('FISHCOUNT', 'Chignik River')</th>\n",
       "      <th>('FISHCOUNT', 'Coghill River')</th>\n",
       "      <th>('FISHCOUNT', 'Copper River (Miles L)')</th>\n",
       "      <th>('FISHCOUNT', 'Dog Salmon River')</th>\n",
       "      <th>('FISHCOUNT', 'Egegik River')</th>\n",
       "      <th>('FISHCOUNT', 'Eshamy Creek')</th>\n",
       "      <th>('FISHCOUNT', 'Fish Creek')</th>\n",
       "      <th>('FISHCOUNT', 'Gulkana River')</th>\n",
       "      <th>...</th>\n",
       "      <th>('Average Exvessel Price per Pound', 'Prince William Sound  Chinook')</th>\n",
       "      <th>('Average Exvessel Price per Pound', 'Prince William Sound  Sockeye')</th>\n",
       "      <th>('Average Exvessel Price per Pound', 'Southeast                               Pink')</th>\n",
       "      <th>('Average Exvessel Price per Pound', 'Southeast          Chum')</th>\n",
       "      <th>('Average Exvessel Price per Pound', 'Southeast          Coho')</th>\n",
       "      <th>('Average Exvessel Price per Pound', 'Southeast  Chinook')</th>\n",
       "      <th>('Average Exvessel Price per Pound', 'Southeast  Sockeye')</th>\n",
       "      <th>('Average Exvessel Price per Pound', 'Yukon          Chum')</th>\n",
       "      <th>('Average Exvessel Price per Pound', 'Yukon          Coho')</th>\n",
       "      <th>('Average Exvessel Price per Pound', 'Yukon  Chinook')</th>\n",
       "    </tr>\n",
       "    <tr>\n",
       "      <th>year</th>\n",
       "      <th></th>\n",
       "      <th></th>\n",
       "      <th></th>\n",
       "      <th></th>\n",
       "      <th></th>\n",
       "      <th></th>\n",
       "      <th></th>\n",
       "      <th></th>\n",
       "      <th></th>\n",
       "      <th></th>\n",
       "      <th></th>\n",
       "      <th></th>\n",
       "      <th></th>\n",
       "      <th></th>\n",
       "      <th></th>\n",
       "      <th></th>\n",
       "      <th></th>\n",
       "      <th></th>\n",
       "      <th></th>\n",
       "      <th></th>\n",
       "      <th></th>\n",
       "    </tr>\n",
       "  </thead>\n",
       "  <tbody>\n",
       "    <tr>\n",
       "      <th>1999-01-03</th>\n",
       "      <td>0.0</td>\n",
       "      <td>0.0</td>\n",
       "      <td>0.0</td>\n",
       "      <td>0.0</td>\n",
       "      <td>0.0</td>\n",
       "      <td>0.0</td>\n",
       "      <td>0.0</td>\n",
       "      <td>0.0</td>\n",
       "      <td>0.0</td>\n",
       "      <td>0.0</td>\n",
       "      <td>...</td>\n",
       "      <td>4.196449</td>\n",
       "      <td>1.685003</td>\n",
       "      <td>0.171220</td>\n",
       "      <td>0.205425</td>\n",
       "      <td>0.967010</td>\n",
       "      <td>1.647954</td>\n",
       "      <td>1.126149</td>\n",
       "      <td>0.187640</td>\n",
       "      <td>0.345713</td>\n",
       "      <td>3.706479</td>\n",
       "    </tr>\n",
       "    <tr>\n",
       "      <th>1999-01-10</th>\n",
       "      <td>0.0</td>\n",
       "      <td>0.0</td>\n",
       "      <td>0.0</td>\n",
       "      <td>0.0</td>\n",
       "      <td>0.0</td>\n",
       "      <td>0.0</td>\n",
       "      <td>0.0</td>\n",
       "      <td>0.0</td>\n",
       "      <td>0.0</td>\n",
       "      <td>0.0</td>\n",
       "      <td>...</td>\n",
       "      <td>4.189679</td>\n",
       "      <td>1.679578</td>\n",
       "      <td>0.171316</td>\n",
       "      <td>0.207054</td>\n",
       "      <td>0.963488</td>\n",
       "      <td>1.654193</td>\n",
       "      <td>1.121906</td>\n",
       "      <td>0.187160</td>\n",
       "      <td>0.344734</td>\n",
       "      <td>3.719302</td>\n",
       "    </tr>\n",
       "    <tr>\n",
       "      <th>1999-01-17</th>\n",
       "      <td>0.0</td>\n",
       "      <td>0.0</td>\n",
       "      <td>0.0</td>\n",
       "      <td>0.0</td>\n",
       "      <td>0.0</td>\n",
       "      <td>0.0</td>\n",
       "      <td>0.0</td>\n",
       "      <td>0.0</td>\n",
       "      <td>0.0</td>\n",
       "      <td>0.0</td>\n",
       "      <td>...</td>\n",
       "      <td>4.182908</td>\n",
       "      <td>1.674153</td>\n",
       "      <td>0.171413</td>\n",
       "      <td>0.208683</td>\n",
       "      <td>0.959966</td>\n",
       "      <td>1.660433</td>\n",
       "      <td>1.117663</td>\n",
       "      <td>0.186681</td>\n",
       "      <td>0.343754</td>\n",
       "      <td>3.732124</td>\n",
       "    </tr>\n",
       "    <tr>\n",
       "      <th>1999-01-24</th>\n",
       "      <td>0.0</td>\n",
       "      <td>0.0</td>\n",
       "      <td>0.0</td>\n",
       "      <td>0.0</td>\n",
       "      <td>0.0</td>\n",
       "      <td>0.0</td>\n",
       "      <td>0.0</td>\n",
       "      <td>0.0</td>\n",
       "      <td>0.0</td>\n",
       "      <td>0.0</td>\n",
       "      <td>...</td>\n",
       "      <td>4.176138</td>\n",
       "      <td>1.668728</td>\n",
       "      <td>0.171509</td>\n",
       "      <td>0.210313</td>\n",
       "      <td>0.956444</td>\n",
       "      <td>1.666672</td>\n",
       "      <td>1.113421</td>\n",
       "      <td>0.186201</td>\n",
       "      <td>0.342775</td>\n",
       "      <td>3.744947</td>\n",
       "    </tr>\n",
       "    <tr>\n",
       "      <th>1999-01-31</th>\n",
       "      <td>0.0</td>\n",
       "      <td>0.0</td>\n",
       "      <td>0.0</td>\n",
       "      <td>0.0</td>\n",
       "      <td>0.0</td>\n",
       "      <td>0.0</td>\n",
       "      <td>0.0</td>\n",
       "      <td>0.0</td>\n",
       "      <td>0.0</td>\n",
       "      <td>0.0</td>\n",
       "      <td>...</td>\n",
       "      <td>4.169368</td>\n",
       "      <td>1.663302</td>\n",
       "      <td>0.171606</td>\n",
       "      <td>0.211942</td>\n",
       "      <td>0.952922</td>\n",
       "      <td>1.672911</td>\n",
       "      <td>1.109178</td>\n",
       "      <td>0.185722</td>\n",
       "      <td>0.341796</td>\n",
       "      <td>3.757770</td>\n",
       "    </tr>\n",
       "  </tbody>\n",
       "</table>\n",
       "<p>5 rows × 1369 columns</p>\n",
       "</div>"
      ],
      "text/plain": [
       "            ('FISHCOUNT', 'Afognak River (Litnik)')  \\\n",
       "year                                                  \n",
       "1999-01-03                                      0.0   \n",
       "1999-01-10                                      0.0   \n",
       "1999-01-17                                      0.0   \n",
       "1999-01-24                                      0.0   \n",
       "1999-01-31                                      0.0   \n",
       "\n",
       "            ('FISHCOUNT', 'Alagnak River')  ('FISHCOUNT', 'Chignik River')  \\\n",
       "year                                                                         \n",
       "1999-01-03                             0.0                             0.0   \n",
       "1999-01-10                             0.0                             0.0   \n",
       "1999-01-17                             0.0                             0.0   \n",
       "1999-01-24                             0.0                             0.0   \n",
       "1999-01-31                             0.0                             0.0   \n",
       "\n",
       "            ('FISHCOUNT', 'Coghill River')  \\\n",
       "year                                         \n",
       "1999-01-03                             0.0   \n",
       "1999-01-10                             0.0   \n",
       "1999-01-17                             0.0   \n",
       "1999-01-24                             0.0   \n",
       "1999-01-31                             0.0   \n",
       "\n",
       "            ('FISHCOUNT', 'Copper River (Miles L)')  \\\n",
       "year                                                  \n",
       "1999-01-03                                      0.0   \n",
       "1999-01-10                                      0.0   \n",
       "1999-01-17                                      0.0   \n",
       "1999-01-24                                      0.0   \n",
       "1999-01-31                                      0.0   \n",
       "\n",
       "            ('FISHCOUNT', 'Dog Salmon River')  ('FISHCOUNT', 'Egegik River')  \\\n",
       "year                                                                           \n",
       "1999-01-03                                0.0                            0.0   \n",
       "1999-01-10                                0.0                            0.0   \n",
       "1999-01-17                                0.0                            0.0   \n",
       "1999-01-24                                0.0                            0.0   \n",
       "1999-01-31                                0.0                            0.0   \n",
       "\n",
       "            ('FISHCOUNT', 'Eshamy Creek')  ('FISHCOUNT', 'Fish Creek')  \\\n",
       "year                                                                     \n",
       "1999-01-03                            0.0                          0.0   \n",
       "1999-01-10                            0.0                          0.0   \n",
       "1999-01-17                            0.0                          0.0   \n",
       "1999-01-24                            0.0                          0.0   \n",
       "1999-01-31                            0.0                          0.0   \n",
       "\n",
       "            ('FISHCOUNT', 'Gulkana River')  ...  \\\n",
       "year                                        ...   \n",
       "1999-01-03                             0.0  ...   \n",
       "1999-01-10                             0.0  ...   \n",
       "1999-01-17                             0.0  ...   \n",
       "1999-01-24                             0.0  ...   \n",
       "1999-01-31                             0.0  ...   \n",
       "\n",
       "            ('Average Exvessel Price per Pound', 'Prince William Sound  Chinook')  \\\n",
       "year                                                                                \n",
       "1999-01-03                                           4.196449                       \n",
       "1999-01-10                                           4.189679                       \n",
       "1999-01-17                                           4.182908                       \n",
       "1999-01-24                                           4.176138                       \n",
       "1999-01-31                                           4.169368                       \n",
       "\n",
       "            ('Average Exvessel Price per Pound', 'Prince William Sound  Sockeye')  \\\n",
       "year                                                                                \n",
       "1999-01-03                                           1.685003                       \n",
       "1999-01-10                                           1.679578                       \n",
       "1999-01-17                                           1.674153                       \n",
       "1999-01-24                                           1.668728                       \n",
       "1999-01-31                                           1.663302                       \n",
       "\n",
       "            ('Average Exvessel Price per Pound', 'Southeast                               Pink')  \\\n",
       "year                                                                                               \n",
       "1999-01-03                                           0.171220                                      \n",
       "1999-01-10                                           0.171316                                      \n",
       "1999-01-17                                           0.171413                                      \n",
       "1999-01-24                                           0.171509                                      \n",
       "1999-01-31                                           0.171606                                      \n",
       "\n",
       "            ('Average Exvessel Price per Pound', 'Southeast          Chum')  \\\n",
       "year                                                                          \n",
       "1999-01-03                                           0.205425                 \n",
       "1999-01-10                                           0.207054                 \n",
       "1999-01-17                                           0.208683                 \n",
       "1999-01-24                                           0.210313                 \n",
       "1999-01-31                                           0.211942                 \n",
       "\n",
       "            ('Average Exvessel Price per Pound', 'Southeast          Coho')  \\\n",
       "year                                                                          \n",
       "1999-01-03                                           0.967010                 \n",
       "1999-01-10                                           0.963488                 \n",
       "1999-01-17                                           0.959966                 \n",
       "1999-01-24                                           0.956444                 \n",
       "1999-01-31                                           0.952922                 \n",
       "\n",
       "            ('Average Exvessel Price per Pound', 'Southeast  Chinook')  \\\n",
       "year                                                                     \n",
       "1999-01-03                                           1.647954            \n",
       "1999-01-10                                           1.654193            \n",
       "1999-01-17                                           1.660433            \n",
       "1999-01-24                                           1.666672            \n",
       "1999-01-31                                           1.672911            \n",
       "\n",
       "            ('Average Exvessel Price per Pound', 'Southeast  Sockeye')  \\\n",
       "year                                                                     \n",
       "1999-01-03                                           1.126149            \n",
       "1999-01-10                                           1.121906            \n",
       "1999-01-17                                           1.117663            \n",
       "1999-01-24                                           1.113421            \n",
       "1999-01-31                                           1.109178            \n",
       "\n",
       "            ('Average Exvessel Price per Pound', 'Yukon          Chum')  \\\n",
       "year                                                                      \n",
       "1999-01-03                                           0.187640             \n",
       "1999-01-10                                           0.187160             \n",
       "1999-01-17                                           0.186681             \n",
       "1999-01-24                                           0.186201             \n",
       "1999-01-31                                           0.185722             \n",
       "\n",
       "            ('Average Exvessel Price per Pound', 'Yukon          Coho')  \\\n",
       "year                                                                      \n",
       "1999-01-03                                           0.345713             \n",
       "1999-01-10                                           0.344734             \n",
       "1999-01-17                                           0.343754             \n",
       "1999-01-24                                           0.342775             \n",
       "1999-01-31                                           0.341796             \n",
       "\n",
       "            ('Average Exvessel Price per Pound', 'Yukon  Chinook')  \n",
       "year                                                                \n",
       "1999-01-03                                           3.706479       \n",
       "1999-01-10                                           3.719302       \n",
       "1999-01-17                                           3.732124       \n",
       "1999-01-24                                           3.744947       \n",
       "1999-01-31                                           3.757770       \n",
       "\n",
       "[5 rows x 1369 columns]"
      ]
     },
     "execution_count": 7,
     "metadata": {},
     "output_type": "execute_result"
    }
   ],
   "source": [
    "df"
   ]
  },
  {
   "cell_type": "code",
   "execution_count": null,
   "metadata": {},
   "outputs": [],
   "source": [
    "mask = (df.iloc[:, 1:] == 0).sum(1) >= len(df.columns[1:]) / 2\n",
    "df = df[~mask]"
   ]
  },
  {
   "cell_type": "code",
   "execution_count": null,
   "metadata": {},
   "outputs": [],
   "source": [
    "df['target']"
   ]
  },
  {
   "cell_type": "code",
   "execution_count": null,
   "metadata": {},
   "outputs": [],
   "source": [
    "df['target'].plot()\n",
    "plt.title(\"Bristol Bay Drift Net Permit Pricing By 1999-2014 \")\n",
    "plt.ylabel(\"Cost($)\")\n",
    "plt.xlabel(\"Week\");\n",
    "#plt.xticks(np.arange(min(df.index), max(df.index)+1, 80.0))"
   ]
  },
  {
   "cell_type": "code",
   "execution_count": null,
   "metadata": {},
   "outputs": [],
   "source": [
    "df[df.columns[29:34]].plot();\n",
    "plt.ylabel(\"Price($)\")"
   ]
  },
  {
   "cell_type": "code",
   "execution_count": null,
   "metadata": {},
   "outputs": [],
   "source": [
    "df[df.columns[75:84]].plot();\n",
    "plt.legend(df[df.columns[75:84]], loc='center left', bbox_to_anchor=(1, 0.5));\n",
    "plt.ylabel(\"Price($)\");\n",
    "plt.title(\"Price Per Pound By Area\",size=(20))"
   ]
  },
  {
   "cell_type": "code",
   "execution_count": null,
   "metadata": {},
   "outputs": [],
   "source": [
    "df[df.columns[336:351]].plot();\n",
    "plt.legend(df[df.columns[336:347]], loc='center left', bbox_to_anchor=(1, 0.5))\n",
    "plt.ylabel(\"Price($)\")\n",
    "plt.title(\"Bristol Bay Salmon Products By Year\",size=(20))"
   ]
  },
  {
   "cell_type": "code",
   "execution_count": null,
   "metadata": {},
   "outputs": [],
   "source": [
    "corr_df = pd.DataFrame(df.corr()['target'])# split up over .5 correlation coefficient\n",
    "strong_pos = corr_df['target'] > .3# strong positive correlation\n",
    "strong_pos_corr_df = corr_df[strong_pos]\n",
    "strong_pos_corr_df.drop(index = 'target',inplace=True)"
   ]
  },
  {
   "cell_type": "code",
   "execution_count": null,
   "metadata": {},
   "outputs": [],
   "source": [
    "strong_neg = corr_df['target'] < (-.8)\n",
    "strong_neg_corr_df = corr_df[strong_neg]\n",
    "#strong_neg_corr_df.drop(index = 'target',inplace=True)\n"
   ]
  },
  {
   "cell_type": "code",
   "execution_count": null,
   "metadata": {
    "scrolled": true
   },
   "outputs": [],
   "source": [
    "sns.set(style=\"whitegrid\")# plot strong coefficient values\n",
    "f, ax = plt.subplots(figsize=(20, 15))\n",
    "sns.heatmap((strong_pos_corr_df.sort_values('target',ascending=False).head(10)),annot = True)\n",
    "plt.title('Features Positive Correlation',{'fontsize': 20});\n"
   ]
  },
  {
   "cell_type": "code",
   "execution_count": null,
   "metadata": {},
   "outputs": [],
   "source": [
    "sns.set(style=\"darkgrid\")# plot strong coefficient values\n",
    "f, ax = plt.subplots(figsize=(20, 15))\n",
    "sns.heatmap((strong_neg_corr_df.sort_values('target',ascending=False).head(15)),annot = True)\n",
    "plt.title('Features Negative Correlation',{'fontsize': 20});\n",
    "\n"
   ]
  },
  {
   "cell_type": "code",
   "execution_count": null,
   "metadata": {},
   "outputs": [],
   "source": [
    "df[df.columns[608]].plot()\n",
    "plt.title(\"US Seafood Supply Per Capita\")\n",
    "plt.ylabel(\"KG/Capita\");"
   ]
  },
  {
   "cell_type": "code",
   "execution_count": null,
   "metadata": {},
   "outputs": [],
   "source": [
    "food_supply = df[df.columns[410:621]]\n",
    "mean_food = food_supply.mean()\n",
    "mean_food.sort_values(ascending=False).head(10).plot(kind='barh')\n",
    "plt.xlabel(\"Seafood Production Per Capita kg per Year\")\n",
    "plt.title(\"Top Seafood Producers per Capita\")"
   ]
  },
  {
   "cell_type": "code",
   "execution_count": null,
   "metadata": {},
   "outputs": [],
   "source": [
    "fish_farming = df[df.columns[621:841]]\n",
    "mean_farm = fish_farming.mean()\n",
    "mean_farm.sort_values(ascending=False).head(10).plot(kind='barh')\n",
    "plt.xlabel(\"Aquaculture Metric Tons(Millions)\")\n",
    "plt.title(\"Aquaculture Metric Tons\")"
   ]
  },
  {
   "cell_type": "code",
   "execution_count": null,
   "metadata": {},
   "outputs": [],
   "source": [
    "df[df.columns[837]].plot()\n",
    "plt.title(\"World Production of Aquaculture By Year\")\n",
    "plt.ylabel(\"Metric Tons\");"
   ]
  },
  {
   "cell_type": "code",
   "execution_count": null,
   "metadata": {},
   "outputs": [],
   "source": [
    "mean_fish = df[df.columns[841:1097]]\n",
    "mean_fish = fishing.mean()\n",
    "mean_fish.sort_values(ascending=False).head(10).plot(kind='barh')\n",
    "plt.xlabel(\"Fishing Metric Tons(Millions)\")\n",
    "plt.title(\"Fishing Metric Tons\")"
   ]
  },
  {
   "cell_type": "code",
   "execution_count": null,
   "metadata": {},
   "outputs": [],
   "source": [
    "df[df.columns[1093]].plot()\n",
    "plt.title(\"World Fishing Totals\")\n",
    "plt.ylabel(\"Metric Tons(millions)\");\n"
   ]
  },
  {
   "cell_type": "code",
   "execution_count": null,
   "metadata": {},
   "outputs": [],
   "source": [
    "df[df.columns[1113:1117]].plot();\n",
    "plt.legend(df[df.columns[1113:1117]], loc='center left', bbox_to_anchor=(1, 0.5))\n",
    "plt.ylabel(\"# of Companies\")\n",
    "plt.title(\"Processing Companies By Sockeye Product\",size=(20))"
   ]
  },
  {
   "cell_type": "code",
   "execution_count": null,
   "metadata": {},
   "outputs": [],
   "source": [
    "df[df.columns[1133:1137]].plot();\n",
    "plt.legend(df[df.columns[1133:1137]], loc='center left', bbox_to_anchor=(1, 0.5))\n",
    "plt.ylabel(\"Net Weigt for Sockeye AK(millions)\")\n",
    "plt.title(\"Net Weight for Sockeye Product AK\",size=(20))"
   ]
  },
  {
   "cell_type": "code",
   "execution_count": null,
   "metadata": {},
   "outputs": [],
   "source": [
    "df[df.columns[1117:1137]].plot()\n",
    "plt.legend(df[df.columns[1117:1137]], loc='center left', bbox_to_anchor=(1, 0.5))\n",
    "plt.ylabel(\"Net Weight for Salmon Products AK(millions)\")\n",
    "plt.title(\"Net Weight for Salmon Product AK\",size=(20))"
   ]
  },
  {
   "cell_type": "code",
   "execution_count": null,
   "metadata": {},
   "outputs": [],
   "source": [
    "\n",
    "df[df.columns[1137:1157]].plot()\n",
    "plt.legend(df[df.columns[1137:1157]], loc='center left', bbox_to_anchor=(1, 0.5))\n",
    "plt.ylabel(\"Wholesale Value Salmon Products ($)\")\n",
    "plt.title(\"Wholesale Value for Salmon Products\",size=(20))"
   ]
  },
  {
   "cell_type": "code",
   "execution_count": null,
   "metadata": {},
   "outputs": [],
   "source": [
    "top_regions = df[df.columns[1157:1211]]\n",
    "mean = top_regions.mean()\n",
    "mean.sort_values(ascending=False).head(10).plot(kind='barh')\n",
    "plt.xlabel(\"Ex Vessel Value By Region AK\")\n",
    "plt.title(\"Top (Salmon Ex Vessel Value) Regions ($)\")"
   ]
  },
  {
   "cell_type": "code",
   "execution_count": null,
   "metadata": {},
   "outputs": [],
   "source": [
    "df[df.columns[1166]].plot()\n",
    "plt.ylabel(\"Estimated Ex vessel Value for BB Sockeye\")\n",
    "plt.title(\"Wholesale Value for BB Sockeye\",size=(20))"
   ]
  },
  {
   "cell_type": "code",
   "execution_count": null,
   "metadata": {},
   "outputs": [],
   "source": [
    "top_regions = df[df.columns[1211:1265]]\n",
    "mean = top_regions.mean()\n",
    "mean.sort_values(ascending=False).head(10).plot(kind='barh')\n",
    "plt.xlabel(\"# of Fish(Millions)\")\n",
    "plt.title(\"Top Salmon Regions By Number of Fish (Millions) Avg Years(1999-2014)\");"
   ]
  },
  {
   "cell_type": "code",
   "execution_count": null,
   "metadata": {},
   "outputs": [],
   "source": [
    "df[df.columns[1220]].plot()\n",
    "plt.ylabel(\"Number of Returning BB Sockeye\")\n",
    "plt.title(\"# of Returning BB Sockeye 1999-2014\",size=(20))"
   ]
  },
  {
   "cell_type": "code",
   "execution_count": null,
   "metadata": {},
   "outputs": [],
   "source": [
    "top_regions = df[df.columns[1265:1319]]\n",
    "mean = top_regions.mean()\n",
    "mean.sort_values(ascending=False).head(10).plot(kind='barh')\n",
    "plt.xlabel(\"AVG # of lbs By Year\")\n",
    "plt.title(\"Top Salmon Regions By lbs Avg Years(1999-2014)\");"
   ]
  },
  {
   "cell_type": "code",
   "execution_count": null,
   "metadata": {},
   "outputs": [],
   "source": [
    "df[df.columns[1274]].plot()\n",
    "plt.ylabel(\"AVG # of lbs BB Sockeye\")\n",
    "plt.title(\"AVG # of lbs BB Sockeye 1999-2014\",size=(20))"
   ]
  },
  {
   "cell_type": "code",
   "execution_count": null,
   "metadata": {},
   "outputs": [],
   "source": [
    "top_regions = df[df.columns[1319:]]\n",
    "mean = top_regions.mean()\n",
    "mean.sort_values(ascending=False).head(15).plot(kind='barh')\n",
    "plt.xlabel(\"price per Lb\")\n",
    "plt.title(\"Top Avg Exvessel Price/lb(1999-2014) AK\");"
   ]
  },
  {
   "cell_type": "code",
   "execution_count": null,
   "metadata": {},
   "outputs": [],
   "source": [
    "df[df.columns[1328]].plot()\n",
    "plt.ylabel(\"price Per Pound ($)\")\n",
    "plt.title(\"Price Per Lb BB Sockeye 1999-2014\",size=(20))"
   ]
  },
  {
   "cell_type": "code",
   "execution_count": null,
   "metadata": {},
   "outputs": [],
   "source": [
    "df.to_csv(\"df_clean.csv\")"
   ]
  },
  {
   "cell_type": "code",
   "execution_count": null,
   "metadata": {},
   "outputs": [],
   "source": []
  }
 ],
 "metadata": {
  "kernelspec": {
   "display_name": "Python 3",
   "language": "python",
   "name": "python3"
  },
  "language_info": {
   "codemirror_mode": {
    "name": "ipython",
    "version": 3
   },
   "file_extension": ".py",
   "mimetype": "text/x-python",
   "name": "python",
   "nbconvert_exporter": "python",
   "pygments_lexer": "ipython3",
   "version": "3.7.4"
  }
 },
 "nbformat": 4,
 "nbformat_minor": 2
}
