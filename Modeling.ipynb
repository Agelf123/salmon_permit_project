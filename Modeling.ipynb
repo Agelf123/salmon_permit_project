{
 "cells": [
  {
   "cell_type": "code",
   "execution_count": 1,
   "metadata": {},
   "outputs": [
    {
     "name": "stderr",
     "output_type": "stream",
     "text": [
      "\n",
      "Bad key \"text.kerning_factor\" on line 4 in\n",
      "/Users/aryehgelfand/opt/anaconda3/lib/python3.7/site-packages/matplotlib/mpl-data/stylelib/_classic_test_patch.mplstyle.\n",
      "You probably need to get an updated matplotlibrc file from\n",
      "https://github.com/matplotlib/matplotlib/blob/v3.1.3/matplotlibrc.template\n",
      "or from the matplotlib source distribution\n"
     ]
    }
   ],
   "source": [
    "import pandas as pd\n",
    "from sklearn.model_selection import train_test_split\n",
    "from pandas.plotting import register_matplotlib_converters\n",
    "from statsmodels.tsa.seasonal import seasonal_decompose\n",
    "from statsmodels.graphics.tsaplots import plot_acf,plot_pacf\n",
    "import statsmodels.api as sm \n",
    "from sklearn.linear_model import LinearRegression\n",
    "import numpy as np\n",
    "from statsmodels.tsa.statespace.sarimax import SARIMAX\n",
    "import matplotlib.pyplot as plt\n",
    "from statsmodels.base.elastic_net import RegularizedResults\n",
    "from sklearn.model_selection import train_test_split,cross_val_score\n",
    "from sklearn.metrics import mean_squared_error, make_scorer\n",
    "from sklearn.preprocessing import StandardScaler, PolynomialFeatures\n",
    "from sklearn.linear_model import Ridge\n",
    "from sklearn.linear_model import RidgeCV\n",
    "from sklearn.linear_model import Lasso, LassoCV, MultiTaskLassoCV\n",
    "from statsmodels.tsa.arima_model import ARIMA\n",
    "from statsmodels.tsa.stattools import adfuller # ADFuller Hypothesis test\n",
    "from pmdarima.arima import auto_arima\n",
    "from statsmodels.tsa.arima_model import ARIMA\n",
    "from sklearn.decomposition import PCA\n",
    "from statsmodels.tsa.api import VAR\n",
    "from tensorflow.keras.models import Sequential\n",
    "from tensorflow.keras.layers import Dense, Dropout, GRU,LSTM\n",
    "from tensorflow.keras.optimizers import Adam\n",
    "from tensorflow.keras.preprocessing.sequence import TimeseriesGenerator\n",
    "from tensorflow.keras import regularizers\n",
    "from tensorflow.keras.layers import Dropout\n",
    "from tensorflow.keras.callbacks import EarlyStopping"
   ]
  },
  {
   "cell_type": "markdown",
   "metadata": {},
   "source": [
    "# Table of Contents"
   ]
  },
  {
   "cell_type": "markdown",
   "metadata": {},
   "source": [
    " - 1. [Model Preparation](#Model-Preparation)\n",
    " - 2. [Baseline Model](#Baseline-Model)\n",
    " - 3. [Linear Regression](#Linear-Regression)\n",
    " - 4. [LASSO Linear Regression](#LASSO-Linear-Regression )\n",
    " - 5. [PCA](#PCA )\n",
    " - 6. [Determining Time Series Order](#Determining-Time-Series-Order)\n",
    " - 7. [ARIMAX](#ARIMAX)\n",
    " - 8. [SARIMAX](#SARIMAX)\n",
    " - 9. [SARIMA Full Data](#SARIMA-Full-Data)\n",
    " - 10 .[VAR](#VAR) \n",
    " - 11 .[RNN](#RNN) \n",
    " - 12. [Model Selection](#Model-Selection)\n",
    " - 13. [Model Evaluation](#Model-Evaluation)\n",
    " - 14. [Conclusions/Recommendations](#Conclusions/Recommendations)"
   ]
  },
  {
   "cell_type": "markdown",
   "metadata": {},
   "source": [
    "# Model Preparation"
   ]
  },
  {
   "cell_type": "code",
   "execution_count": 2,
   "metadata": {
    "scrolled": true
   },
   "outputs": [],
   "source": [
    "\n",
    "df = pd.read_csv(\"df_clean.csv\")"
   ]
  },
  {
   "cell_type": "code",
   "execution_count": 3,
   "metadata": {},
   "outputs": [],
   "source": [
    "df.index = df.index.astype(float)"
   ]
  },
  {
   "cell_type": "code",
   "execution_count": 4,
   "metadata": {},
   "outputs": [],
   "source": [
    "df.set_index('year',inplace=True)"
   ]
  },
  {
   "cell_type": "markdown",
   "metadata": {},
   "source": [
    "We initally split our data into train and test sets but then used a different to do this."
   ]
  },
  {
   "cell_type": "code",
   "execution_count": 30,
   "metadata": {},
   "outputs": [],
   "source": [
    "X = df.drop(columns = 'target')\n",
    "y = df['target']\n",
    "\n",
    "X_train,X_test,y_train,y_test = train_test_split(X,y,test_size = .2,shuffle=False)\n",
    "sc = StandardScaler()\n",
    "X_train_ss = sc.fit_transform(X_train)\n",
    "X_test_ss = sc.transform(X_test)# We must scale the data before regularization\n",
    "X_ss = sc.transform(X)\n"
   ]
  },
  {
   "cell_type": "markdown",
   "metadata": {},
   "source": [
    "# Baseline Model"
   ]
  },
  {
   "cell_type": "code",
   "execution_count": 23,
   "metadata": {},
   "outputs": [
    {
     "name": "stdout",
     "output_type": "stream",
     "text": [
      "the baseline RMSE is 39301.05435707757\n"
     ]
    }
   ],
   "source": [
    "y_pred = y.mean()\n",
    "baseline  = np.sqrt(((y-y_pred)**2).mean())\n",
    "print(f'the baseline RMSE is {baseline}')"
   ]
  },
  {
   "cell_type": "markdown",
   "metadata": {},
   "source": [
    "The baseline error for our data is an RMSE of 39k$ "
   ]
  },
  {
   "cell_type": "markdown",
   "metadata": {},
   "source": [
    "# Linear Regression"
   ]
  },
  {
   "cell_type": "code",
   "execution_count": 24,
   "metadata": {},
   "outputs": [
    {
     "data": {
      "text/plain": [
       "LinearRegression(copy_X=True, fit_intercept=True, n_jobs=None, normalize=False)"
      ]
     },
     "execution_count": 24,
     "metadata": {},
     "output_type": "execute_result"
    }
   ],
   "source": [
    "lr = LinearRegression()\n",
    "lr.fit(X_train, y_train)# fit linear regression model"
   ]
  },
  {
   "cell_type": "code",
   "execution_count": 25,
   "metadata": {},
   "outputs": [],
   "source": [
    "def rmse(y_true,y_pred):\n",
    "    \n",
    "\n",
    "    mse = mean_squared_error(y_true,y_pred)\n",
    "    rmse = np.sqrt(mse)\n",
    "    return rmse"
   ]
  },
  {
   "cell_type": "code",
   "execution_count": 26,
   "metadata": {},
   "outputs": [
    {
     "name": "stdout",
     "output_type": "stream",
     "text": [
      "linear regression train RMSE is 1119.9921847196501\n"
     ]
    }
   ],
   "source": [
    "train_preds = lr.predict(X_train)\n",
    "print(f'linear regression train RMSE is {rmse(y_train,train_preds)}')"
   ]
  },
  {
   "cell_type": "code",
   "execution_count": 246,
   "metadata": {},
   "outputs": [
    {
     "name": "stdout",
     "output_type": "stream",
     "text": [
      "linear regression test RMSE is 2.89328714955734e+16\n"
     ]
    }
   ],
   "source": [
    "test_preds = lr.predict(X_test)\n",
    "print(f'linear regression test RMSE is {rmse(y_test,test_preds)}')\n"
   ]
  },
  {
   "cell_type": "code",
   "execution_count": 28,
   "metadata": {},
   "outputs": [
    {
     "data": {
      "text/plain": [
       "6359212817287235.0"
      ]
     },
     "execution_count": 28,
     "metadata": {},
     "output_type": "execute_result"
    }
   ],
   "source": [
    "lr_scores = cross_val_score(lr, X, y, cv=5,scoring = make_scorer(rmse))\n",
    "lr_scores.mean()"
   ]
  },
  {
   "cell_type": "markdown",
   "metadata": {},
   "source": [
    "The first attempt to predict permit values does worse than baseline."
   ]
  },
  {
   "cell_type": "markdown",
   "metadata": {},
   "source": [
    "We want to reduce the amount of features in the model, so we used LASSO regularization to reduce features"
   ]
  },
  {
   "cell_type": "markdown",
   "metadata": {},
   "source": [
    "# LASSO Linear Regression"
   ]
  },
  {
   "cell_type": "code",
   "execution_count": 31,
   "metadata": {},
   "outputs": [
    {
     "name": "stderr",
     "output_type": "stream",
     "text": [
      "/Users/aryehgelfand/opt/anaconda3/lib/python3.7/site-packages/sklearn/linear_model/_coordinate_descent.py:476: ConvergenceWarning: Objective did not converge. You might want to increase the number of iterations. Duality gap: 383091785.33500504, tolerance: 81492297.0550389\n",
      "  positive)\n"
     ]
    },
    {
     "data": {
      "text/plain": [
       "Lasso(alpha=10, copy_X=True, fit_intercept=True, max_iter=1000, normalize=False,\n",
       "      positive=False, precompute=False, random_state=None, selection='cyclic',\n",
       "      tol=0.0001, warm_start=False)"
      ]
     },
     "execution_count": 31,
     "metadata": {},
     "output_type": "execute_result"
    }
   ],
   "source": [
    "lasso_model = Lasso(10)\n",
    "lasso_model.fit(X_train_ss, y_train)"
   ]
  },
  {
   "cell_type": "code",
   "execution_count": 33,
   "metadata": {},
   "outputs": [],
   "source": [
    "lasso_train_preds = lasso_model.predict(X_train_ss)\n",
    "lasso_test_preds = lasso_model.predict(X_test_ss)"
   ]
  },
  {
   "cell_type": "code",
   "execution_count": 34,
   "metadata": {},
   "outputs": [
    {
     "name": "stdout",
     "output_type": "stream",
     "text": [
      "lasso train RMSE is 967.7451080264037\n",
      "lasso test RMSE is 150762.98276643534\n"
     ]
    }
   ],
   "source": [
    "print(f'lasso train RMSE is {rmse(y_train,lasso_train_preds)}')\n",
    "print(f'lasso test RMSE is {rmse(y_test,lasso_test_preds)}')"
   ]
  },
  {
   "cell_type": "markdown",
   "metadata": {},
   "source": [
    "This model did not outperform baseline"
   ]
  },
  {
   "cell_type": "code",
   "execution_count": 35,
   "metadata": {},
   "outputs": [],
   "source": [
    "lasso_coef = lasso_model.coef_"
   ]
  },
  {
   "cell_type": "code",
   "execution_count": 36,
   "metadata": {},
   "outputs": [
    {
     "name": "stdout",
     "output_type": "stream",
     "text": [
      "Lasso picked 1368 variables and eliminated the other 0 variables \n"
     ]
    }
   ],
   "source": [
    "lasso_model_coef = pd.Series(lasso_coef[0], index = X_train.columns)\n",
    "print('Lasso picked ' +  str(sum(lasso_model_coef != 0)) +  ' variables and eliminated the other '  + str(sum(lasso_model_coef == 0)) + ' variables ') "
   ]
  },
  {
   "cell_type": "markdown",
   "metadata": {},
   "source": [
    "it also didnt take out any features so this was unsuccesful"
   ]
  },
  {
   "cell_type": "code",
   "execution_count": 37,
   "metadata": {},
   "outputs": [],
   "source": [
    "df = df.loc[:, (df != df.iloc[0]).any()]"
   ]
  },
  {
   "cell_type": "markdown",
   "metadata": {},
   "source": [
    "# PCA"
   ]
  },
  {
   "cell_type": "code",
   "execution_count": 221,
   "metadata": {},
   "outputs": [],
   "source": [
    "pca_99 = PCA(.99, random_state = 42)\n",
    "\n",
    "Z_train = pca_99.fit_transform(X_train_ss)\n",
    "Z_test = pca_99.transform(X_test_ss)\n",
    "Z = pca_99.fit_transform(X_ss)\n"
   ]
  },
  {
   "cell_type": "markdown",
   "metadata": {},
   "source": [
    "In order to perform feature reduction we used Principle Component Analysis to gather the Principle Components of our features and cpature 99% of the explained variance in our features. We created 26 new features that have all the variance of our 1306 features."
   ]
  },
  {
   "cell_type": "code",
   "execution_count": 165,
   "metadata": {},
   "outputs": [],
   "source": [
    "Z = (pd.DataFrame(Z, columns = [f\"PC{i + 1}\" for i in range(Z.shape[1])],index = X.index))"
   ]
  },
  {
   "cell_type": "code",
   "execution_count": 41,
   "metadata": {},
   "outputs": [],
   "source": [
    "loadings = pca_99.components_.T * np.sqrt(pca_99.explained_variance_)\n",
    "\n",
    "loading_matrix = pd.DataFrame(loadings, columns = [f\"PC{i + 1}\" for i in range(loadings.shape[1])],index=X.columns)\n"
   ]
  },
  {
   "cell_type": "markdown",
   "metadata": {},
   "source": [
    "Lets examine of two our PCA features to see what they are made out of."
   ]
  },
  {
   "cell_type": "code",
   "execution_count": 42,
   "metadata": {},
   "outputs": [
    {
     "data": {
      "text/html": [
       "<div>\n",
       "<style scoped>\n",
       "    .dataframe tbody tr th:only-of-type {\n",
       "        vertical-align: middle;\n",
       "    }\n",
       "\n",
       "    .dataframe tbody tr th {\n",
       "        vertical-align: top;\n",
       "    }\n",
       "\n",
       "    .dataframe thead th {\n",
       "        text-align: right;\n",
       "    }\n",
       "</style>\n",
       "<table border=\"1\" class=\"dataframe\">\n",
       "  <thead>\n",
       "    <tr style=\"text-align: right;\">\n",
       "      <th></th>\n",
       "      <th>PC1</th>\n",
       "    </tr>\n",
       "  </thead>\n",
       "  <tbody>\n",
       "    <tr>\n",
       "      <th>('Aquaculture (metric tons)', 'Marshall Islands')</th>\n",
       "      <td>27.632069</td>\n",
       "    </tr>\n",
       "    <tr>\n",
       "      <th>('Pounds', 'Norton Sound  AYK  Coho')</th>\n",
       "      <td>10.182972</td>\n",
       "    </tr>\n",
       "    <tr>\n",
       "      <th>('Aquaculture (metric tons)', 'Burundi')</th>\n",
       "      <td>10.114997</td>\n",
       "    </tr>\n",
       "    <tr>\n",
       "      <th>('Number Of Fish', 'Norton Sound  AYK  Coho')</th>\n",
       "      <td>7.676036</td>\n",
       "    </tr>\n",
       "    <tr>\n",
       "      <th>('Fish and seafood supply per person (kilograms per year)', 'Afghanistan')</th>\n",
       "      <td>6.404615</td>\n",
       "    </tr>\n",
       "    <tr>\n",
       "      <th>('Fish and seafood supply per person (kilograms per year)', 'Zambia')</th>\n",
       "      <td>4.818869</td>\n",
       "    </tr>\n",
       "    <tr>\n",
       "      <th>('Capture fisheries (metric tons)', 'Laos')</th>\n",
       "      <td>4.731128</td>\n",
       "    </tr>\n",
       "    <tr>\n",
       "      <th>('Capture fisheries (metric tons)', 'Armenia')</th>\n",
       "      <td>4.478039</td>\n",
       "    </tr>\n",
       "    <tr>\n",
       "      <th>('Wholesale Average Price per Pound', 'Chinook Bristol Bay Fillets with skin &amp; ribs')</th>\n",
       "      <td>4.384386</td>\n",
       "    </tr>\n",
       "    <tr>\n",
       "      <th>('Aquaculture (metric tons)', 'Senegal')</th>\n",
       "      <td>3.766764</td>\n",
       "    </tr>\n",
       "  </tbody>\n",
       "</table>\n",
       "</div>"
      ],
      "text/plain": [
       "                                                          PC1\n",
       "('Aquaculture (metric tons)', 'Marshall Islands')   27.632069\n",
       "('Pounds', 'Norton Sound  AYK  Coho')               10.182972\n",
       "('Aquaculture (metric tons)', 'Burundi')            10.114997\n",
       "('Number Of Fish', 'Norton Sound  AYK  Coho')        7.676036\n",
       "('Fish and seafood supply per person (kilograms...   6.404615\n",
       "('Fish and seafood supply per person (kilograms...   4.818869\n",
       "('Capture fisheries (metric tons)', 'Laos')          4.731128\n",
       "('Capture fisheries (metric tons)', 'Armenia')       4.478039\n",
       "('Wholesale Average Price per Pound', 'Chinook ...   4.384386\n",
       "('Aquaculture (metric tons)', 'Senegal')             3.766764"
      ]
     },
     "execution_count": 42,
     "metadata": {},
     "output_type": "execute_result"
    }
   ],
   "source": [
    "loading_matrix.sort_values(by=\"PC1\", ascending = False)[[\"PC1\"]].head(10)"
   ]
  },
  {
   "cell_type": "markdown",
   "metadata": {},
   "source": [
    "The most important pieces of PCA1 are metric related to Norton Sound Chinook, a highly correlated fishery to BB sockeye. Also featured prominently is capture fisheries for competitive markets. Especially Japan, this is a major market for BB salmon. "
   ]
  },
  {
   "cell_type": "code",
   "execution_count": 43,
   "metadata": {
    "scrolled": true
   },
   "outputs": [
    {
     "data": {
      "text/html": [
       "<div>\n",
       "<style scoped>\n",
       "    .dataframe tbody tr th:only-of-type {\n",
       "        vertical-align: middle;\n",
       "    }\n",
       "\n",
       "    .dataframe tbody tr th {\n",
       "        vertical-align: top;\n",
       "    }\n",
       "\n",
       "    .dataframe thead th {\n",
       "        text-align: right;\n",
       "    }\n",
       "</style>\n",
       "<table border=\"1\" class=\"dataframe\">\n",
       "  <thead>\n",
       "    <tr style=\"text-align: right;\">\n",
       "      <th></th>\n",
       "      <th>PC1</th>\n",
       "    </tr>\n",
       "  </thead>\n",
       "  <tbody>\n",
       "    <tr>\n",
       "      <th>('Capture fisheries (metric tons)', 'Latin America &amp; Caribbean')</th>\n",
       "      <td>-1.113864</td>\n",
       "    </tr>\n",
       "    <tr>\n",
       "      <th>('Capture fisheries (metric tons)', 'Latin America &amp; Caribbean (IDA &amp; IBRD)')</th>\n",
       "      <td>-1.117200</td>\n",
       "    </tr>\n",
       "    <tr>\n",
       "      <th>('Fish and seafood supply per person (kilograms per year)', 'Senegal')</th>\n",
       "      <td>-1.154732</td>\n",
       "    </tr>\n",
       "    <tr>\n",
       "      <th>('Fish and seafood supply per person (kilograms per year)', 'Belize')</th>\n",
       "      <td>-1.171162</td>\n",
       "    </tr>\n",
       "    <tr>\n",
       "      <th>('Capture fisheries (metric tons)', 'Turkey')</th>\n",
       "      <td>-1.209956</td>\n",
       "    </tr>\n",
       "    <tr>\n",
       "      <th>('Capture fisheries (metric tons)', 'Chile')</th>\n",
       "      <td>-1.237963</td>\n",
       "    </tr>\n",
       "    <tr>\n",
       "      <th>('Fish and seafood supply per person (kilograms per year)', 'Turkey')</th>\n",
       "      <td>-1.244120</td>\n",
       "    </tr>\n",
       "    <tr>\n",
       "      <th>('Aquaculture (metric tons)', 'France')</th>\n",
       "      <td>-1.271388</td>\n",
       "    </tr>\n",
       "    <tr>\n",
       "      <th>('Capture fisheries (metric tons)', 'Turks and Caicos Islands')</th>\n",
       "      <td>-1.295392</td>\n",
       "    </tr>\n",
       "    <tr>\n",
       "      <th>('Aquaculture (metric tons)', 'Syrian Arab Republic')</th>\n",
       "      <td>-1.393378</td>\n",
       "    </tr>\n",
       "  </tbody>\n",
       "</table>\n",
       "</div>"
      ],
      "text/plain": [
       "                                                         PC1\n",
       "('Capture fisheries (metric tons)', 'Latin Amer... -1.113864\n",
       "('Capture fisheries (metric tons)', 'Latin Amer... -1.117200\n",
       "('Fish and seafood supply per person (kilograms... -1.154732\n",
       "('Fish and seafood supply per person (kilograms... -1.171162\n",
       "('Capture fisheries (metric tons)', 'Turkey')      -1.209956\n",
       "('Capture fisheries (metric tons)', 'Chile')       -1.237963\n",
       "('Fish and seafood supply per person (kilograms... -1.244120\n",
       "('Aquaculture (metric tons)', 'France')            -1.271388\n",
       "('Capture fisheries (metric tons)', 'Turks and ... -1.295392\n",
       "('Aquaculture (metric tons)', 'Syrian Arab Repu... -1.393378"
      ]
     },
     "execution_count": 43,
     "metadata": {},
     "output_type": "execute_result"
    }
   ],
   "source": [
    "loading_matrix.sort_values(by=\"PC1\", ascending = False)[[\"PC1\"]].tail(10)"
   ]
  },
  {
   "cell_type": "markdown",
   "metadata": {},
   "source": [
    "Negatively correlated components for PCA1 are competative markets as well and chum in PWS. Also, Norton Sound Sockeye shows up here as it is competitive product for BB sockeye."
   ]
  },
  {
   "cell_type": "code",
   "execution_count": 44,
   "metadata": {
    "scrolled": true
   },
   "outputs": [
    {
     "data": {
      "text/html": [
       "<div>\n",
       "<style scoped>\n",
       "    .dataframe tbody tr th:only-of-type {\n",
       "        vertical-align: middle;\n",
       "    }\n",
       "\n",
       "    .dataframe tbody tr th {\n",
       "        vertical-align: top;\n",
       "    }\n",
       "\n",
       "    .dataframe thead th {\n",
       "        text-align: right;\n",
       "    }\n",
       "</style>\n",
       "<table border=\"1\" class=\"dataframe\">\n",
       "  <thead>\n",
       "    <tr style=\"text-align: right;\">\n",
       "      <th></th>\n",
       "      <th>PC2</th>\n",
       "    </tr>\n",
       "  </thead>\n",
       "  <tbody>\n",
       "    <tr>\n",
       "      <th>('Aquaculture (metric tons)', 'Marshall Islands')</th>\n",
       "      <td>15.490479</td>\n",
       "    </tr>\n",
       "    <tr>\n",
       "      <th>('Aquaculture (metric tons)', 'Burundi')</th>\n",
       "      <td>2.295186</td>\n",
       "    </tr>\n",
       "    <tr>\n",
       "      <th>('Capture fisheries (metric tons)', 'Guam')</th>\n",
       "      <td>1.117565</td>\n",
       "    </tr>\n",
       "    <tr>\n",
       "      <th>('Capture fisheries (metric tons)', 'Lebanon')</th>\n",
       "      <td>1.050624</td>\n",
       "    </tr>\n",
       "    <tr>\n",
       "      <th>('Capture fisheries (metric tons)', 'Brunei')</th>\n",
       "      <td>1.040345</td>\n",
       "    </tr>\n",
       "    <tr>\n",
       "      <th>('Capture fisheries (metric tons)', 'Romania')</th>\n",
       "      <td>0.855625</td>\n",
       "    </tr>\n",
       "    <tr>\n",
       "      <th>('Capture fisheries (metric tons)', 'Mauritius')</th>\n",
       "      <td>0.842878</td>\n",
       "    </tr>\n",
       "    <tr>\n",
       "      <th>('Fish and seafood supply per person (kilograms per year)', 'Madagascar')</th>\n",
       "      <td>0.796959</td>\n",
       "    </tr>\n",
       "    <tr>\n",
       "      <th>('Fish and seafood supply per person (kilograms per year)', 'Mali')</th>\n",
       "      <td>0.779323</td>\n",
       "    </tr>\n",
       "    <tr>\n",
       "      <th>('Fish and seafood supply per person (kilograms per year)', 'Kiribati')</th>\n",
       "      <td>0.740961</td>\n",
       "    </tr>\n",
       "  </tbody>\n",
       "</table>\n",
       "</div>"
      ],
      "text/plain": [
       "                                                          PC2\n",
       "('Aquaculture (metric tons)', 'Marshall Islands')   15.490479\n",
       "('Aquaculture (metric tons)', 'Burundi')             2.295186\n",
       "('Capture fisheries (metric tons)', 'Guam')          1.117565\n",
       "('Capture fisheries (metric tons)', 'Lebanon')       1.050624\n",
       "('Capture fisheries (metric tons)', 'Brunei')        1.040345\n",
       "('Capture fisheries (metric tons)', 'Romania')       0.855625\n",
       "('Capture fisheries (metric tons)', 'Mauritius')     0.842878\n",
       "('Fish and seafood supply per person (kilograms...   0.796959\n",
       "('Fish and seafood supply per person (kilograms...   0.779323\n",
       "('Fish and seafood supply per person (kilograms...   0.740961"
      ]
     },
     "execution_count": 44,
     "metadata": {},
     "output_type": "execute_result"
    }
   ],
   "source": [
    "loading_matrix.sort_values(by=\"PC2\", ascending = False)[[\"PC2\"]].head(10)"
   ]
  },
  {
   "cell_type": "markdown",
   "metadata": {},
   "source": [
    "Here we have chignik salmon represented with a a lot of variance and shrimp price, a metric used to determine the srength of the fishing industry"
   ]
  },
  {
   "cell_type": "code",
   "execution_count": 45,
   "metadata": {},
   "outputs": [
    {
     "data": {
      "text/html": [
       "<div>\n",
       "<style scoped>\n",
       "    .dataframe tbody tr th:only-of-type {\n",
       "        vertical-align: middle;\n",
       "    }\n",
       "\n",
       "    .dataframe tbody tr th {\n",
       "        vertical-align: top;\n",
       "    }\n",
       "\n",
       "    .dataframe thead th {\n",
       "        text-align: right;\n",
       "    }\n",
       "</style>\n",
       "<table border=\"1\" class=\"dataframe\">\n",
       "  <thead>\n",
       "    <tr style=\"text-align: right;\">\n",
       "      <th></th>\n",
       "      <th>PC2</th>\n",
       "    </tr>\n",
       "  </thead>\n",
       "  <tbody>\n",
       "    <tr>\n",
       "      <th>('Wholesale Average Price per Pound', 'Sockeye Southeast Whole fish/food fish')</th>\n",
       "      <td>-1.055085</td>\n",
       "    </tr>\n",
       "    <tr>\n",
       "      <th>('Pounds', 'Norton Sound  AYK  Chum')</th>\n",
       "      <td>-1.060359</td>\n",
       "    </tr>\n",
       "    <tr>\n",
       "      <th>('Estimated Exvessel Value (Nominal)', 'Cook Inlet  Central  Pink')</th>\n",
       "      <td>-1.061681</td>\n",
       "    </tr>\n",
       "    <tr>\n",
       "      <th>('Estimated Exvessel Value (Nominal)', 'Norton Sound  AYK  Chum')</th>\n",
       "      <td>-1.096064</td>\n",
       "    </tr>\n",
       "    <tr>\n",
       "      <th>('Aquaculture (metric tons)', 'Uruguay')</th>\n",
       "      <td>-1.108255</td>\n",
       "    </tr>\n",
       "    <tr>\n",
       "      <th>('Estimated Exvessel Value (Nominal)', 'Norton Sound  AYK  Coho')</th>\n",
       "      <td>-1.118929</td>\n",
       "    </tr>\n",
       "    <tr>\n",
       "      <th>('Number Of Fish', 'Norton Sound  AYK  Coho')</th>\n",
       "      <td>-1.201044</td>\n",
       "    </tr>\n",
       "    <tr>\n",
       "      <th>('Estimated Exvessel Value (Nominal)', 'Bristol Bay  Central  Coho')</th>\n",
       "      <td>-1.305440</td>\n",
       "    </tr>\n",
       "    <tr>\n",
       "      <th>('Capture fisheries (metric tons)', 'Botswana')</th>\n",
       "      <td>-1.324899</td>\n",
       "    </tr>\n",
       "    <tr>\n",
       "      <th>('Pounds', 'Norton Sound  AYK  Coho')</th>\n",
       "      <td>-1.407106</td>\n",
       "    </tr>\n",
       "  </tbody>\n",
       "</table>\n",
       "</div>"
      ],
      "text/plain": [
       "                                                         PC2\n",
       "('Wholesale Average Price per Pound', 'Sockeye ... -1.055085\n",
       "('Pounds', 'Norton Sound  AYK  Chum')              -1.060359\n",
       "('Estimated Exvessel Value (Nominal)', 'Cook In... -1.061681\n",
       "('Estimated Exvessel Value (Nominal)', 'Norton ... -1.096064\n",
       "('Aquaculture (metric tons)', 'Uruguay')           -1.108255\n",
       "('Estimated Exvessel Value (Nominal)', 'Norton ... -1.118929\n",
       "('Number Of Fish', 'Norton Sound  AYK  Coho')      -1.201044\n",
       "('Estimated Exvessel Value (Nominal)', 'Bristol... -1.305440\n",
       "('Capture fisheries (metric tons)', 'Botswana')    -1.324899\n",
       "('Pounds', 'Norton Sound  AYK  Coho')              -1.407106"
      ]
     },
     "execution_count": 45,
     "metadata": {},
     "output_type": "execute_result"
    }
   ],
   "source": [
    "loading_matrix.sort_values(by=\"PC2\", ascending = False)[[\"PC2\"]].tail(10)"
   ]
  },
  {
   "cell_type": "markdown",
   "metadata": {},
   "source": [
    "Negative variance here is fishery data related to high seafood producing countries. "
   ]
  },
  {
   "cell_type": "markdown",
   "metadata": {},
   "source": [
    "We need to assure stationarity for our target variable. By using a dickey fuller test to determine the correct amount of differencing that we need. "
   ]
  },
  {
   "cell_type": "markdown",
   "metadata": {},
   "source": [
    "# Determining Time Series Order"
   ]
  },
  {
   "cell_type": "code",
   "execution_count": 46,
   "metadata": {},
   "outputs": [],
   "source": [
    "def interpret_dftest(target_column):\n",
    "    '''Returns the Test Statistic and p-value for Augmented Dickey-Fuller test on given target column'''\n",
    "    dftest = adfuller(target_column)\n",
    "    dfoutput = pd.Series(dftest[0:2], index=['Test Statistic','p-value'])\n",
    "    return dfoutput"
   ]
  },
  {
   "cell_type": "code",
   "execution_count": 47,
   "metadata": {},
   "outputs": [
    {
     "data": {
      "image/png": "[encoded data removed]",
      "text/plain": [
       "<Figure size 432x288 with 1 Axes>"
      ]
     },
     "metadata": {
      "needs_background": "light"
     },
     "output_type": "display_data"
    }
   ],
   "source": [
    "\n",
    "# d = 0\n",
    "plt.plot(y);\n",
    "plt.title(label='permit pricing d=0', fontsize = 16)\n",
    "plt.xlabel(\"Year\")\n",
    "plt.ylabel(\"Price\");"
   ]
  },
  {
   "cell_type": "code",
   "execution_count": 48,
   "metadata": {
    "scrolled": true
   },
   "outputs": [
    {
     "data": {
      "text/plain": [
       "Test Statistic   -0.811144\n",
       "p-value           0.815827\n",
       "dtype: float64"
      ]
     },
     "execution_count": 48,
     "metadata": {},
     "output_type": "execute_result"
    }
   ],
   "source": [
    "interpret_dftest(y)"
   ]
  },
  {
   "cell_type": "markdown",
   "metadata": {},
   "source": [
    "Without any differencing we do not have stationarity as our target failed the dickey fuller test. Lets try one diff."
   ]
  },
  {
   "cell_type": "code",
   "execution_count": 49,
   "metadata": {},
   "outputs": [
    {
     "data": {
      "image/png": "[encoded data removed]",
      "text/plain": [
       "<Figure size 432x288 with 1 Axes>"
      ]
     },
     "metadata": {
      "needs_background": "light"
     },
     "output_type": "display_data"
    }
   ],
   "source": [
    "y.diff().plot()\n",
    "plt.title(label='permit pricing d=1', fontsize = 16)\n",
    "plt.xlabel(\"Year\")\n",
    "plt.ylabel(\"Price\");"
   ]
  },
  {
   "cell_type": "code",
   "execution_count": 50,
   "metadata": {},
   "outputs": [
    {
     "data": {
      "text/plain": [
       "Test Statistic   -4.940128\n",
       "p-value           0.000029\n",
       "dtype: float64"
      ]
     },
     "execution_count": 50,
     "metadata": {},
     "output_type": "execute_result"
    }
   ],
   "source": [
    "interpret_dftest(y.diff().dropna())"
   ]
  },
  {
   "cell_type": "markdown",
   "metadata": {},
   "source": [
    "This will work, we can use a column that includes the difference between each column and one samople before it. This will help us model our data over our desired time range."
   ]
  },
  {
   "cell_type": "markdown",
   "metadata": {},
   "source": [
    "Now we to determine the correct amount of Auto correlation to anticapate the shocks in our data over our time range."
   ]
  },
  {
   "cell_type": "code",
   "execution_count": 51,
   "metadata": {
    "scrolled": false
   },
   "outputs": [
    {
     "data": {
      "image/png": "[encoded data removed]",
      "text/plain": [
       "<Figure size 432x288 with 1 Axes>"
      ]
     },
     "metadata": {
      "needs_background": "light"
     },
     "output_type": "display_data"
    }
   ],
   "source": [
    "plot_acf(y.diff().dropna(), lags = 10)\n",
    "plt.title(\"Autocorrelation for Once differenced dataset\");"
   ]
  },
  {
   "cell_type": "markdown",
   "metadata": {},
   "source": [
    "The ACF decline gradually between auto correlation 1 and 10."
   ]
  },
  {
   "cell_type": "code",
   "execution_count": 52,
   "metadata": {
    "scrolled": true
   },
   "outputs": [
    {
     "name": "stderr",
     "output_type": "stream",
     "text": [
      "/Users/aryehgelfand/opt/anaconda3/lib/python3.7/site-packages/statsmodels/regression/linear_model.py:1406: RuntimeWarning: invalid value encountered in sqrt\n",
      "  return rho, np.sqrt(sigmasq)\n"
     ]
    },
    {
     "data": {
      "image/png": "[encoded data removed]",
      "text/plain": [
       "<Figure size 432x288 with 1 Axes>"
      ]
     },
     "metadata": {
      "needs_background": "light"
     },
     "output_type": "display_data"
    }
   ],
   "source": [
    "\n",
    "plot_pacf(y.diff().dropna(), lags = 10);"
   ]
  },
  {
   "cell_type": "markdown",
   "metadata": {},
   "source": [
    "The PACF approaches 0 after the 3rd lag, so we know the correct lag order is 3.\n"
   ]
  },
  {
   "cell_type": "code",
   "execution_count": 53,
   "metadata": {},
   "outputs": [],
   "source": [
    "y.dropna(inplace=True)\n",
    "Z.dropna(inplace=True)"
   ]
  },
  {
   "cell_type": "markdown",
   "metadata": {},
   "source": [
    "We now have 3 lags so the first 3 columns will be blank, we need to drop that data. We also know that ACF and PACF gradually declined to 0, so we dont need any MA component. \n",
    " - d = 1\n",
    " - p = 3\n",
    " - q  = 0\n",
    "\n",
    "We are going to start off without incorporating Seasonality into our data so far. So we have an ARIMA model"
   ]
  },
  {
   "cell_type": "markdown",
   "metadata": {},
   "source": [
    "# ARIMAX Model"
   ]
  },
  {
   "cell_type": "code",
   "execution_count": 64,
   "metadata": {},
   "outputs": [
    {
     "name": "stderr",
     "output_type": "stream",
     "text": [
      "/Users/aryehgelfand/opt/anaconda3/lib/python3.7/site-packages/statsmodels/tsa/base/tsa_model.py:162: ValueWarning: No frequency information was provided, so inferred frequency W-SUN will be used.\n",
      "  % freq, ValueWarning)\n",
      "/Users/aryehgelfand/opt/anaconda3/lib/python3.7/site-packages/statsmodels/tsa/base/tsa_model.py:162: ValueWarning: No frequency information was provided, so inferred frequency W-SUN will be used.\n",
      "  % freq, ValueWarning)\n",
      "/Users/aryehgelfand/opt/anaconda3/lib/python3.7/site-packages/statsmodels/base/model.py:568: ConvergenceWarning: Maximum Likelihood optimization failed to converge. Check mle_retvals\n",
      "  \"Check mle_retvals\", ConvergenceWarning)\n"
     ]
    }
   ],
   "source": [
    "order = (3, 1, 0)\n",
    "\n",
    "\n",
    "# instantiate\n",
    "arimax = ARIMA(\n",
    "    y, \n",
    "    exog = Z,\n",
    "    order = order, \n",
    "    #freq = \"W\", # freq helps set the index column of predictions\n",
    "    # ensure model is not trying to enfore stationarity (use d and D)\n",
    ")\n",
    "\n",
    "# fit\n",
    "arimax = arimax.fit()"
   ]
  },
  {
   "cell_type": "code",
   "execution_count": 55,
   "metadata": {},
   "outputs": [
    {
     "data": {
      "text/html": [
       "<table class=\"simpletable\">\n",
       "<caption>ARIMA Model Results</caption>\n",
       "<tr>\n",
       "  <th>Dep. Variable:</th>     <td>D.target</td>     <th>  No. Observations:  </th>    <td>709</td>   \n",
       "</tr>\n",
       "<tr>\n",
       "  <th>Model:</th>          <td>ARIMA(3, 1, 0)</td>  <th>  Log Likelihood     </th> <td>-1606.553</td>\n",
       "</tr>\n",
       "<tr>\n",
       "  <th>Method:</th>             <td>css-mle</td>     <th>  S.D. of innovations</th>   <td>2.308</td>  \n",
       "</tr>\n",
       "<tr>\n",
       "  <th>Date:</th>          <td>Sun, 07 Jun 2020</td> <th>  AIC                </th> <td>3269.107</td> \n",
       "</tr>\n",
       "<tr>\n",
       "  <th>Time:</th>              <td>15:26:50</td>     <th>  BIC                </th> <td>3396.895</td> \n",
       "</tr>\n",
       "<tr>\n",
       "  <th>Sample:</th>           <td>01-10-1999</td>    <th>  HQIC               </th> <td>3318.475</td> \n",
       "</tr>\n",
       "<tr>\n",
       "  <th></th>                 <td>- 08-05-2012</td>   <th>                     </th>     <td> </td>    \n",
       "</tr>\n",
       "</table>\n",
       "<table class=\"simpletable\">\n",
       "<tr>\n",
       "         <td></td>           <th>coef</th>     <th>std err</th>      <th>z</th>      <th>P>|z|</th>  <th>[0.025</th>    <th>0.975]</th>  \n",
       "</tr>\n",
       "<tr>\n",
       "  <th>const</th>          <td>   24.2424</td> <td>  123.499</td> <td>    0.196</td> <td> 0.844</td> <td> -217.811</td> <td>  266.295</td>\n",
       "</tr>\n",
       "<tr>\n",
       "  <th>x1</th>             <td>    0.1987</td> <td>    0.526</td> <td>    0.378</td> <td> 0.706</td> <td>   -0.833</td> <td>    1.230</td>\n",
       "</tr>\n",
       "<tr>\n",
       "  <th>x2</th>             <td>   -0.5678</td> <td>    0.702</td> <td>   -0.809</td> <td> 0.419</td> <td>   -1.944</td> <td>    0.808</td>\n",
       "</tr>\n",
       "<tr>\n",
       "  <th>x3</th>             <td>    1.9789</td> <td>    1.028</td> <td>    1.926</td> <td> 0.054</td> <td>   -0.035</td> <td>    3.993</td>\n",
       "</tr>\n",
       "<tr>\n",
       "  <th>x4</th>             <td>   -0.3299</td> <td>    1.102</td> <td>   -0.299</td> <td> 0.765</td> <td>   -2.491</td> <td>    1.831</td>\n",
       "</tr>\n",
       "<tr>\n",
       "  <th>x5</th>             <td>   -0.6035</td> <td>    0.861</td> <td>   -0.701</td> <td> 0.483</td> <td>   -2.290</td> <td>    1.083</td>\n",
       "</tr>\n",
       "<tr>\n",
       "  <th>x6</th>             <td>   -0.3361</td> <td>    1.110</td> <td>   -0.303</td> <td> 0.762</td> <td>   -2.512</td> <td>    1.840</td>\n",
       "</tr>\n",
       "<tr>\n",
       "  <th>x7</th>             <td>   -2.3569</td> <td>    1.318</td> <td>   -1.788</td> <td> 0.074</td> <td>   -4.940</td> <td>    0.226</td>\n",
       "</tr>\n",
       "<tr>\n",
       "  <th>x8</th>             <td>   -0.0328</td> <td>    1.082</td> <td>   -0.030</td> <td> 0.976</td> <td>   -2.153</td> <td>    2.087</td>\n",
       "</tr>\n",
       "<tr>\n",
       "  <th>x9</th>             <td>   -3.3468</td> <td>    1.634</td> <td>   -2.048</td> <td> 0.041</td> <td>   -6.550</td> <td>   -0.144</td>\n",
       "</tr>\n",
       "<tr>\n",
       "  <th>x10</th>            <td>    0.3256</td> <td>    1.059</td> <td>    0.308</td> <td> 0.758</td> <td>   -1.749</td> <td>    2.400</td>\n",
       "</tr>\n",
       "<tr>\n",
       "  <th>x11</th>            <td>    0.2662</td> <td>    1.041</td> <td>    0.256</td> <td> 0.798</td> <td>   -1.775</td> <td>    2.307</td>\n",
       "</tr>\n",
       "<tr>\n",
       "  <th>x12</th>            <td>    1.2593</td> <td>    1.626</td> <td>    0.775</td> <td> 0.439</td> <td>   -1.927</td> <td>    4.446</td>\n",
       "</tr>\n",
       "<tr>\n",
       "  <th>x13</th>            <td>   -1.9878</td> <td>    1.881</td> <td>   -1.057</td> <td> 0.291</td> <td>   -5.674</td> <td>    1.698</td>\n",
       "</tr>\n",
       "<tr>\n",
       "  <th>x14</th>            <td>   -0.2610</td> <td>    0.295</td> <td>   -0.885</td> <td> 0.376</td> <td>   -0.839</td> <td>    0.317</td>\n",
       "</tr>\n",
       "<tr>\n",
       "  <th>x15</th>            <td>   -1.9293</td> <td>    0.513</td> <td>   -3.764</td> <td> 0.000</td> <td>   -2.934</td> <td>   -0.925</td>\n",
       "</tr>\n",
       "<tr>\n",
       "  <th>x16</th>            <td>   -0.0247</td> <td>    0.048</td> <td>   -0.510</td> <td> 0.610</td> <td>   -0.119</td> <td>    0.070</td>\n",
       "</tr>\n",
       "<tr>\n",
       "  <th>x17</th>            <td>    0.1322</td> <td>    0.087</td> <td>    1.524</td> <td> 0.127</td> <td>   -0.038</td> <td>    0.302</td>\n",
       "</tr>\n",
       "<tr>\n",
       "  <th>x18</th>            <td>   -0.3715</td> <td>    0.105</td> <td>   -3.550</td> <td> 0.000</td> <td>   -0.577</td> <td>   -0.166</td>\n",
       "</tr>\n",
       "<tr>\n",
       "  <th>x19</th>            <td>    0.8720</td> <td>    0.669</td> <td>    1.303</td> <td> 0.193</td> <td>   -0.440</td> <td>    2.184</td>\n",
       "</tr>\n",
       "<tr>\n",
       "  <th>x20</th>            <td>   -0.1925</td> <td>    0.126</td> <td>   -1.533</td> <td> 0.125</td> <td>   -0.439</td> <td>    0.054</td>\n",
       "</tr>\n",
       "<tr>\n",
       "  <th>x21</th>            <td>   -0.4475</td> <td>    0.229</td> <td>   -1.953</td> <td> 0.051</td> <td>   -0.897</td> <td>    0.002</td>\n",
       "</tr>\n",
       "<tr>\n",
       "  <th>x22</th>            <td>    0.8813</td> <td>    0.468</td> <td>    1.883</td> <td> 0.060</td> <td>   -0.036</td> <td>    1.799</td>\n",
       "</tr>\n",
       "<tr>\n",
       "  <th>x23</th>            <td>   -0.1828</td> <td>    0.060</td> <td>   -3.040</td> <td> 0.002</td> <td>   -0.301</td> <td>   -0.065</td>\n",
       "</tr>\n",
       "<tr>\n",
       "  <th>ar.L1.D.target</th> <td>    2.4498</td> <td>    0.023</td> <td>  108.068</td> <td> 0.000</td> <td>    2.405</td> <td>    2.494</td>\n",
       "</tr>\n",
       "<tr>\n",
       "  <th>ar.L2.D.target</th> <td>   -1.9183</td> <td>    0.045</td> <td>  -42.597</td> <td> 0.000</td> <td>   -2.007</td> <td>   -1.830</td>\n",
       "</tr>\n",
       "<tr>\n",
       "  <th>ar.L3.D.target</th> <td>    0.4678</td> <td>    0.023</td> <td>   20.635</td> <td> 0.000</td> <td>    0.423</td> <td>    0.512</td>\n",
       "</tr>\n",
       "</table>\n",
       "<table class=\"simpletable\">\n",
       "<caption>Roots</caption>\n",
       "<tr>\n",
       "    <td></td>   <th>            Real</th>  <th>         Imaginary</th> <th>         Modulus</th>  <th>        Frequency</th>\n",
       "</tr>\n",
       "<tr>\n",
       "  <th>AR.1</th> <td>           1.0160</td> <td>          -0.0332j</td> <td>           1.0166</td> <td>          -0.0052</td>\n",
       "</tr>\n",
       "<tr>\n",
       "  <th>AR.2</th> <td>           1.0160</td> <td>          +0.0332j</td> <td>           1.0166</td> <td>           0.0052</td>\n",
       "</tr>\n",
       "<tr>\n",
       "  <th>AR.3</th> <td>           2.0683</td> <td>          -0.0000j</td> <td>           2.0683</td> <td>          -0.0000</td>\n",
       "</tr>\n",
       "</table>"
      ],
      "text/plain": [
       "<class 'statsmodels.iolib.summary.Summary'>\n",
       "\"\"\"\n",
       "                             ARIMA Model Results                              \n",
       "==============================================================================\n",
       "Dep. Variable:               D.target   No. Observations:                  709\n",
       "Model:                 ARIMA(3, 1, 0)   Log Likelihood               -1606.553\n",
       "Method:                       css-mle   S.D. of innovations              2.308\n",
       "Date:                Sun, 07 Jun 2020   AIC                           3269.107\n",
       "Time:                        15:26:50   BIC                           3396.895\n",
       "Sample:                    01-10-1999   HQIC                          3318.475\n",
       "                         - 08-05-2012                                         \n",
       "==================================================================================\n",
       "                     coef    std err          z      P>|z|      [0.025      0.975]\n",
       "----------------------------------------------------------------------------------\n",
       "const             24.2424    123.499      0.196      0.844    -217.811     266.295\n",
       "x1                 0.1987      0.526      0.378      0.706      -0.833       1.230\n",
       "x2                -0.5678      0.702     -0.809      0.419      -1.944       0.808\n",
       "x3                 1.9789      1.028      1.926      0.054      -0.035       3.993\n",
       "x4                -0.3299      1.102     -0.299      0.765      -2.491       1.831\n",
       "x5                -0.6035      0.861     -0.701      0.483      -2.290       1.083\n",
       "x6                -0.3361      1.110     -0.303      0.762      -2.512       1.840\n",
       "x7                -2.3569      1.318     -1.788      0.074      -4.940       0.226\n",
       "x8                -0.0328      1.082     -0.030      0.976      -2.153       2.087\n",
       "x9                -3.3468      1.634     -2.048      0.041      -6.550      -0.144\n",
       "x10                0.3256      1.059      0.308      0.758      -1.749       2.400\n",
       "x11                0.2662      1.041      0.256      0.798      -1.775       2.307\n",
       "x12                1.2593      1.626      0.775      0.439      -1.927       4.446\n",
       "x13               -1.9878      1.881     -1.057      0.291      -5.674       1.698\n",
       "x14               -0.2610      0.295     -0.885      0.376      -0.839       0.317\n",
       "x15               -1.9293      0.513     -3.764      0.000      -2.934      -0.925\n",
       "x16               -0.0247      0.048     -0.510      0.610      -0.119       0.070\n",
       "x17                0.1322      0.087      1.524      0.127      -0.038       0.302\n",
       "x18               -0.3715      0.105     -3.550      0.000      -0.577      -0.166\n",
       "x19                0.8720      0.669      1.303      0.193      -0.440       2.184\n",
       "x20               -0.1925      0.126     -1.533      0.125      -0.439       0.054\n",
       "x21               -0.4475      0.229     -1.953      0.051      -0.897       0.002\n",
       "x22                0.8813      0.468      1.883      0.060      -0.036       1.799\n",
       "x23               -0.1828      0.060     -3.040      0.002      -0.301      -0.065\n",
       "ar.L1.D.target     2.4498      0.023    108.068      0.000       2.405       2.494\n",
       "ar.L2.D.target    -1.9183      0.045    -42.597      0.000      -2.007      -1.830\n",
       "ar.L3.D.target     0.4678      0.023     20.635      0.000       0.423       0.512\n",
       "                                    Roots                                    \n",
       "=============================================================================\n",
       "                  Real          Imaginary           Modulus         Frequency\n",
       "-----------------------------------------------------------------------------\n",
       "AR.1            1.0160           -0.0332j            1.0166           -0.0052\n",
       "AR.2            1.0160           +0.0332j            1.0166            0.0052\n",
       "AR.3            2.0683           -0.0000j            2.0683           -0.0000\n",
       "-----------------------------------------------------------------------------\n",
       "\"\"\""
      ]
     },
     "execution_count": 55,
     "metadata": {},
     "output_type": "execute_result"
    }
   ],
   "source": [
    "arimax.summary()"
   ]
  },
  {
   "cell_type": "code",
   "execution_count": 147,
   "metadata": {},
   "outputs": [],
   "source": [
    "starting_index = round(len(y.index) * .8) # starting split after 80% of observations are in \"training\" set\n",
    "\n",
    "arimax_train = y.iloc[1:starting_index]\n",
    "\n",
    "arimax_test  = y.iloc[starting_index:]"
   ]
  },
  {
   "cell_type": "code",
   "execution_count": 152,
   "metadata": {},
   "outputs": [],
   "source": [
    "arimax_train_preds = arimax.predict(start = arimax_train.index[0], end = arimax_train.index[-1], exog = Z, typ = \"levels\")"
   ]
  },
  {
   "cell_type": "markdown",
   "metadata": {},
   "source": [
    "Generate train preds from our train interval"
   ]
  },
  {
   "cell_type": "code",
   "execution_count": 150,
   "metadata": {},
   "outputs": [],
   "source": [
    "arimax_test_preds  = arimax.predict(start = arimax_test.index[0], \n",
    "                                           end = arimax_test.index[-1], \n",
    "                                           exog = Z,\n",
    "                                           typ = \"levels\",\n",
    "                                           dynamic = False)"
   ]
  },
  {
   "cell_type": "markdown",
   "metadata": {},
   "source": [
    "Generate test preds from our test interval"
   ]
  },
  {
   "cell_type": "code",
   "execution_count": 153,
   "metadata": {
    "scrolled": true
   },
   "outputs": [
    {
     "name": "stdout",
     "output_type": "stream",
     "text": [
      "ARIMAX train RMSE is 3.608960531512174\n",
      "ARIMAX test RMSE is 3.5503443131465064\n"
     ]
    }
   ],
   "source": [
    "print(f'ARIMAX train RMSE is {rmse(arimax_train[arimax_train_preds.index],arimax_train_preds)}')\n",
    "print(f'ARIMAX test RMSE is {rmse(arimax_test[arimax_test_preds.index],arimax_test_preds)}')"
   ]
  },
  {
   "cell_type": "markdown",
   "metadata": {},
   "source": [
    "Performed Very well, but lets see if we can detect seasonality."
   ]
  },
  {
   "cell_type": "markdown",
   "metadata": {},
   "source": [
    "# SARIMAX"
   ]
  },
  {
   "cell_type": "code",
   "execution_count": 115,
   "metadata": {},
   "outputs": [],
   "source": [
    "decomposed_result = seasonal_decompose(df['target'], model = \"additive\", period = 52)"
   ]
  },
  {
   "cell_type": "code",
   "execution_count": 116,
   "metadata": {},
   "outputs": [
    {
     "data": {
      "image/png": "[encoded data removed]",
      "text/plain": [
       "<Figure size 432x288 with 4 Axes>"
      ]
     },
     "metadata": {
      "needs_background": "light"
     },
     "output_type": "display_data"
    }
   ],
   "source": [
    "\n",
    "# plot decomposition\n",
    "decomposed_result.plot();"
   ]
  },
  {
   "cell_type": "markdown",
   "metadata": {},
   "source": [
    "We see evidence of seasonality clearly. This makes sense as the salmon return the same time very year in a seasonal cycle"
   ]
  },
  {
   "cell_type": "code",
   "execution_count": 112,
   "metadata": {},
   "outputs": [
    {
     "data": {
      "text/plain": [
       "count       888.000000\n",
       "mean      84108.673393\n",
       "std       39323.202037\n",
       "min       19693.749745\n",
       "25%       49562.395410\n",
       "50%       84013.614026\n",
       "75%      112197.270234\n",
       "max      156837.825898\n",
       "Name: target, dtype: float64"
      ]
     },
     "execution_count": 112,
     "metadata": {},
     "output_type": "execute_result"
    }
   ],
   "source": [
    "df['target'].describe()"
   ]
  },
  {
   "cell_type": "markdown",
   "metadata": {},
   "source": [
    "The seaonal fluctuations are greater than one standard deviation, so we need to incorporate seasonality into our model."
   ]
  },
  {
   "cell_type": "code",
   "execution_count": 114,
   "metadata": {},
   "outputs": [
    {
     "name": "stderr",
     "output_type": "stream",
     "text": [
      "/Users/aryehgelfand/opt/anaconda3/lib/python3.7/site-packages/statsmodels/tsa/base/tsa_model.py:162: ValueWarning: No frequency information was provided, so inferred frequency W-SUN will be used.\n",
      "  % freq, ValueWarning)\n",
      "/Users/aryehgelfand/opt/anaconda3/lib/python3.7/site-packages/statsmodels/tsa/base/tsa_model.py:162: ValueWarning: No frequency information was provided, so inferred frequency W-SUN will be used.\n",
      "  % freq, ValueWarning)\n",
      "/Users/aryehgelfand/opt/anaconda3/lib/python3.7/site-packages/statsmodels/base/model.py:568: ConvergenceWarning: Maximum Likelihood optimization failed to converge. Check mle_retvals\n",
      "  \"Check mle_retvals\", ConvergenceWarning)\n"
     ]
    }
   ],
   "source": [
    "order = (3, 1, 0)\n",
    "seasonal_order = (3, 1, 0, 52)\n",
    "\n",
    "# instantiate\n",
    "sarimax = SARIMAX(\n",
    "    y, \n",
    "    Z,\n",
    "    order = order, \n",
    "    seasonal_order = seasonal_order, \n",
    "    #freq = \"W\", # freq helps set the index column of predictions\n",
    "    enforce_stationarity = False\n",
    "    # ensure model is not trying to enfore stationarity (use d and D)\n",
    ")\n",
    "\n",
    "# fit\n",
    "sarimax = sarimax.fit() # stats model returns fitted model\n",
    "\n"
   ]
  },
  {
   "cell_type": "code",
   "execution_count": 118,
   "metadata": {},
   "outputs": [
    {
     "data": {
      "text/html": [
       "<table class=\"simpletable\">\n",
       "<caption>SARIMAX Results</caption>\n",
       "<tr>\n",
       "  <th>Dep. Variable:</th>               <td>target</td>             <th>  No. Observations:  </th>    <td>888</td>   \n",
       "</tr>\n",
       "<tr>\n",
       "  <th>Model:</th>           <td>SARIMAX(3, 1, 0)x(3, 1, 0, 52)</td> <th>  Log Likelihood     </th> <td>-4561.356</td>\n",
       "</tr>\n",
       "<tr>\n",
       "  <th>Date:</th>                   <td>Sun, 07 Jun 2020</td>        <th>  AIC                </th> <td>9172.712</td> \n",
       "</tr>\n",
       "<tr>\n",
       "  <th>Time:</th>                       <td>16:30:49</td>            <th>  BIC                </th> <td>9285.617</td> \n",
       "</tr>\n",
       "<tr>\n",
       "  <th>Sample:</th>                    <td>01-03-1999</td>           <th>  HQIC               </th> <td>9216.427</td> \n",
       "</tr>\n",
       "<tr>\n",
       "  <th></th>                          <td>- 01-03-2016</td>          <th>                     </th>     <td> </td>    \n",
       "</tr>\n",
       "<tr>\n",
       "  <th>Covariance Type:</th>               <td>opg</td>              <th>                     </th>     <td> </td>    \n",
       "</tr>\n",
       "</table>\n",
       "<table class=\"simpletable\">\n",
       "<tr>\n",
       "      <td></td>         <th>coef</th>     <th>std err</th>      <th>z</th>      <th>P>|z|</th>  <th>[0.025</th>    <th>0.975]</th>  \n",
       "</tr>\n",
       "<tr>\n",
       "  <th>PC1</th>       <td>  376.5880</td> <td>  102.349</td> <td>    3.679</td> <td> 0.000</td> <td>  175.987</td> <td>  577.189</td>\n",
       "</tr>\n",
       "<tr>\n",
       "  <th>PC2</th>       <td> -162.7201</td> <td>   53.492</td> <td>   -3.042</td> <td> 0.002</td> <td> -267.563</td> <td>  -57.877</td>\n",
       "</tr>\n",
       "<tr>\n",
       "  <th>PC3</th>       <td> -374.2014</td> <td>   57.480</td> <td>   -6.510</td> <td> 0.000</td> <td> -486.860</td> <td> -261.542</td>\n",
       "</tr>\n",
       "<tr>\n",
       "  <th>PC4</th>       <td> -712.9460</td> <td>  115.466</td> <td>   -6.175</td> <td> 0.000</td> <td> -939.255</td> <td> -486.637</td>\n",
       "</tr>\n",
       "<tr>\n",
       "  <th>PC5</th>       <td>  333.8737</td> <td>   77.678</td> <td>    4.298</td> <td> 0.000</td> <td>  181.628</td> <td>  486.120</td>\n",
       "</tr>\n",
       "<tr>\n",
       "  <th>PC6</th>       <td> -880.4888</td> <td>   79.571</td> <td>  -11.065</td> <td> 0.000</td> <td>-1036.445</td> <td> -724.532</td>\n",
       "</tr>\n",
       "<tr>\n",
       "  <th>PC7</th>       <td> -351.7888</td> <td>   75.110</td> <td>   -4.684</td> <td> 0.000</td> <td> -499.002</td> <td> -204.576</td>\n",
       "</tr>\n",
       "<tr>\n",
       "  <th>PC8</th>       <td>  218.1544</td> <td>   70.139</td> <td>    3.110</td> <td> 0.002</td> <td>   80.684</td> <td>  355.624</td>\n",
       "</tr>\n",
       "<tr>\n",
       "  <th>PC9</th>       <td> -926.5584</td> <td>   94.839</td> <td>   -9.770</td> <td> 0.000</td> <td>-1112.439</td> <td> -740.677</td>\n",
       "</tr>\n",
       "<tr>\n",
       "  <th>PC10</th>      <td>  201.2461</td> <td>   97.511</td> <td>    2.064</td> <td> 0.039</td> <td>   10.128</td> <td>  392.364</td>\n",
       "</tr>\n",
       "<tr>\n",
       "  <th>PC11</th>      <td> -642.2977</td> <td>  126.247</td> <td>   -5.088</td> <td> 0.000</td> <td> -889.738</td> <td> -394.858</td>\n",
       "</tr>\n",
       "<tr>\n",
       "  <th>PC12</th>      <td> -130.6929</td> <td>  103.125</td> <td>   -1.267</td> <td> 0.205</td> <td> -332.815</td> <td>   71.429</td>\n",
       "</tr>\n",
       "<tr>\n",
       "  <th>PC13</th>      <td>  -21.9898</td> <td>   18.148</td> <td>   -1.212</td> <td> 0.226</td> <td>  -57.560</td> <td>   13.580</td>\n",
       "</tr>\n",
       "<tr>\n",
       "  <th>PC14</th>      <td> -531.6816</td> <td>  131.351</td> <td>   -4.048</td> <td> 0.000</td> <td> -789.124</td> <td> -274.239</td>\n",
       "</tr>\n",
       "<tr>\n",
       "  <th>PC15</th>      <td>  730.5785</td> <td>  108.958</td> <td>    6.705</td> <td> 0.000</td> <td>  517.025</td> <td>  944.132</td>\n",
       "</tr>\n",
       "<tr>\n",
       "  <th>PC16</th>      <td> -645.4537</td> <td>   51.751</td> <td>  -12.472</td> <td> 0.000</td> <td> -746.883</td> <td> -544.024</td>\n",
       "</tr>\n",
       "<tr>\n",
       "  <th>PC17</th>      <td>  -84.7717</td> <td>   92.470</td> <td>   -0.917</td> <td> 0.359</td> <td> -266.010</td> <td>   96.467</td>\n",
       "</tr>\n",
       "<tr>\n",
       "  <th>PC18</th>      <td>  166.7881</td> <td>   67.784</td> <td>    2.461</td> <td> 0.014</td> <td>   33.934</td> <td>  299.642</td>\n",
       "</tr>\n",
       "<tr>\n",
       "  <th>ar.L1</th>     <td>    0.3567</td> <td>    0.018</td> <td>   19.781</td> <td> 0.000</td> <td>    0.321</td> <td>    0.392</td>\n",
       "</tr>\n",
       "<tr>\n",
       "  <th>ar.L2</th>     <td>    0.3895</td> <td>    0.020</td> <td>   19.925</td> <td> 0.000</td> <td>    0.351</td> <td>    0.428</td>\n",
       "</tr>\n",
       "<tr>\n",
       "  <th>ar.L3</th>     <td>    0.1617</td> <td>    0.033</td> <td>    4.941</td> <td> 0.000</td> <td>    0.098</td> <td>    0.226</td>\n",
       "</tr>\n",
       "<tr>\n",
       "  <th>ar.S.L52</th>  <td>   -0.7092</td> <td>    0.021</td> <td>  -34.105</td> <td> 0.000</td> <td>   -0.750</td> <td>   -0.668</td>\n",
       "</tr>\n",
       "<tr>\n",
       "  <th>ar.S.L104</th> <td>   -0.6967</td> <td>    0.022</td> <td>  -31.114</td> <td> 0.000</td> <td>   -0.741</td> <td>   -0.653</td>\n",
       "</tr>\n",
       "<tr>\n",
       "  <th>ar.S.L156</th> <td>   -0.4162</td> <td>    0.017</td> <td>  -24.414</td> <td> 0.000</td> <td>   -0.450</td> <td>   -0.383</td>\n",
       "</tr>\n",
       "<tr>\n",
       "  <th>sigma2</th>    <td> 3.987e+04</td> <td> 3306.322</td> <td>   12.059</td> <td> 0.000</td> <td> 3.34e+04</td> <td> 4.64e+04</td>\n",
       "</tr>\n",
       "</table>\n",
       "<table class=\"simpletable\">\n",
       "<tr>\n",
       "  <th>Ljung-Box (Q):</th>          <td>114.52</td> <th>  Jarque-Bera (JB):  </th> <td>12734.11</td>\n",
       "</tr>\n",
       "<tr>\n",
       "  <th>Prob(Q):</th>                 <td>0.00</td>  <th>  Prob(JB):          </th>   <td>0.00</td>  \n",
       "</tr>\n",
       "<tr>\n",
       "  <th>Heteroskedasticity (H):</th>  <td>4.77</td>  <th>  Skew:              </th>   <td>0.59</td>  \n",
       "</tr>\n",
       "<tr>\n",
       "  <th>Prob(H) (two-sided):</th>     <td>0.00</td>  <th>  Kurtosis:          </th>   <td>24.23</td> \n",
       "</tr>\n",
       "</table><br/><br/>Warnings:<br/>[1] Covariance matrix calculated using the outer product of gradients (complex-step)."
      ],
      "text/plain": [
       "<class 'statsmodels.iolib.summary.Summary'>\n",
       "\"\"\"\n",
       "                                     SARIMAX Results                                      \n",
       "==========================================================================================\n",
       "Dep. Variable:                             target   No. Observations:                  888\n",
       "Model:             SARIMAX(3, 1, 0)x(3, 1, 0, 52)   Log Likelihood               -4561.356\n",
       "Date:                            Sun, 07 Jun 2020   AIC                           9172.712\n",
       "Time:                                    16:30:49   BIC                           9285.617\n",
       "Sample:                                01-03-1999   HQIC                          9216.427\n",
       "                                     - 01-03-2016                                         \n",
       "Covariance Type:                              opg                                         \n",
       "==============================================================================\n",
       "                 coef    std err          z      P>|z|      [0.025      0.975]\n",
       "------------------------------------------------------------------------------\n",
       "PC1          376.5880    102.349      3.679      0.000     175.987     577.189\n",
       "PC2         -162.7201     53.492     -3.042      0.002    -267.563     -57.877\n",
       "PC3         -374.2014     57.480     -6.510      0.000    -486.860    -261.542\n",
       "PC4         -712.9460    115.466     -6.175      0.000    -939.255    -486.637\n",
       "PC5          333.8737     77.678      4.298      0.000     181.628     486.120\n",
       "PC6         -880.4888     79.571    -11.065      0.000   -1036.445    -724.532\n",
       "PC7         -351.7888     75.110     -4.684      0.000    -499.002    -204.576\n",
       "PC8          218.1544     70.139      3.110      0.002      80.684     355.624\n",
       "PC9         -926.5584     94.839     -9.770      0.000   -1112.439    -740.677\n",
       "PC10         201.2461     97.511      2.064      0.039      10.128     392.364\n",
       "PC11        -642.2977    126.247     -5.088      0.000    -889.738    -394.858\n",
       "PC12        -130.6929    103.125     -1.267      0.205    -332.815      71.429\n",
       "PC13         -21.9898     18.148     -1.212      0.226     -57.560      13.580\n",
       "PC14        -531.6816    131.351     -4.048      0.000    -789.124    -274.239\n",
       "PC15         730.5785    108.958      6.705      0.000     517.025     944.132\n",
       "PC16        -645.4537     51.751    -12.472      0.000    -746.883    -544.024\n",
       "PC17         -84.7717     92.470     -0.917      0.359    -266.010      96.467\n",
       "PC18         166.7881     67.784      2.461      0.014      33.934     299.642\n",
       "ar.L1          0.3567      0.018     19.781      0.000       0.321       0.392\n",
       "ar.L2          0.3895      0.020     19.925      0.000       0.351       0.428\n",
       "ar.L3          0.1617      0.033      4.941      0.000       0.098       0.226\n",
       "ar.S.L52      -0.7092      0.021    -34.105      0.000      -0.750      -0.668\n",
       "ar.S.L104     -0.6967      0.022    -31.114      0.000      -0.741      -0.653\n",
       "ar.S.L156     -0.4162      0.017    -24.414      0.000      -0.450      -0.383\n",
       "sigma2      3.987e+04   3306.322     12.059      0.000    3.34e+04    4.64e+04\n",
       "===================================================================================\n",
       "Ljung-Box (Q):                      114.52   Jarque-Bera (JB):             12734.11\n",
       "Prob(Q):                              0.00   Prob(JB):                         0.00\n",
       "Heteroskedasticity (H):               4.77   Skew:                             0.59\n",
       "Prob(H) (two-sided):                  0.00   Kurtosis:                        24.23\n",
       "===================================================================================\n",
       "\n",
       "Warnings:\n",
       "[1] Covariance matrix calculated using the outer product of gradients (complex-step).\n",
       "\"\"\""
      ]
     },
     "execution_count": 118,
     "metadata": {},
     "output_type": "execute_result"
    }
   ],
   "source": [
    "sarimax.summary()"
   ]
  },
  {
   "cell_type": "code",
   "execution_count": 119,
   "metadata": {},
   "outputs": [],
   "source": [
    "\n",
    "# Setting up an in-sample train/test split\n",
    "starting_index = round(len(y.index) * .8) # starting split after 80% of observations are in \"training\" set\n",
    "\n",
    "sarimax_train = y.iloc[:starting_index]\n",
    "\n",
    "sarimax_test  = y.iloc[starting_index:]"
   ]
  },
  {
   "cell_type": "markdown",
   "metadata": {},
   "source": [
    "This time we are using the later half of our range to generate split our data into train and testing sets. The first 80% will be the test set and the later 20% will be the test set."
   ]
  },
  {
   "cell_type": "code",
   "execution_count": 120,
   "metadata": {},
   "outputs": [],
   "source": [
    "sarimax_train_preds = sarimax.predict(start = sarimax_train.index[0], end = sarimax_train.index[-1], exog = Z, typ = \"levels\")"
   ]
  },
  {
   "cell_type": "code",
   "execution_count": 121,
   "metadata": {},
   "outputs": [],
   "source": [
    "sarimax_test_preds  = sarimax.predict(start = sarimax_test.index[0], \n",
    "                                           end = sarimax_test.index[-1], \n",
    "                                           exog = Z,\n",
    "                                           typ = \"levels\",\n",
    "                                           dynamic = False)"
   ]
  },
  {
   "cell_type": "code",
   "execution_count": 124,
   "metadata": {
    "scrolled": true
   },
   "outputs": [
    {
     "name": "stdout",
     "output_type": "stream",
     "text": [
      "SARIMAX train RMSE is 4753.039066732567\n",
      "SARIMAX test RMSE is 207.85107292950184\n"
     ]
    }
   ],
   "source": [
    "print(f'SARIMAX train RMSE is {rmse(sarimax_train[sarimax_train_preds.index],sarimax_train_preds)}')\n",
    "print(f'SARIMAX test RMSE is {rmse(sarimax_test[sarimax_test_preds.index],sarimax_test_preds)}')"
   ]
  },
  {
   "cell_type": "markdown",
   "metadata": {},
   "source": [
    "The Model performs unbelievably accurately. Coming within 207$ on avg of the real values."
   ]
  },
  {
   "cell_type": "markdown",
   "metadata": {},
   "source": [
    "# SARIMA Full Data"
   ]
  },
  {
   "cell_type": "code",
   "execution_count": 125,
   "metadata": {},
   "outputs": [],
   "source": [
    "price = pd.read_csv(\"data/permit_price.csv\",parse_dates=[\"Year\"], index_col = [\"Year\"])\n"
   ]
  },
  {
   "cell_type": "markdown",
   "metadata": {},
   "source": [
    "Since we had to incorporate exogenous values, we had limit our target to 1999-2016. Now we are going to model to 2020 and even generate a forescast for 2020-2025 using the full values from 1984-2019.\n"
   ]
  },
  {
   "cell_type": "code",
   "execution_count": 126,
   "metadata": {},
   "outputs": [
    {
     "data": {
      "image/png": "[encoded data removed]",
      "text/plain": [
       "<Figure size 432x288 with 1 Axes>"
      ]
     },
     "metadata": {
      "needs_background": "light"
     },
     "output_type": "display_data"
    }
   ],
   "source": [
    "plt.title(\"Permit Pricing 1984-2019\")\n",
    "plt.plot(price)\n",
    "plt.ylabel(\"Price($)\")\n",
    "plt.xlabel(\"Year\");\n"
   ]
  },
  {
   "cell_type": "markdown",
   "metadata": {},
   "source": [
    "We can see the price fluctuation for the whole period on record."
   ]
  },
  {
   "cell_type": "code",
   "execution_count": 127,
   "metadata": {},
   "outputs": [
    {
     "name": "stderr",
     "output_type": "stream",
     "text": [
      "/Users/aryehgelfand/opt/anaconda3/lib/python3.7/site-packages/statsmodels/tsa/base/tsa_model.py:162: ValueWarning: No frequency information was provided, so inferred frequency W-SUN will be used.\n",
      "  % freq, ValueWarning)\n",
      "/Users/aryehgelfand/opt/anaconda3/lib/python3.7/site-packages/statsmodels/base/model.py:568: ConvergenceWarning: Maximum Likelihood optimization failed to converge. Check mle_retvals\n",
      "  \"Check mle_retvals\", ConvergenceWarning)\n"
     ]
    }
   ],
   "source": [
    "sarima = SARIMAX(\n",
    "    price, \n",
    "    order = order, \n",
    "    seasonal_order = seasonal_order, \n",
    "    freq = \"W\", # freq helps set the index column of predictions\n",
    "    enforce_stationarity = False\n",
    "    # ensure model is not trying to enfore stationarity (use d and D)\n",
    ")\n",
    "\n",
    "# fit\n",
    "sarima = sarima.fit()"
   ]
  },
  {
   "cell_type": "code",
   "execution_count": 128,
   "metadata": {},
   "outputs": [],
   "source": [
    "starting_index = round(len(price) * .8) # starting split after 80% of observations are in \"training\" set\n",
    "\n",
    "sarima_train = price.iloc[:starting_index,:]\n",
    "\n",
    "sarima_test  = price.iloc[starting_index:,:]"
   ]
  },
  {
   "cell_type": "markdown",
   "metadata": {},
   "source": [
    "We segment the first 80% and later 20% as train and test respectively"
   ]
  },
  {
   "cell_type": "code",
   "execution_count": 129,
   "metadata": {},
   "outputs": [],
   "source": [
    "sarima_train_preds = sarima.predict(start = sarima_train.index[0], end = sarima_train.index[-1],typ = \"levels\")\n",
    "sarima_test_preds  = sarima.predict(start = sarima_test.index[0], \n",
    "                                           end = sarima_test.index[-1], \n",
    "                                           \n",
    "                                           typ = \"levels\",\n",
    "                                           dynamic = False)"
   ]
  },
  {
   "cell_type": "markdown",
   "metadata": {},
   "source": [
    "We generate predictions over the train and test intervals"
   ]
  },
  {
   "cell_type": "markdown",
   "metadata": {},
   "source": [
    "The predictions over the test interval mirror the real values very closely. Lets measure the RMSE over the period"
   ]
  },
  {
   "cell_type": "code",
   "execution_count": 130,
   "metadata": {
    "scrolled": true
   },
   "outputs": [
    {
     "name": "stdout",
     "output_type": "stream",
     "text": [
      "SARIMAX train RMSE is 4084.8043081541273\n",
      "SARIMAX test RMSE is 3.274829812917954\n"
     ]
    }
   ],
   "source": [
    "print(f'SARIMAX train RMSE is {rmse(sarima_train,sarima_train_preds)}')\n",
    "print(f'SARIMAX test RMSE is {rmse(sarima_test,sarima_test_preds)}')"
   ]
  },
  {
   "cell_type": "markdown",
   "metadata": {},
   "source": [
    "# VAR"
   ]
  },
  {
   "cell_type": "code",
   "execution_count": 154,
   "metadata": {},
   "outputs": [],
   "source": [
    "def get_diff(column, thresh = .05):\n",
    "    '''Returns differencing results of amount of differencing required to make column stationary'''\n",
    "    col_copy = column.copy() # make copy to changes are not affecting original column object\n",
    "    d = 0 # start with d = 0\n",
    "    adf_result = interpret_dftest(col_copy) # conduct ADF test\n",
    "    while (adf_result[\"p-value\"] > thresh): # if above p-value threshold, continue differencing until stationary\n",
    "        d += 1\n",
    "        col_copy = col_copy.diff().dropna()\n",
    "        adf_result = interpret_dftest(col_copy)\n",
    "    adf_result[\"d\"] = d\n",
    "    return adf_result"
   ]
  },
  {
   "cell_type": "markdown",
   "metadata": {},
   "source": [
    "We need to ensure statonarity for all of our features in order to fit our VAR model. So, we need to run a dickey fuller test on all of our features"
   ]
  },
  {
   "cell_type": "code",
   "execution_count": 167,
   "metadata": {
    "scrolled": true
   },
   "outputs": [
    {
     "name": "stdout",
     "output_type": "stream",
     "text": [
      "PC1 is stationary with d=2.0 at p-value = 0.0\n",
      "PC2 is stationary with d=2.0 at p-value = 0.0\n",
      "PC3 is stationary with d=0.0 at p-value = 0.036\n",
      "PC4 is stationary with d=2.0 at p-value = 0.0\n",
      "PC5 is stationary with d=0.0 at p-value = 0.034\n",
      "PC6 is stationary with d=0.0 at p-value = 0.004\n",
      "PC7 is stationary with d=0.0 at p-value = 0.001\n",
      "PC8 is stationary with d=0.0 at p-value = 0.001\n",
      "PC9 is stationary with d=0.0 at p-value = 0.0\n",
      "PC10 is stationary with d=0.0 at p-value = 0.0\n",
      "PC11 is stationary with d=0.0 at p-value = 0.0\n",
      "PC12 is stationary with d=0.0 at p-value = 0.0\n",
      "PC13 is stationary with d=0.0 at p-value = 0.0\n",
      "PC14 is stationary with d=0.0 at p-value = 0.0\n",
      "PC15 is stationary with d=0.0 at p-value = 0.0\n",
      "PC16 is stationary with d=0.0 at p-value = 0.0\n",
      "PC17 is stationary with d=0.0 at p-value = 0.0\n",
      "PC18 is stationary with d=0.0 at p-value = 0.0\n"
     ]
    }
   ],
   "source": [
    "\n",
    "# For each column in dataframe, print result from get_diff\n",
    "for col in Z.columns:\n",
    "    adf_result = get_diff(Z[col])\n",
    "    print(f\"{col} is stationary with d={adf_result['d']} at p-value = {round(adf_result['p-value'], 3)}\")\n",
    "          "
   ]
  },
  {
   "cell_type": "code",
   "execution_count": 168,
   "metadata": {},
   "outputs": [],
   "source": [
    "Z['PC1'] = Z['PC1'].diff().diff()\n",
    "Z['PC2'] = Z['PC2'].diff().diff()\n",
    "Z['PC4'] = Z['PC4'].diff().diff()\n",
    "\n"
   ]
  },
  {
   "cell_type": "markdown",
   "metadata": {},
   "source": [
    "Our function indentified these four features as being in need of differencing in order to achieve stationarity."
   ]
  },
  {
   "cell_type": "markdown",
   "metadata": {},
   "source": [
    "In the test set these features required differencing and so we added them back in with stationarity achieved"
   ]
  },
  {
   "cell_type": "code",
   "execution_count": 169,
   "metadata": {},
   "outputs": [],
   "source": [
    "Z.dropna(inplace=True)\n"
   ]
  },
  {
   "cell_type": "code",
   "execution_count": 170,
   "metadata": {},
   "outputs": [],
   "source": [
    "#_train[Z_train.index]\n",
    "v = y[Z.index]\n",
    "full = pd.merge(left = v,right = Z,left_index=True,right_index=True)"
   ]
  },
  {
   "cell_type": "markdown",
   "metadata": {},
   "source": [
    "We added these back together after dropping empty colums then added our target variable to each and created a new dataframe with stationarity achieved with our target variables included."
   ]
  },
  {
   "cell_type": "code",
   "execution_count": 177,
   "metadata": {},
   "outputs": [],
   "source": [
    "var = VAR(full,freq = \"W\")"
   ]
  },
  {
   "cell_type": "code",
   "execution_count": 178,
   "metadata": {},
   "outputs": [],
   "source": [
    "fitted_var = var.fit(maxlags=20, ic = \"aic\")"
   ]
  },
  {
   "cell_type": "code",
   "execution_count": 179,
   "metadata": {},
   "outputs": [
    {
     "data": {
      "text/plain": [
       "  Summary of Regression Results   \n",
       "==================================\n",
       "Model:                         VAR\n",
       "Method:                        OLS\n",
       "Date:           Sun, 07, Jun, 2020\n",
       "Time:                     17:23:17\n",
       "--------------------------------------------------------------------\n",
       "No. of Equations:         19.0000    BIC:                   -74.5515\n",
       "Nobs:                     882.000    HQIC:                  -79.4507\n",
       "Log likelihood:           14059.8    FPE:                1.51843e-36\n",
       "AIC:                     -82.4839    Det(Omega_mle):     3.09560e-37\n",
       "--------------------------------------------------------------------\n",
       "Results for equation target\n",
       "============================================================================\n",
       "               coefficient       std. error           t-stat            prob\n",
       "----------------------------------------------------------------------------\n",
       "const             0.228194         0.245395            0.930           0.352\n",
       "L1.target         3.344549         0.031001          107.887           0.000\n",
       "L1.PC1           -3.669776         1.642847           -2.234           0.025\n",
       "L1.PC2           -1.009279         1.136453           -0.888           0.374\n",
       "L1.PC3            1.616797         1.002265            1.613           0.107\n",
       "L1.PC4            4.744440         1.676901            2.829           0.005\n",
       "L1.PC5           -1.613299         1.364876           -1.182           0.237\n",
       "L1.PC6           -0.119365         1.560551           -0.076           0.939\n",
       "L1.PC7            3.223951         1.907188            1.690           0.091\n",
       "L1.PC8           -0.011097         1.350744           -0.008           0.993\n",
       "L1.PC9            2.100447         1.194078            1.759           0.079\n",
       "L1.PC10           0.194918         1.308215            0.149           0.882\n",
       "L1.PC11          -1.122349         1.539072           -0.729           0.466\n",
       "L1.PC12          -4.156307         1.675034           -2.481           0.013\n",
       "L1.PC13          -0.179854         0.192011           -0.937           0.349\n",
       "L1.PC14           2.627179         1.257915            2.089           0.037\n",
       "L1.PC15           0.617785         1.297460            0.476           0.634\n",
       "L1.PC16           0.356109         1.499339            0.238           0.812\n",
       "L1.PC17           1.534482         1.620619            0.947           0.344\n",
       "L1.PC18           0.613833         1.205077            0.509           0.610\n",
       "L2.target        -4.155484         0.090731          -45.800           0.000\n",
       "L2.PC1           -4.947262         1.912069           -2.587           0.010\n",
       "L2.PC2           -1.483791         1.247623           -1.189           0.234\n",
       "L2.PC3           -2.719201         1.740680           -1.562           0.118\n",
       "L2.PC4            2.736099         1.958022            1.397           0.162\n",
       "L2.PC5            0.035954         2.458541            0.015           0.988\n",
       "L2.PC6           -2.808783         3.058487           -0.918           0.358\n",
       "L2.PC7           -5.460735         3.923806           -1.392           0.164\n",
       "L2.PC8            0.626301         2.487195            0.252           0.801\n",
       "L2.PC9           -4.786002         2.216808           -2.159           0.031\n",
       "L2.PC10          -1.878261         2.185496           -0.859           0.390\n",
       "L2.PC11           0.749605         2.932643            0.256           0.798\n",
       "L2.PC12           8.732791         3.434753            2.542           0.011\n",
       "L2.PC13           0.444993         0.341546            1.303           0.193\n",
       "L2.PC14          -1.760413         2.212123           -0.796           0.426\n",
       "L2.PC15          -1.839300         2.587567           -0.711           0.477\n",
       "L2.PC16          -3.310493         2.946005           -1.124           0.261\n",
       "L2.PC17           1.445014         3.400131            0.425           0.671\n",
       "L2.PC18          -0.964292         2.284079           -0.422           0.673\n",
       "L3.target         2.272973         0.090081           25.232           0.000\n",
       "L3.PC1           -0.068028         1.008657           -0.067           0.946\n",
       "L3.PC2            1.596118         0.860314            1.855           0.064\n",
       "L3.PC3            0.462412         1.757973            0.263           0.793\n",
       "L3.PC4           -0.683973         1.475892           -0.463           0.643\n",
       "L3.PC5            5.402052         2.614521            2.066           0.039\n",
       "L3.PC6            5.198140         3.138472            1.656           0.098\n",
       "L3.PC7           -1.112850         3.914004           -0.284           0.776\n",
       "L3.PC8           -2.144825         2.496897           -0.859           0.390\n",
       "L3.PC9            3.022926         2.237291            1.351           0.177\n",
       "L3.PC10           2.948407         2.221688            1.327           0.184\n",
       "L3.PC11          -0.781110         2.977321           -0.262           0.793\n",
       "L3.PC12          -4.293602         3.366408           -1.275           0.202\n",
       "L3.PC13          -0.421681         0.339354           -1.243           0.214\n",
       "L3.PC14          -2.299888         2.205956           -1.043           0.297\n",
       "L3.PC15           1.363955         2.545091            0.536           0.592\n",
       "L3.PC16           4.088990         2.852145            1.434           0.152\n",
       "L3.PC17          -7.326853         3.543023           -2.068           0.039\n",
       "L3.PC18           1.077075         2.271448            0.474           0.635\n",
       "L4.target        -0.462039         0.030348          -15.225           0.000\n",
       "L4.PC1           -0.161003         0.836114           -0.193           0.847\n",
       "L4.PC2            0.759077         0.718860            1.056           0.291\n",
       "L4.PC3            0.716518         1.027964            0.697           0.486\n",
       "L4.PC4           -0.080628         1.107900           -0.073           0.942\n",
       "L4.PC5           -3.922366         1.483191           -2.645           0.008\n",
       "L4.PC6           -2.339815         1.667656           -1.403           0.161\n",
       "L4.PC7            3.464017         1.913971            1.810           0.070\n",
       "L4.PC8            1.514180         1.381175            1.096           0.273\n",
       "L4.PC9           -0.105059         1.236239           -0.085           0.932\n",
       "L4.PC10          -1.336991         1.277521           -1.047           0.295\n",
       "L4.PC11           1.563874         1.572796            0.994           0.320\n",
       "L4.PC12          -0.218640         1.638305           -0.133           0.894\n",
       "L4.PC13           0.230965         0.189447            1.219           0.223\n",
       "L4.PC14           1.511824         1.200162            1.260           0.208\n",
       "L4.PC15          -0.309289         1.274771           -0.243           0.808\n",
       "L4.PC16          -0.797508         1.416855           -0.563           0.574\n",
       "L4.PC17           4.381836         1.733573            2.528           0.011\n",
       "L4.PC18          -0.715466         1.222205           -0.585           0.558\n",
       "============================================================================\n",
       "\n",
       "Results for equation PC1\n",
       "============================================================================\n",
       "               coefficient       std. error           t-stat            prob\n",
       "----------------------------------------------------------------------------\n",
       "const            -0.001533         0.012269           -0.125           0.901\n",
       "L1.target        -0.001344         0.001550           -0.867           0.386\n",
       "L1.PC1           -0.750010         0.082139           -9.131           0.000\n",
       "L1.PC2            0.449570         0.056820            7.912           0.000\n",
       "L1.PC3            0.333092         0.050111            6.647           0.000\n",
       "L1.PC4           -0.149417         0.083841           -1.782           0.075\n",
       "L1.PC5            0.126507         0.068241            1.854           0.064\n",
       "L1.PC6           -0.174224         0.078024           -2.233           0.026\n",
       "L1.PC7            0.123510         0.095355            1.295           0.195\n",
       "L1.PC8           -0.203402         0.067534           -3.012           0.003\n",
       "L1.PC9            0.160108         0.059701            2.682           0.007\n",
       "L1.PC10           0.097069         0.065408            1.484           0.138\n",
       "L1.PC11          -0.107262         0.076950           -1.394           0.163\n",
       "L1.PC12           0.065294         0.083748            0.780           0.436\n",
       "L1.PC13          -0.009328         0.009600           -0.972           0.331\n",
       "L1.PC14          -0.107409         0.062893           -1.708           0.088\n",
       "L1.PC15           0.075615         0.064870            1.166           0.244\n",
       "L1.PC16          -0.151954         0.074964           -2.027           0.043\n",
       "L1.PC17          -0.169792         0.081027           -2.095           0.036\n",
       "L1.PC18           0.054126         0.060251            0.898           0.369\n",
       "L2.target         0.003906         0.004536            0.861           0.389\n",
       "L2.PC1           -0.661730         0.095599           -6.922           0.000\n",
       "L2.PC2            0.153079         0.062378            2.454           0.014\n",
       "L2.PC3           -0.462422         0.087030           -5.313           0.000\n",
       "L2.PC4           -0.136074         0.097897           -1.390           0.165\n",
       "L2.PC5           -0.217404         0.122922           -1.769           0.077\n",
       "L2.PC6            0.119050         0.152917            0.779           0.436\n",
       "L2.PC7            0.112579         0.196181            0.574           0.566\n",
       "L2.PC8            0.425566         0.124354            3.422           0.001\n",
       "L2.PC9           -0.238952         0.110835           -2.156           0.031\n",
       "L2.PC10          -0.136779         0.109270           -1.252           0.211\n",
       "L2.PC11           0.244146         0.146626            1.665           0.096\n",
       "L2.PC12          -0.202225         0.171730           -1.178           0.239\n",
       "L2.PC13           0.008919         0.017077            0.522           0.601\n",
       "L2.PC14           0.097004         0.110601            0.877           0.380\n",
       "L2.PC15          -0.068280         0.129373           -0.528           0.598\n",
       "L2.PC16           0.194421         0.147294            1.320           0.187\n",
       "L2.PC17           0.284498         0.169999            1.674           0.094\n",
       "L2.PC18          -0.104078         0.114199           -0.911           0.362\n",
       "L3.target        -0.003813         0.004504           -0.847           0.397\n",
       "L3.PC1           -0.183158         0.050431           -3.632           0.000\n",
       "L3.PC2            0.193469         0.043014            4.498           0.000\n",
       "L3.PC3           -0.064422         0.087895           -0.733           0.464\n",
       "L3.PC4           -0.309524         0.073791           -4.195           0.000\n",
       "L3.PC5            0.229537         0.130720            1.756           0.079\n",
       "L3.PC6            0.381648         0.156917            2.432           0.015\n",
       "L3.PC7           -0.521114         0.195691           -2.663           0.008\n",
       "L3.PC8           -0.182150         0.124839           -1.459           0.145\n",
       "L3.PC9           -0.006627         0.111860           -0.059           0.953\n",
       "L3.PC10           0.059132         0.111079            0.532           0.594\n",
       "L3.PC11          -0.209038         0.148859           -1.404           0.160\n",
       "L3.PC12           0.194408         0.168313            1.155           0.248\n",
       "L3.PC13          -0.007270         0.016967           -0.428           0.668\n",
       "L3.PC14           0.080986         0.110293            0.734           0.463\n",
       "L3.PC15          -0.079395         0.127249           -0.624           0.533\n",
       "L3.PC16           0.032913         0.142601            0.231           0.817\n",
       "L3.PC17          -0.070489         0.177143           -0.398           0.691\n",
       "L3.PC18           0.013534         0.113567            0.119           0.905\n",
       "L4.target         0.001251         0.001517            0.825           0.410\n",
       "L4.PC1           -0.072055         0.041804           -1.724           0.085\n",
       "L4.PC2            0.092008         0.035941            2.560           0.010\n",
       "L4.PC3            0.194178         0.051396            3.778           0.000\n",
       "L4.PC4           -0.114464         0.055392           -2.066           0.039\n",
       "L4.PC5           -0.139201         0.074156           -1.877           0.061\n",
       "L4.PC6           -0.323745         0.083379           -3.883           0.000\n",
       "L4.PC7            0.282299         0.095694            2.950           0.003\n",
       "L4.PC8           -0.039012         0.069056           -0.565           0.572\n",
       "L4.PC9            0.088301         0.061809            1.429           0.153\n",
       "L4.PC10          -0.020451         0.063873           -0.320           0.749\n",
       "L4.PC11           0.072803         0.078636            0.926           0.355\n",
       "L4.PC12          -0.057514         0.081912           -0.702           0.483\n",
       "L4.PC13           0.003150         0.009472            0.333           0.739\n",
       "L4.PC14          -0.071968         0.060005           -1.199           0.230\n",
       "L4.PC15           0.070949         0.063736            1.113           0.266\n",
       "L4.PC16          -0.076709         0.070840           -1.083           0.279\n",
       "L4.PC17          -0.044884         0.086675           -0.518           0.605\n",
       "L4.PC18           0.035712         0.061108            0.584           0.559\n",
       "============================================================================\n",
       "\n",
       "Results for equation PC2\n",
       "============================================================================\n",
       "               coefficient       std. error           t-stat            prob\n",
       "----------------------------------------------------------------------------\n",
       "const            -0.012789         0.011889           -1.076           0.282\n",
       "L1.target         0.000199         0.001502            0.133           0.894\n",
       "L1.PC1            0.546917         0.079594            6.871           0.000\n",
       "L1.PC2           -0.236776         0.055060           -4.300           0.000\n",
       "L1.PC3            0.042214         0.048558            0.869           0.385\n",
       "L1.PC4           -0.022128         0.081244           -0.272           0.785\n",
       "L1.PC5            0.143501         0.066126            2.170           0.030\n",
       "L1.PC6            0.228173         0.075607            3.018           0.003\n",
       "L1.PC7           -0.279073         0.092401           -3.020           0.003\n",
       "L1.PC8           -0.194724         0.065442           -2.976           0.003\n",
       "L1.PC9            0.074065         0.057851            1.280           0.200\n",
       "L1.PC10          -0.042930         0.063381           -0.677           0.498\n",
       "L1.PC11          -0.104078         0.074566           -1.396           0.163\n",
       "L1.PC12           0.022975         0.081153            0.283           0.777\n",
       "L1.PC13           0.001412         0.009303            0.152           0.879\n",
       "L1.PC14           0.048286         0.060944            0.792           0.428\n",
       "L1.PC15          -0.159121         0.062860           -2.531           0.011\n",
       "L1.PC16          -0.005948         0.072641           -0.082           0.935\n",
       "L1.PC17           0.067994         0.078517            0.866           0.386\n",
       "L1.PC18          -0.091118         0.058384           -1.561           0.119\n",
       "L2.target        -0.000584         0.004396           -0.133           0.894\n",
       "L2.PC1            0.307821         0.092637            3.323           0.001\n",
       "L2.PC2           -0.250692         0.060446           -4.147           0.000\n",
       "L2.PC3           -0.047161         0.084334           -0.559           0.576\n",
       "L2.PC4            0.127641         0.094864            1.346           0.178\n",
       "L2.PC5           -0.216725         0.119113           -1.819           0.069\n",
       "L2.PC6           -0.296583         0.148180           -2.002           0.045\n",
       "L2.PC7            0.490543         0.190103            2.580           0.010\n",
       "L2.PC8            0.298708         0.120501            2.479           0.013\n",
       "L2.PC9           -0.092102         0.107401           -0.858           0.391\n",
       "L2.PC10          -0.001371         0.105884           -0.013           0.990\n",
       "L2.PC11           0.162615         0.142083            1.145           0.252\n",
       "L2.PC12          -0.110685         0.166409           -0.665           0.506\n",
       "L2.PC13           0.003303         0.016547            0.200           0.842\n",
       "L2.PC14          -0.010158         0.107174           -0.095           0.924\n",
       "L2.PC15           0.166908         0.125364            1.331           0.183\n",
       "L2.PC16           0.175152         0.142730            1.227           0.220\n",
       "L2.PC17          -0.035221         0.164732           -0.214           0.831\n",
       "L2.PC18           0.088828         0.110661            0.803           0.422\n",
       "L3.target         0.000619         0.004364            0.142           0.887\n",
       "L3.PC1            0.156670         0.048868            3.206           0.001\n",
       "L3.PC2           -0.198586         0.041681           -4.764           0.000\n",
       "L3.PC3           -0.003211         0.085171           -0.038           0.970\n",
       "L3.PC4            0.112362         0.071505            1.571           0.116\n",
       "L3.PC5            0.083026         0.126670            0.655           0.512\n",
       "L3.PC6           -0.048892         0.152055           -0.322           0.748\n",
       "L3.PC7           -0.081135         0.189628           -0.428           0.669\n",
       "L3.PC8           -0.106987         0.120971           -0.884           0.376\n",
       "L3.PC9            0.014124         0.108394            0.130           0.896\n",
       "L3.PC10           0.074658         0.107638            0.694           0.488\n",
       "L3.PC11          -0.071325         0.144247           -0.494           0.621\n",
       "L3.PC12           0.119830         0.163098            0.735           0.463\n",
       "L3.PC13          -0.005113         0.016441           -0.311           0.756\n",
       "L3.PC14          -0.094995         0.106876           -0.889           0.374\n",
       "L3.PC15           0.066078         0.123306            0.536           0.592\n",
       "L3.PC16          -0.247059         0.138183           -1.788           0.074\n",
       "L3.PC17          -0.121448         0.171655           -0.708           0.479\n",
       "L3.PC18           0.076408         0.110049            0.694           0.487\n",
       "L4.target        -0.000235         0.001470           -0.160           0.873\n",
       "L4.PC1            0.049455         0.040509            1.221           0.222\n",
       "L4.PC2           -0.087391         0.034828           -2.509           0.012\n",
       "L4.PC3            0.007766         0.049803            0.156           0.876\n",
       "L4.PC4            0.031181         0.053676            0.581           0.561\n",
       "L4.PC5           -0.009835         0.071859           -0.137           0.891\n",
       "L4.PC6            0.120907         0.080796            1.496           0.135\n",
       "L4.PC7           -0.130472         0.092729           -1.407           0.159\n",
       "L4.PC8            0.000681         0.066916            0.010           0.992\n",
       "L4.PC9            0.005788         0.059894            0.097           0.923\n",
       "L4.PC10          -0.032208         0.061894           -0.520           0.603\n",
       "L4.PC11           0.013642         0.076200            0.179           0.858\n",
       "L4.PC12          -0.032221         0.079374           -0.406           0.685\n",
       "L4.PC13           0.002108         0.009178            0.230           0.818\n",
       "L4.PC14           0.058708         0.058146            1.010           0.313\n",
       "L4.PC15          -0.074147         0.061761           -1.201           0.230\n",
       "L4.PC16           0.078451         0.068645            1.143           0.253\n",
       "L4.PC17           0.087745         0.083989            1.045           0.296\n",
       "L4.PC18          -0.073650         0.059214           -1.244           0.214\n",
       "============================================================================\n",
       "\n",
       "Results for equation PC3\n",
       "============================================================================\n",
       "               coefficient       std. error           t-stat            prob\n",
       "----------------------------------------------------------------------------\n",
       "const             0.004459         0.012907            0.345           0.730\n",
       "L1.target         0.000652         0.001631            0.400           0.689\n",
       "L1.PC1            0.243338         0.086412            2.816           0.005\n",
       "L1.PC2            0.588596         0.059776            9.847           0.000\n",
       "L1.PC3            1.471279         0.052718           27.909           0.000\n",
       "L1.PC4           -0.105922         0.088203           -1.201           0.230\n",
       "L1.PC5            0.209249         0.071791            2.915           0.004\n",
       "L1.PC6           -0.054642         0.082083           -0.666           0.506\n",
       "L1.PC7           -0.122236         0.100316           -1.219           0.223\n",
       "L1.PC8           -0.293034         0.071047           -4.124           0.000\n",
       "L1.PC9            0.118414         0.062807            1.885           0.059\n",
       "L1.PC10           0.112098         0.068810            1.629           0.103\n",
       "L1.PC11          -0.233453         0.080953           -2.884           0.004\n",
       "L1.PC12           0.091118         0.088105            1.034           0.301\n",
       "L1.PC13          -0.013913         0.010100           -1.378           0.168\n",
       "L1.PC14          -0.062786         0.066165           -0.949           0.343\n",
       "L1.PC15           0.016576         0.068245            0.243           0.808\n",
       "L1.PC16          -0.227433         0.078863           -2.884           0.004\n",
       "L1.PC17          -0.151896         0.085243           -1.782           0.075\n",
       "L1.PC18           0.052908         0.063386            0.835           0.404\n",
       "L2.target        -0.001386         0.004772           -0.290           0.771\n",
       "L2.PC1           -0.044589         0.100572           -0.443           0.658\n",
       "L2.PC2            0.327453         0.065623            4.990           0.000\n",
       "L2.PC3           -0.176270         0.091558           -1.925           0.054\n",
       "L2.PC4            0.005094         0.102990            0.049           0.961\n",
       "L2.PC5           -0.301828         0.129316           -2.334           0.020\n",
       "L2.PC6            0.024323         0.160873            0.151           0.880\n",
       "L2.PC7            0.235918         0.206387            1.143           0.253\n",
       "L2.PC8            0.438676         0.130823            3.353           0.001\n",
       "L2.PC9           -0.157900         0.116601           -1.354           0.176\n",
       "L2.PC10          -0.150178         0.114954           -1.306           0.191\n",
       "L2.PC11           0.388268         0.154253            2.517           0.012\n",
       "L2.PC12          -0.108807         0.180664           -0.602           0.547\n",
       "L2.PC13           0.024375         0.017965            1.357           0.175\n",
       "L2.PC14           0.096647         0.116355            0.831           0.406\n",
       "L2.PC15          -0.042465         0.136103           -0.312           0.755\n",
       "L2.PC16           0.368774         0.154956            2.380           0.017\n",
       "L2.PC17           0.246474         0.178843            1.378           0.168\n",
       "L2.PC18          -0.060391         0.120140           -0.503           0.615\n",
       "L3.target         0.000803         0.004738            0.169           0.865\n",
       "L3.PC1           -0.167847         0.053054           -3.164           0.002\n",
       "L3.PC2            0.126475         0.045251            2.795           0.005\n",
       "L3.PC3           -0.097389         0.092467           -1.053           0.292\n",
       "L3.PC4            0.095303         0.077630            1.228           0.220\n",
       "L3.PC5            0.029070         0.137521            0.211           0.833\n",
       "L3.PC6            0.019737         0.165080            0.120           0.905\n",
       "L3.PC7           -0.089848         0.205872           -0.436           0.663\n",
       "L3.PC8           -0.071054         0.131334           -0.541           0.588\n",
       "L3.PC9           -0.023497         0.117679           -0.200           0.842\n",
       "L3.PC10           0.028833         0.116858            0.247           0.805\n",
       "L3.PC11          -0.088880         0.156603           -0.568           0.570\n",
       "L3.PC12          -0.016613         0.177069           -0.094           0.925\n",
       "L3.PC13          -0.008912         0.017850           -0.499           0.618\n",
       "L3.PC14           0.008245         0.116031            0.071           0.943\n",
       "L3.PC15           0.058361         0.133869            0.436           0.663\n",
       "L3.PC16          -0.054714         0.150019           -0.365           0.715\n",
       "L3.PC17          -0.039984         0.186359           -0.215           0.830\n",
       "L3.PC18          -0.001032         0.119475           -0.009           0.993\n",
       "L4.target        -0.000068         0.001596           -0.043           0.966\n",
       "L4.PC1           -0.089773         0.043979           -2.041           0.041\n",
       "L4.PC2            0.046338         0.037811            1.226           0.220\n",
       "L4.PC3           -0.198392         0.054070           -3.669           0.000\n",
       "L4.PC4            0.040009         0.058274            0.687           0.492\n",
       "L4.PC5            0.065811         0.078014            0.844           0.399\n",
       "L4.PC6            0.011728         0.087717            0.134           0.894\n",
       "L4.PC7           -0.023912         0.100673           -0.238           0.812\n",
       "L4.PC8           -0.074074         0.072648           -1.020           0.308\n",
       "L4.PC9            0.064216         0.065025            0.988           0.323\n",
       "L4.PC10           0.009640         0.067196            0.143           0.886\n",
       "L4.PC11          -0.065980         0.082727           -0.798           0.425\n",
       "L4.PC12           0.034512         0.086173            0.401           0.689\n",
       "L4.PC13          -0.002701         0.009965           -0.271           0.786\n",
       "L4.PC14          -0.045259         0.063127           -0.717           0.473\n",
       "L4.PC15          -0.032542         0.067051           -0.485           0.627\n",
       "L4.PC16          -0.089439         0.074525           -1.200           0.230\n",
       "L4.PC17          -0.053869         0.091184           -0.591           0.555\n",
       "L4.PC18           0.007205         0.064286            0.112           0.911\n",
       "============================================================================\n",
       "\n",
       "Results for equation PC4\n",
       "============================================================================\n",
       "               coefficient       std. error           t-stat            prob\n",
       "----------------------------------------------------------------------------\n",
       "const             0.000195         0.009820            0.020           0.984\n",
       "L1.target        -0.000434         0.001241           -0.350           0.727\n",
       "L1.PC1           -0.018752         0.065742           -0.285           0.775\n",
       "L1.PC2            0.210315         0.045478            4.625           0.000\n",
       "L1.PC3            0.243932         0.040108            6.082           0.000\n",
       "L1.PC4           -0.755189         0.067105          -11.254           0.000\n",
       "L1.PC5            0.061869         0.054618            1.133           0.257\n",
       "L1.PC6           -0.030540         0.062449           -0.489           0.625\n",
       "L1.PC7            0.033120         0.076320            0.434           0.664\n",
       "L1.PC8           -0.159254         0.054053           -2.946           0.003\n",
       "L1.PC9            0.040421         0.047784            0.846           0.398\n",
       "L1.PC10           0.024985         0.052351            0.477           0.633\n",
       "L1.PC11          -0.007366         0.061589           -0.120           0.905\n",
       "L1.PC12           0.024766         0.067030            0.369           0.712\n",
       "L1.PC13          -0.003961         0.007684           -0.515           0.606\n",
       "L1.PC14          -0.031971         0.050338           -0.635           0.525\n",
       "L1.PC15           0.024236         0.051921            0.467           0.641\n",
       "L1.PC16          -0.049055         0.059999           -0.818           0.414\n",
       "L1.PC17          -0.132958         0.064853           -2.050           0.040\n",
       "L1.PC18           0.082255         0.048224            1.706           0.088\n",
       "L2.target         0.001287         0.003631            0.355           0.723\n",
       "L2.PC1           -0.154692         0.076516           -2.022           0.043\n",
       "L2.PC2            0.012856         0.049926            0.258           0.797\n",
       "L2.PC3           -0.316306         0.069657           -4.541           0.000\n",
       "L2.PC4           -0.481075         0.078354           -6.140           0.000\n",
       "L2.PC5           -0.146690         0.098384           -1.491           0.136\n",
       "L2.PC6           -0.081650         0.122392           -0.667           0.505\n",
       "L2.PC7            0.168437         0.157020            1.073           0.283\n",
       "L2.PC8            0.264623         0.099530            2.659           0.008\n",
       "L2.PC9           -0.099879         0.088710           -1.126           0.260\n",
       "L2.PC10          -0.080766         0.087457           -0.923           0.356\n",
       "L2.PC11           0.070655         0.117356            0.602           0.547\n",
       "L2.PC12          -0.133903         0.137449           -0.974           0.330\n",
       "L2.PC13           0.005636         0.013668            0.412           0.680\n",
       "L2.PC14           0.030870         0.088523            0.349           0.727\n",
       "L2.PC15           0.019700         0.103547            0.190           0.849\n",
       "L2.PC16           0.041547         0.117891            0.352           0.725\n",
       "L2.PC17           0.161957         0.136064            1.190           0.234\n",
       "L2.PC18          -0.120931         0.091402           -1.323           0.186\n",
       "L3.target        -0.001249         0.003605           -0.347           0.729\n",
       "L3.PC1            0.066898         0.040364            1.657           0.097\n",
       "L3.PC2            0.082957         0.034427            2.410           0.016\n",
       "L3.PC3           -0.063004         0.070349           -0.896           0.370\n",
       "L3.PC4           -0.470350         0.059061           -7.964           0.000\n",
       "L3.PC5            0.208708         0.104626            1.995           0.046\n",
       "L3.PC6            0.342425         0.125593            2.726           0.006\n",
       "L3.PC7           -0.392227         0.156627           -2.504           0.012\n",
       "L3.PC8           -0.079315         0.099919           -0.794           0.427\n",
       "L3.PC9            0.022874         0.089530            0.255           0.798\n",
       "L3.PC10           0.043058         0.088906            0.484           0.628\n",
       "L3.PC11          -0.103207         0.119144           -0.866           0.386\n",
       "L3.PC12           0.170314         0.134714            1.264           0.206\n",
       "L3.PC13           0.002550         0.013580            0.188           0.851\n",
       "L3.PC14           0.043111         0.088276            0.488           0.625\n",
       "L3.PC15          -0.103258         0.101847           -1.014           0.311\n",
       "L3.PC16           0.078290         0.114135            0.686           0.493\n",
       "L3.PC17           0.045983         0.141782            0.324           0.746\n",
       "L3.PC18           0.003837         0.090897            0.042           0.966\n",
       "L4.target         0.000396         0.001214            0.326           0.744\n",
       "L4.PC1            0.052901         0.033459            1.581           0.114\n",
       "L4.PC2            0.048556         0.028767            1.688           0.091\n",
       "L4.PC3            0.135530         0.041136            3.295           0.001\n",
       "L4.PC4           -0.222850         0.044335           -5.027           0.000\n",
       "L4.PC5           -0.124545         0.059353           -2.098           0.036\n",
       "L4.PC6           -0.227531         0.066735           -3.409           0.001\n",
       "L4.PC7            0.189389         0.076592            2.473           0.013\n",
       "L4.PC8           -0.027644         0.055271           -0.500           0.617\n",
       "L4.PC9            0.036842         0.049471            0.745           0.456\n",
       "L4.PC10           0.014165         0.051123            0.277           0.782\n",
       "L4.PC11           0.039680         0.062939            0.630           0.528\n",
       "L4.PC12          -0.061215         0.065560           -0.934           0.350\n",
       "L4.PC13          -0.003300         0.007581           -0.435           0.663\n",
       "L4.PC14          -0.040473         0.048027           -0.843           0.399\n",
       "L4.PC15           0.059458         0.051013            1.166           0.244\n",
       "L4.PC16          -0.072307         0.056699           -1.275           0.202\n",
       "L4.PC17          -0.075365         0.069373           -1.086           0.277\n",
       "L4.PC18           0.033898         0.048909            0.693           0.488\n",
       "============================================================================\n",
       "\n",
       "Results for equation PC5\n",
       "============================================================================\n",
       "               coefficient       std. error           t-stat            prob\n",
       "----------------------------------------------------------------------------\n",
       "const             0.005304         0.009627            0.551           0.582\n",
       "L1.target         0.001253         0.001216            1.030           0.303\n",
       "L1.PC1           -0.030951         0.064450           -0.480           0.631\n",
       "L1.PC2           -0.167450         0.044584           -3.756           0.000\n",
       "L1.PC3           -0.112092         0.039319           -2.851           0.004\n",
       "L1.PC4           -0.129808         0.065785           -1.973           0.048\n",
       "L1.PC5            1.099179         0.053545           20.528           0.000\n",
       "L1.PC6           -0.090843         0.061221           -1.484           0.138\n",
       "L1.PC7            0.043208         0.074820            0.577           0.564\n",
       "L1.PC8            0.019513         0.052990            0.368           0.713\n",
       "L1.PC9           -0.008740         0.046844           -0.187           0.852\n",
       "L1.PC10           0.058105         0.051322            1.132           0.258\n",
       "L1.PC11           0.124053         0.060378            2.055           0.040\n",
       "L1.PC12          -0.059814         0.065712           -0.910           0.363\n",
       "L1.PC13          -0.010696         0.007533           -1.420           0.156\n",
       "L1.PC14           0.039284         0.049348            0.796           0.426\n",
       "L1.PC15          -0.035020         0.050900           -0.688           0.491\n",
       "L1.PC16          -0.124121         0.058820           -2.110           0.035\n",
       "L1.PC17          -0.048013         0.063578           -0.755           0.450\n",
       "L1.PC18           0.044228         0.047276            0.936           0.350\n",
       "L2.target        -0.004159         0.003559           -1.168           0.243\n",
       "L2.PC1            0.196401         0.075011            2.618           0.009\n",
       "L2.PC2           -0.004322         0.048945           -0.088           0.930\n",
       "L2.PC3            0.096427         0.068288            1.412           0.158\n",
       "L2.PC4           -0.333533         0.076814           -4.342           0.000\n",
       "L2.PC5            0.204435         0.096450            2.120           0.034\n",
       "L2.PC6            0.171954         0.119986            1.433           0.152\n",
       "L2.PC7           -0.254491         0.153932           -1.653           0.098\n",
       "L2.PC8           -0.034385         0.097574           -0.352           0.725\n",
       "L2.PC9            0.038003         0.086966            0.437           0.662\n",
       "L2.PC10          -0.010735         0.085738           -0.125           0.900\n",
       "L2.PC11          -0.154771         0.115049           -1.345           0.179\n",
       "L2.PC12           0.127076         0.134747            0.943           0.346\n",
       "L2.PC13           0.006932         0.013399            0.517           0.605\n",
       "L2.PC14          -0.017906         0.086782           -0.206           0.837\n",
       "L2.PC15          -0.050212         0.101511           -0.495           0.621\n",
       "L2.PC16           0.142520         0.115573            1.233           0.218\n",
       "L2.PC17           0.035119         0.133388            0.263           0.792\n",
       "L2.PC18          -0.055206         0.089605           -0.616           0.538\n",
       "L3.target         0.004627         0.003534            1.309           0.190\n",
       "L3.PC1            0.123486         0.039570            3.121           0.002\n",
       "L3.PC2           -0.000420         0.033750           -0.012           0.990\n",
       "L3.PC3            0.124346         0.068966            1.803           0.071\n",
       "L3.PC4           -0.164746         0.057900           -2.845           0.004\n",
       "L3.PC5           -0.143370         0.102569           -1.398           0.162\n",
       "L3.PC6           -0.119939         0.123123           -0.974           0.330\n",
       "L3.PC7            0.167515         0.153548            1.091           0.275\n",
       "L3.PC8           -0.013865         0.097954           -0.142           0.887\n",
       "L3.PC9            0.023151         0.087770            0.264           0.792\n",
       "L3.PC10          -0.060485         0.087158           -0.694           0.488\n",
       "L3.PC11          -0.043706         0.116801           -0.374           0.708\n",
       "L3.PC12          -0.082524         0.132066           -0.625           0.532\n",
       "L3.PC13           0.001260         0.013313            0.095           0.925\n",
       "L3.PC14          -0.029202         0.086541           -0.337           0.736\n",
       "L3.PC15           0.147480         0.099845            1.477           0.140\n",
       "L3.PC16           0.090030         0.111891            0.805           0.421\n",
       "L3.PC17          -0.002742         0.138994           -0.020           0.984\n",
       "L3.PC18           0.021180         0.089110            0.238           0.812\n",
       "L4.target        -0.001722         0.001191           -1.446           0.148\n",
       "L4.PC1            0.042449         0.032801            1.294           0.196\n",
       "L4.PC2           -0.015774         0.028201           -0.559           0.576\n",
       "L4.PC3           -0.110057         0.040327           -2.729           0.006\n",
       "L4.PC4           -0.066561         0.043463           -1.531           0.126\n",
       "L4.PC5           -0.159731         0.058186           -2.745           0.006\n",
       "L4.PC6            0.031959         0.065423            0.488           0.625\n",
       "L4.PC7            0.044683         0.075086            0.595           0.552\n",
       "L4.PC8            0.025859         0.054184            0.477           0.633\n",
       "L4.PC9           -0.049912         0.048498           -1.029           0.303\n",
       "L4.PC10           0.014381         0.050118            0.287           0.774\n",
       "L4.PC11           0.072440         0.061701            1.174           0.240\n",
       "L4.PC12           0.014484         0.064271            0.225           0.822\n",
       "L4.PC13           0.001618         0.007432            0.218           0.828\n",
       "L4.PC14           0.011218         0.047083            0.238           0.812\n",
       "L4.PC15          -0.065774         0.050010           -1.315           0.188\n",
       "L4.PC16          -0.106963         0.055584           -1.924           0.054\n",
       "L4.PC17           0.016348         0.068009            0.240           0.810\n",
       "L4.PC18          -0.009827         0.047948           -0.205           0.838\n",
       "============================================================================\n",
       "\n",
       "Results for equation PC6\n",
       "============================================================================\n",
       "               coefficient       std. error           t-stat            prob\n",
       "----------------------------------------------------------------------------\n",
       "const             0.019069         0.008909            2.141           0.032\n",
       "L1.target        -0.001723         0.001125           -1.531           0.126\n",
       "L1.PC1            0.042049         0.059641            0.705           0.481\n",
       "L1.PC2           -0.137277         0.041257           -3.327           0.001\n",
       "L1.PC3           -0.137840         0.036385           -3.788           0.000\n",
       "L1.PC4           -0.067494         0.060877           -1.109           0.268\n",
       "L1.PC5            0.160946         0.049549            3.248           0.001\n",
       "L1.PC6            1.188964         0.056653           20.987           0.000\n",
       "L1.PC7           -0.106904         0.069237           -1.544           0.123\n",
       "L1.PC8           -0.033199         0.049036           -0.677           0.498\n",
       "L1.PC9           -0.062031         0.043349           -1.431           0.152\n",
       "L1.PC10          -0.045661         0.047492           -0.961           0.336\n",
       "L1.PC11          -0.025133         0.055873           -0.450           0.653\n",
       "L1.PC12          -0.021319         0.060809           -0.351           0.726\n",
       "L1.PC13          -0.001264         0.006971           -0.181           0.856\n",
       "L1.PC14           0.017059         0.045666            0.374           0.709\n",
       "L1.PC15           0.052091         0.047102            1.106           0.269\n",
       "L1.PC16           0.117665         0.054431            2.162           0.031\n",
       "L1.PC17           0.077085         0.058834            1.310           0.190\n",
       "L1.PC18           0.025272         0.043748            0.578           0.563\n",
       "L2.target         0.005933         0.003294            1.801           0.072\n",
       "L2.PC1            0.151709         0.069414            2.186           0.029\n",
       "L2.PC2           -0.018071         0.045293           -0.399           0.690\n",
       "L2.PC3            0.138472         0.063192            2.191           0.028\n",
       "L2.PC4           -0.060952         0.071082           -0.857           0.391\n",
       "L2.PC5           -0.046044         0.089253           -0.516           0.606\n",
       "L2.PC6           -0.018110         0.111033           -0.163           0.870\n",
       "L2.PC7            0.045330         0.142447            0.318           0.750\n",
       "L2.PC8           -0.122955         0.090293           -1.362           0.173\n",
       "L2.PC9            0.071506         0.080477            0.889           0.374\n",
       "L2.PC10           0.054721         0.079340            0.690           0.490\n",
       "L2.PC11          -0.034125         0.106464           -0.321           0.749\n",
       "L2.PC12           0.048920         0.124692            0.392           0.695\n",
       "L2.PC13          -0.004410         0.012399           -0.356           0.722\n",
       "L2.PC14           0.005563         0.080307            0.069           0.945\n",
       "L2.PC15          -0.029680         0.093937           -0.316           0.752\n",
       "L2.PC16          -0.107267         0.106949           -1.003           0.316\n",
       "L2.PC17          -0.130333         0.123436           -1.056           0.291\n",
       "L2.PC18           0.031167         0.082919            0.376           0.707\n",
       "L3.target        -0.006826         0.003270           -2.087           0.037\n",
       "L3.PC1            0.033543         0.036617            0.916           0.360\n",
       "L3.PC2           -0.032967         0.031232           -1.056           0.291\n",
       "L3.PC3            0.031009         0.063820            0.486           0.627\n",
       "L3.PC4            0.042809         0.053580            0.799           0.424\n",
       "L3.PC5           -0.159553         0.094915           -1.681           0.093\n",
       "L3.PC6           -0.183049         0.113936           -1.607           0.108\n",
       "L3.PC7            0.188602         0.142091            1.327           0.184\n",
       "L3.PC8            0.086322         0.090645            0.952           0.341\n",
       "L3.PC9           -0.024918         0.081221           -0.307           0.759\n",
       "L3.PC10          -0.005312         0.080654           -0.066           0.947\n",
       "L3.PC11           0.092325         0.108086            0.854           0.393\n",
       "L3.PC12          -0.029379         0.122211           -0.240           0.810\n",
       "L3.PC13           0.005237         0.012320            0.425           0.671\n",
       "L3.PC14          -0.017492         0.080083           -0.218           0.827\n",
       "L3.PC15          -0.006236         0.092395           -0.067           0.946\n",
       "L3.PC16          -0.066936         0.103542           -0.646           0.518\n",
       "L3.PC17           0.041099         0.128623            0.320           0.749\n",
       "L3.PC18          -0.030980         0.082461           -0.376           0.707\n",
       "L4.target         0.002617         0.001102            2.375           0.018\n",
       "L4.PC1            0.017493         0.030354            0.576           0.564\n",
       "L4.PC2           -0.006148         0.026097           -0.236           0.814\n",
       "L4.PC3           -0.032631         0.037318           -0.874           0.382\n",
       "L4.PC4            0.010461         0.040220            0.260           0.795\n",
       "L4.PC5            0.050966         0.053845            0.947           0.344\n",
       "L4.PC6            0.011414         0.060541            0.189           0.850\n",
       "L4.PC7           -0.117942         0.069483           -1.697           0.090\n",
       "L4.PC8            0.072749         0.050141            1.451           0.147\n",
       "L4.PC9            0.011197         0.044879            0.249           0.803\n",
       "L4.PC10          -0.004597         0.046378           -0.099           0.921\n",
       "L4.PC11          -0.029844         0.057097           -0.523           0.601\n",
       "L4.PC12           0.001672         0.059476            0.028           0.978\n",
       "L4.PC13           0.002731         0.006878            0.397           0.691\n",
       "L4.PC14          -0.009415         0.043570           -0.216           0.829\n",
       "L4.PC15          -0.009531         0.046278           -0.206           0.837\n",
       "L4.PC16           0.054252         0.051436            1.055           0.292\n",
       "L4.PC17           0.012548         0.062934            0.199           0.842\n",
       "L4.PC18          -0.027101         0.044370           -0.611           0.541\n",
       "============================================================================\n",
       "\n",
       "Results for equation PC7\n",
       "============================================================================\n",
       "               coefficient       std. error           t-stat            prob\n",
       "----------------------------------------------------------------------------\n",
       "const             0.012076         0.007952            1.519           0.129\n",
       "L1.target        -0.000754         0.001005           -0.751           0.453\n",
       "L1.PC1           -0.188132         0.053236           -3.534           0.000\n",
       "L1.PC2            0.024347         0.036826            0.661           0.509\n",
       "L1.PC3            0.092002         0.032478            2.833           0.005\n",
       "L1.PC4            0.298142         0.054340            5.487           0.000\n",
       "L1.PC5           -0.147956         0.044228           -3.345           0.001\n",
       "L1.PC6           -0.349569         0.050569           -6.913           0.000\n",
       "L1.PC7            1.419366         0.061802           22.966           0.000\n",
       "L1.PC8           -0.055428         0.043770           -1.266           0.205\n",
       "L1.PC9           -0.012306         0.038694           -0.318           0.750\n",
       "L1.PC10          -0.077638         0.042392           -1.831           0.067\n",
       "L1.PC11          -0.119951         0.049873           -2.405           0.016\n",
       "L1.PC12          -0.006634         0.054279           -0.122           0.903\n",
       "L1.PC13          -0.005533         0.006222           -0.889           0.374\n",
       "L1.PC14           0.003482         0.040762            0.085           0.932\n",
       "L1.PC15           0.097530         0.042044            2.320           0.020\n",
       "L1.PC16           0.007282         0.048586            0.150           0.881\n",
       "L1.PC17          -0.040843         0.052516           -0.778           0.437\n",
       "L1.PC18           0.005877         0.039050            0.150           0.880\n",
       "L2.target         0.002121         0.002940            0.721           0.471\n",
       "L2.PC1           -0.193265         0.061960           -3.119           0.002\n",
       "L2.PC2           -0.051382         0.040429           -1.271           0.204\n",
       "L2.PC3           -0.156671         0.056406           -2.778           0.005\n",
       "L2.PC4            0.224542         0.063449            3.539           0.000\n",
       "L2.PC5            0.149264         0.079668            1.874           0.061\n",
       "L2.PC6            0.282351         0.099109            2.849           0.004\n",
       "L2.PC7           -0.226611         0.127150           -1.782           0.075\n",
       "L2.PC8            0.055023         0.080597            0.683           0.495\n",
       "L2.PC9           -0.033983         0.071835           -0.473           0.636\n",
       "L2.PC10           0.052138         0.070820            0.736           0.462\n",
       "L2.PC11           0.156763         0.095032            1.650           0.099\n",
       "L2.PC12           0.014095         0.111302            0.127           0.899\n",
       "L2.PC13           0.003264         0.011068            0.295           0.768\n",
       "L2.PC14           0.013966         0.071683            0.195           0.846\n",
       "L2.PC15          -0.098542         0.083849           -1.175           0.240\n",
       "L2.PC16           0.017644         0.095464            0.185           0.853\n",
       "L2.PC17           0.095436         0.110180            0.866           0.386\n",
       "L2.PC18           0.048621         0.074015            0.657           0.511\n",
       "L3.target        -0.002028         0.002919           -0.695           0.487\n",
       "L3.PC1           -0.053223         0.032685           -1.628           0.103\n",
       "L3.PC2           -0.020110         0.027878           -0.721           0.471\n",
       "L3.PC3           -0.012003         0.056967           -0.211           0.833\n",
       "L3.PC4            0.078663         0.047826            1.645           0.100\n",
       "L3.PC5            0.054152         0.084723            0.639           0.523\n",
       "L3.PC6            0.128308         0.101701            1.262           0.207\n",
       "L3.PC7           -0.151695         0.126832           -1.196           0.232\n",
       "L3.PC8           -0.058723         0.080911           -0.726           0.468\n",
       "L3.PC9            0.005663         0.072499            0.078           0.938\n",
       "L3.PC10           0.061918         0.071993            0.860           0.390\n",
       "L3.PC11          -0.024214         0.096479           -0.251           0.802\n",
       "L3.PC12           0.022896         0.109088            0.210           0.834\n",
       "L3.PC13          -0.006582         0.010997           -0.599           0.549\n",
       "L3.PC14           0.009938         0.071483            0.139           0.889\n",
       "L3.PC15          -0.032273         0.082473           -0.391           0.696\n",
       "L3.PC16          -0.054512         0.092423           -0.590           0.555\n",
       "L3.PC17          -0.087909         0.114811           -0.766           0.444\n",
       "L3.PC18          -0.008811         0.073606           -0.120           0.905\n",
       "L4.target         0.000661         0.000983            0.672           0.501\n",
       "L4.PC1           -0.037158         0.027094           -1.371           0.170\n",
       "L4.PC2           -0.004964         0.023294           -0.213           0.831\n",
       "L4.PC3            0.076079         0.033311            2.284           0.022\n",
       "L4.PC4            0.042967         0.035901            1.197           0.231\n",
       "L4.PC5           -0.052510         0.048062           -1.093           0.275\n",
       "L4.PC6           -0.065067         0.054040           -1.204           0.229\n",
       "L4.PC7           -0.037901         0.062022           -0.611           0.541\n",
       "L4.PC8            0.052258         0.044757            1.168           0.243\n",
       "L4.PC9            0.041744         0.040060            1.042           0.297\n",
       "L4.PC10          -0.037001         0.041398           -0.894           0.371\n",
       "L4.PC11          -0.011392         0.050966           -0.224           0.823\n",
       "L4.PC12          -0.029451         0.053089           -0.555           0.579\n",
       "L4.PC13           0.007738         0.006139            1.260           0.208\n",
       "L4.PC14          -0.028754         0.038891           -0.739           0.460\n",
       "L4.PC15           0.034461         0.041309            0.834           0.404\n",
       "L4.PC16           0.032628         0.045913            0.711           0.477\n",
       "L4.PC17           0.034066         0.056176            0.606           0.544\n",
       "L4.PC18          -0.046217         0.039605           -1.167           0.243\n",
       "============================================================================\n",
       "\n",
       "Results for equation PC8\n",
       "============================================================================\n",
       "               coefficient       std. error           t-stat            prob\n",
       "----------------------------------------------------------------------------\n",
       "const            -0.017692         0.009726           -1.819           0.069\n",
       "L1.target         0.001405         0.001229            1.144           0.253\n",
       "L1.PC1           -0.032070         0.065115           -0.493           0.622\n",
       "L1.PC2           -0.016841         0.045044           -0.374           0.708\n",
       "L1.PC3            0.030188         0.039725            0.760           0.447\n",
       "L1.PC4            0.051879         0.066465            0.781           0.435\n",
       "L1.PC5           -0.051757         0.054097           -0.957           0.339\n",
       "L1.PC6           -0.083712         0.061853           -1.353           0.176\n",
       "L1.PC7            0.310289         0.075592            4.105           0.000\n",
       "L1.PC8            1.236662         0.053537           23.099           0.000\n",
       "L1.PC9           -0.058425         0.047328           -1.234           0.217\n",
       "L1.PC10           0.101218         0.051852            1.952           0.051\n",
       "L1.PC11          -0.059042         0.061002           -0.968           0.333\n",
       "L1.PC12           0.010624         0.066391            0.160           0.873\n",
       "L1.PC13          -0.002248         0.007610           -0.295           0.768\n",
       "L1.PC14           0.077973         0.049858            1.564           0.118\n",
       "L1.PC15          -0.028353         0.051425           -0.551           0.581\n",
       "L1.PC16           0.139861         0.059427            2.353           0.019\n",
       "L1.PC17           0.026339         0.064234            0.410           0.682\n",
       "L1.PC18          -0.000686         0.047764           -0.014           0.989\n",
       "L2.target        -0.004155         0.003596           -1.155           0.248\n",
       "L2.PC1            0.006667         0.075785            0.088           0.930\n",
       "L2.PC2           -0.038266         0.049450           -0.774           0.439\n",
       "L2.PC3           -0.071089         0.068992           -1.030           0.303\n",
       "L2.PC4           -0.019040         0.077607           -0.245           0.806\n",
       "L2.PC5            0.130571         0.097445            1.340           0.180\n",
       "L2.PC6            0.091139         0.121224            0.752           0.452\n",
       "L2.PC7           -0.216072         0.155521           -1.389           0.165\n",
       "L2.PC8           -0.088429         0.098581           -0.897           0.370\n",
       "L2.PC9            0.122694         0.087864            1.396           0.163\n",
       "L2.PC10          -0.070430         0.086623           -0.813           0.416\n",
       "L2.PC11           0.106383         0.116236            0.915           0.360\n",
       "L2.PC12          -0.052692         0.136138           -0.387           0.699\n",
       "L2.PC13           0.008667         0.013537            0.640           0.522\n",
       "L2.PC14          -0.124080         0.087678           -1.415           0.157\n",
       "L2.PC15           0.026562         0.102559            0.259           0.796\n",
       "L2.PC16          -0.102089         0.116766           -0.874           0.382\n",
       "L2.PC17          -0.044548         0.134765           -0.331           0.741\n",
       "L2.PC18           0.010524         0.090530            0.116           0.907\n",
       "L3.target         0.004192         0.003570            1.174           0.240\n",
       "L3.PC1            0.027720         0.039978            0.693           0.488\n",
       "L3.PC2           -0.005208         0.034099           -0.153           0.879\n",
       "L3.PC3            0.080942         0.069678            1.162           0.245\n",
       "L3.PC4           -0.049045         0.058497           -0.838           0.402\n",
       "L3.PC5           -0.027087         0.103627           -0.261           0.794\n",
       "L3.PC6            0.076590         0.124394            0.616           0.538\n",
       "L3.PC7           -0.145127         0.155133           -0.936           0.350\n",
       "L3.PC8           -0.072610         0.098965           -0.734           0.463\n",
       "L3.PC9           -0.028577         0.088676           -0.322           0.747\n",
       "L3.PC10          -0.002022         0.088057           -0.023           0.982\n",
       "L3.PC11          -0.079404         0.118007           -0.673           0.501\n",
       "L3.PC12           0.063855         0.133429            0.479           0.632\n",
       "L3.PC13           0.000371         0.013450            0.028           0.978\n",
       "L3.PC14           0.046204         0.087434            0.528           0.597\n",
       "L3.PC15          -0.000258         0.100875           -0.003           0.998\n",
       "L3.PC16           0.000544         0.113046            0.005           0.996\n",
       "L3.PC17          -0.000756         0.140429           -0.005           0.996\n",
       "L3.PC18          -0.033126         0.090030           -0.368           0.713\n",
       "L4.target        -0.001442         0.001203           -1.199           0.231\n",
       "L4.PC1            0.015491         0.033140            0.467           0.640\n",
       "L4.PC2           -0.005930         0.028492           -0.208           0.835\n",
       "L4.PC3           -0.040521         0.040744           -0.995           0.320\n",
       "L4.PC4           -0.027908         0.043912           -0.636           0.525\n",
       "L4.PC5           -0.051962         0.058787           -0.884           0.377\n",
       "L4.PC6           -0.077655         0.066098           -1.175           0.240\n",
       "L4.PC7            0.056973         0.075861            0.751           0.453\n",
       "L4.PC8           -0.074313         0.054743           -1.357           0.175\n",
       "L4.PC9           -0.028525         0.048999           -0.582           0.560\n",
       "L4.PC10          -0.025060         0.050635           -0.495           0.621\n",
       "L4.PC11           0.031563         0.062338            0.506           0.613\n",
       "L4.PC12          -0.023570         0.064935           -0.363           0.717\n",
       "L4.PC13          -0.002213         0.007509           -0.295           0.768\n",
       "L4.PC14           0.001073         0.047569            0.023           0.982\n",
       "L4.PC15          -0.001102         0.050526           -0.022           0.983\n",
       "L4.PC16          -0.041214         0.056158           -0.734           0.463\n",
       "L4.PC17           0.019847         0.068711            0.289           0.773\n",
       "L4.PC18           0.021691         0.048442            0.448           0.654\n",
       "============================================================================\n",
       "\n",
       "Results for equation PC9\n",
       "============================================================================\n",
       "               coefficient       std. error           t-stat            prob\n",
       "----------------------------------------------------------------------------\n",
       "const            -0.007155         0.009686           -0.739           0.460\n",
       "L1.target        -0.001385         0.001224           -1.132           0.258\n",
       "L1.PC1           -0.005315         0.064845           -0.082           0.935\n",
       "L1.PC2            0.021968         0.044857            0.490           0.624\n",
       "L1.PC3            0.042980         0.039561            1.086           0.277\n",
       "L1.PC4            0.039115         0.066189            0.591           0.555\n",
       "L1.PC5            0.157993         0.053873            2.933           0.003\n",
       "L1.PC6            0.180419         0.061597            2.929           0.003\n",
       "L1.PC7           -0.176186         0.075279           -2.340           0.019\n",
       "L1.PC8           -0.318760         0.053316           -5.979           0.000\n",
       "L1.PC9            1.277774         0.047132           27.111           0.000\n",
       "L1.PC10           0.160137         0.051637            3.101           0.002\n",
       "L1.PC11          -0.186105         0.060749           -3.063           0.002\n",
       "L1.PC12           0.027041         0.066116            0.409           0.683\n",
       "L1.PC13          -0.018087         0.007579           -2.386           0.017\n",
       "L1.PC14           0.029725         0.049652            0.599           0.549\n",
       "L1.PC15           0.135983         0.051212            2.655           0.008\n",
       "L1.PC16          -0.015732         0.059181           -0.266           0.790\n",
       "L1.PC17          -0.171656         0.063968           -2.683           0.007\n",
       "L1.PC18          -0.012098         0.047566           -0.254           0.799\n",
       "L2.target         0.003504         0.003581            0.978           0.328\n",
       "L2.PC1           -0.027850         0.075472           -0.369           0.712\n",
       "L2.PC2            0.062224         0.049245            1.264           0.206\n",
       "L2.PC3            0.026895         0.068707            0.391           0.695\n",
       "L2.PC4            0.117549         0.077286            1.521           0.128\n",
       "L2.PC5           -0.162103         0.097042           -1.670           0.095\n",
       "L2.PC6           -0.127927         0.120722           -1.060           0.289\n",
       "L2.PC7            0.208382         0.154878            1.345           0.178\n",
       "L2.PC8            0.243967         0.098173            2.485           0.013\n",
       "L2.PC9           -0.043930         0.087500           -0.502           0.616\n",
       "L2.PC10          -0.103637         0.086264           -1.201           0.230\n",
       "L2.PC11           0.195030         0.115755            1.685           0.092\n",
       "L2.PC12           0.003872         0.135574            0.029           0.977\n",
       "L2.PC13           0.020800         0.013481            1.543           0.123\n",
       "L2.PC14          -0.040575         0.087315           -0.465           0.642\n",
       "L2.PC15          -0.161056         0.102135           -1.577           0.115\n",
       "L2.PC16           0.111834         0.116283            0.962           0.336\n",
       "L2.PC17           0.221836         0.134208            1.653           0.098\n",
       "L2.PC18          -0.026618         0.090156           -0.295           0.768\n",
       "L3.target        -0.002869         0.003556           -0.807           0.420\n",
       "L3.PC1           -0.057428         0.039813           -1.442           0.149\n",
       "L3.PC2           -0.019395         0.033958           -0.571           0.568\n",
       "L3.PC3           -0.159590         0.069389           -2.300           0.021\n",
       "L3.PC4            0.150870         0.058255            2.590           0.010\n",
       "L3.PC5           -0.051478         0.103199           -0.499           0.618\n",
       "L3.PC6           -0.231466         0.123880           -1.868           0.062\n",
       "L3.PC7            0.177851         0.154491            1.151           0.250\n",
       "L3.PC8            0.162722         0.098556            1.651           0.099\n",
       "L3.PC9           -0.090087         0.088309           -1.020           0.308\n",
       "L3.PC10          -0.092926         0.087693           -1.060           0.289\n",
       "L3.PC11           0.081605         0.117519            0.694           0.487\n",
       "L3.PC12          -0.133274         0.132877           -1.003           0.316\n",
       "L3.PC13           0.004152         0.013395            0.310           0.757\n",
       "L3.PC14          -0.111891         0.087072           -1.285           0.199\n",
       "L3.PC15           0.036965         0.100458            0.368           0.713\n",
       "L3.PC16          -0.117053         0.112578           -1.040           0.298\n",
       "L3.PC17           0.037608         0.139848            0.269           0.788\n",
       "L3.PC18           0.034897         0.089657            0.389           0.697\n",
       "L4.target         0.000750         0.001198            0.626           0.531\n",
       "L4.PC1           -0.035765         0.033003           -1.084           0.278\n",
       "L4.PC2            0.007704         0.028374            0.271           0.786\n",
       "L4.PC3            0.090801         0.040575            2.238           0.025\n",
       "L4.PC4            0.066010         0.043730            1.509           0.131\n",
       "L4.PC5            0.053571         0.058544            0.915           0.360\n",
       "L4.PC6            0.182618         0.065825            2.774           0.006\n",
       "L4.PC7           -0.207012         0.075547           -2.740           0.006\n",
       "L4.PC8           -0.089569         0.054517           -1.643           0.100\n",
       "L4.PC9           -0.139027         0.048796           -2.849           0.004\n",
       "L4.PC10           0.043572         0.050425            0.864           0.388\n",
       "L4.PC11          -0.096509         0.062080           -1.555           0.120\n",
       "L4.PC12           0.101077         0.064666            1.563           0.118\n",
       "L4.PC13          -0.007795         0.007478           -1.042           0.297\n",
       "L4.PC14           0.126727         0.047372            2.675           0.007\n",
       "L4.PC15          -0.017046         0.050317           -0.339           0.735\n",
       "L4.PC16           0.024255         0.055925            0.434           0.664\n",
       "L4.PC17          -0.089950         0.068426           -1.315           0.189\n",
       "L4.PC18           0.004035         0.048242            0.084           0.933\n",
       "============================================================================\n",
       "\n",
       "Results for equation PC10\n",
       "============================================================================\n",
       "               coefficient       std. error           t-stat            prob\n",
       "----------------------------------------------------------------------------\n",
       "const            -0.017764         0.010692           -1.661           0.097\n",
       "L1.target        -0.000500         0.001351           -0.370           0.711\n",
       "L1.PC1            0.011412         0.071581            0.159           0.873\n",
       "L1.PC2           -0.046876         0.049517           -0.947           0.344\n",
       "L1.PC3            0.017852         0.043670            0.409           0.683\n",
       "L1.PC4           -0.153388         0.073065           -2.099           0.036\n",
       "L1.PC5           -0.103029         0.059470           -1.732           0.083\n",
       "L1.PC6            0.032564         0.067996            0.479           0.632\n",
       "L1.PC7            0.100071         0.083099            1.204           0.228\n",
       "L1.PC8           -0.011620         0.058854           -0.197           0.843\n",
       "L1.PC9           -0.222771         0.052028           -4.282           0.000\n",
       "L1.PC10           1.151362         0.057001           20.199           0.000\n",
       "L1.PC11           0.319445         0.067060            4.764           0.000\n",
       "L1.PC12          -0.027234         0.072984           -0.373           0.709\n",
       "L1.PC13          -0.014292         0.008366           -1.708           0.088\n",
       "L1.PC14           0.087840         0.054809            1.603           0.109\n",
       "L1.PC15          -0.031513         0.056532           -0.557           0.577\n",
       "L1.PC16          -0.071987         0.065328           -1.102           0.270\n",
       "L1.PC17           0.069905         0.070613            0.990           0.322\n",
       "L1.PC18           0.064990         0.052507            1.238           0.216\n",
       "L2.target         0.000547         0.003953            0.138           0.890\n",
       "L2.PC1            0.097905         0.083312            1.175           0.240\n",
       "L2.PC2           -0.001746         0.054361           -0.032           0.974\n",
       "L2.PC3            0.011593         0.075844            0.153           0.879\n",
       "L2.PC4           -0.282608         0.085314           -3.313           0.001\n",
       "L2.PC5            0.143685         0.107122            1.341           0.180\n",
       "L2.PC6            0.098371         0.133263            0.738           0.460\n",
       "L2.PC7           -0.222413         0.170966           -1.301           0.193\n",
       "L2.PC8           -0.069948         0.108371           -0.645           0.519\n",
       "L2.PC9            0.083468         0.096590            0.864           0.388\n",
       "L2.PC10           0.127374         0.095225            1.338           0.181\n",
       "L2.PC11          -0.362162         0.127780           -2.834           0.005\n",
       "L2.PC12           0.148849         0.149657            0.995           0.320\n",
       "L2.PC13          -0.004504         0.014882           -0.303           0.762\n",
       "L2.PC14          -0.017613         0.096386           -0.183           0.855\n",
       "L2.PC15           0.062501         0.112744            0.554           0.579\n",
       "L2.PC16           0.053660         0.128362            0.418           0.676\n",
       "L2.PC17          -0.135022         0.148149           -0.911           0.362\n",
       "L2.PC18          -0.032985         0.099521           -0.331           0.740\n",
       "L3.target         0.000466         0.003925            0.119           0.906\n",
       "L3.PC1            0.079192         0.043949            1.802           0.072\n",
       "L3.PC2            0.003924         0.037485            0.105           0.917\n",
       "L3.PC3           -0.007003         0.076598           -0.091           0.927\n",
       "L3.PC4           -0.165900         0.064307           -2.580           0.010\n",
       "L3.PC5            0.021635         0.113919            0.190           0.849\n",
       "L3.PC6           -0.116466         0.136748           -0.852           0.394\n",
       "L3.PC7            0.077143         0.170539            0.452           0.651\n",
       "L3.PC8            0.072493         0.108794            0.666           0.505\n",
       "L3.PC9            0.203239         0.097482            2.085           0.037\n",
       "L3.PC10          -0.153918         0.096802           -1.590           0.112\n",
       "L3.PC11          -0.062226         0.129726           -0.480           0.631\n",
       "L3.PC12          -0.132460         0.146680           -0.903           0.366\n",
       "L3.PC13           0.020468         0.014786            1.384           0.166\n",
       "L3.PC14          -0.170216         0.096117           -1.771           0.077\n",
       "L3.PC15           0.053229         0.110893            0.480           0.631\n",
       "L3.PC16           0.098759         0.124272            0.795           0.427\n",
       "L3.PC17           0.071780         0.154375            0.465           0.642\n",
       "L3.PC18          -0.048648         0.098970           -0.492           0.623\n",
       "L4.target        -0.000513         0.001322           -0.388           0.698\n",
       "L4.PC1            0.038182         0.036431            1.048           0.295\n",
       "L4.PC2           -0.009775         0.031322           -0.312           0.755\n",
       "L4.PC3           -0.021274         0.044790           -0.475           0.635\n",
       "L4.PC4           -0.064503         0.048273           -1.336           0.181\n",
       "L4.PC5           -0.066405         0.064625           -1.028           0.304\n",
       "L4.PC6           -0.010904         0.072662           -0.150           0.881\n",
       "L4.PC7            0.045830         0.083395            0.550           0.583\n",
       "L4.PC8           -0.000737         0.060180           -0.012           0.990\n",
       "L4.PC9           -0.068142         0.053865           -1.265           0.206\n",
       "L4.PC10          -0.119723         0.055664           -2.151           0.031\n",
       "L4.PC11           0.108782         0.068529            1.587           0.112\n",
       "L4.PC12           0.013507         0.071383            0.189           0.850\n",
       "L4.PC13          -0.009368         0.008254           -1.135           0.256\n",
       "L4.PC14           0.101745         0.052293            1.946           0.052\n",
       "L4.PC15          -0.084383         0.055544           -1.519           0.129\n",
       "L4.PC16          -0.077748         0.061735           -1.259           0.208\n",
       "L4.PC17          -0.007184         0.075534           -0.095           0.924\n",
       "L4.PC18           0.014590         0.053253            0.274           0.784\n",
       "============================================================================\n",
       "\n",
       "Results for equation PC11\n",
       "============================================================================\n",
       "               coefficient       std. error           t-stat            prob\n",
       "----------------------------------------------------------------------------\n",
       "const            -0.015166         0.007491           -2.025           0.043\n",
       "L1.target         0.001196         0.000946            1.264           0.206\n",
       "L1.PC1           -0.123135         0.050147           -2.455           0.014\n",
       "L1.PC2           -0.062396         0.034690           -1.799           0.072\n",
       "L1.PC3            0.118784         0.030594            3.883           0.000\n",
       "L1.PC4            0.144686         0.051187            2.827           0.005\n",
       "L1.PC5           -0.142946         0.041662           -3.431           0.001\n",
       "L1.PC6            0.190154         0.047635            3.992           0.000\n",
       "L1.PC7           -0.054761         0.058216           -0.941           0.347\n",
       "L1.PC8           -0.146474         0.041231           -3.553           0.000\n",
       "L1.PC9            0.016162         0.036449            0.443           0.657\n",
       "L1.PC10          -0.125000         0.039933           -3.130           0.002\n",
       "L1.PC11           1.395216         0.046980           29.698           0.000\n",
       "L1.PC12          -0.044651         0.051130           -0.873           0.383\n",
       "L1.PC13           0.001921         0.005861            0.328           0.743\n",
       "L1.PC14           0.150522         0.038397            3.920           0.000\n",
       "L1.PC15          -0.217341         0.039605           -5.488           0.000\n",
       "L1.PC16           0.080765         0.045767            1.765           0.078\n",
       "L1.PC17           0.037625         0.049469            0.761           0.447\n",
       "L1.PC18          -0.011803         0.036785           -0.321           0.748\n",
       "L2.target        -0.004149         0.002770           -1.498           0.134\n",
       "L2.PC1           -0.069156         0.058365           -1.185           0.236\n",
       "L2.PC2           -0.068433         0.038083           -1.797           0.072\n",
       "L2.PC3           -0.119326         0.053134           -2.246           0.025\n",
       "L2.PC4            0.118647         0.059768            1.985           0.047\n",
       "L2.PC5            0.100374         0.075046            1.338           0.181\n",
       "L2.PC6           -0.179741         0.093359           -1.925           0.054\n",
       "L2.PC7            0.116875         0.119773            0.976           0.329\n",
       "L2.PC8            0.175667         0.075921            2.314           0.021\n",
       "L2.PC9            0.075449         0.067667            1.115           0.265\n",
       "L2.PC10           0.067333         0.066711            1.009           0.313\n",
       "L2.PC11          -0.049866         0.089518           -0.557           0.577\n",
       "L2.PC12          -0.022151         0.104845           -0.211           0.833\n",
       "L2.PC13          -0.000004         0.010426           -0.000           1.000\n",
       "L2.PC14          -0.155609         0.067524           -2.304           0.021\n",
       "L2.PC15           0.212549         0.078985            2.691           0.007\n",
       "L2.PC16          -0.030001         0.089926           -0.334           0.739\n",
       "L2.PC17          -0.062533         0.103788           -0.603           0.547\n",
       "L2.PC18           0.000175         0.069721            0.003           0.998\n",
       "L3.target         0.004819         0.002750            1.753           0.080\n",
       "L3.PC1            0.013048         0.030789            0.424           0.672\n",
       "L3.PC2           -0.063038         0.026261           -2.400           0.016\n",
       "L3.PC3           -0.074868         0.053661           -1.395           0.163\n",
       "L3.PC4            0.039736         0.045051            0.882           0.378\n",
       "L3.PC5            0.077733         0.079807            0.974           0.330\n",
       "L3.PC6           -0.096226         0.095801           -1.004           0.315\n",
       "L3.PC7           -0.064072         0.119474           -0.536           0.592\n",
       "L3.PC8            0.001494         0.076217            0.020           0.984\n",
       "L3.PC9           -0.102848         0.068292           -1.506           0.132\n",
       "L3.PC10           0.082798         0.067816            1.221           0.222\n",
       "L3.PC11          -0.259068         0.090882           -2.851           0.004\n",
       "L3.PC12           0.123611         0.102758            1.203           0.229\n",
       "L3.PC13          -0.002839         0.010359           -0.274           0.784\n",
       "L3.PC14          -0.069067         0.067336           -1.026           0.305\n",
       "L3.PC15           0.102158         0.077688            1.315           0.189\n",
       "L3.PC16          -0.120378         0.087061           -1.383           0.167\n",
       "L3.PC17          -0.000373         0.108149           -0.003           0.997\n",
       "L3.PC18           0.063505         0.069335            0.916           0.360\n",
       "L4.target        -0.001867         0.000926           -2.015           0.044\n",
       "L4.PC1            0.010629         0.025522            0.416           0.677\n",
       "L4.PC2           -0.024602         0.021943           -1.121           0.262\n",
       "L4.PC3            0.075215         0.031378            2.397           0.017\n",
       "L4.PC4            0.016918         0.033818            0.500           0.617\n",
       "L4.PC5           -0.037059         0.045274           -0.819           0.413\n",
       "L4.PC6            0.087398         0.050905            1.717           0.086\n",
       "L4.PC7            0.002931         0.058423            0.050           0.960\n",
       "L4.PC8           -0.036035         0.042160           -0.855           0.393\n",
       "L4.PC9            0.012779         0.037736            0.339           0.735\n",
       "L4.PC10          -0.029120         0.038996           -0.747           0.455\n",
       "L4.PC11          -0.088545         0.048009           -1.844           0.065\n",
       "L4.PC12          -0.053445         0.050009           -1.069           0.285\n",
       "L4.PC13           0.002685         0.005783            0.464           0.642\n",
       "L4.PC14           0.082184         0.036635            2.243           0.025\n",
       "L4.PC15          -0.100791         0.038912           -2.590           0.010\n",
       "L4.PC16           0.072529         0.043249            1.677           0.094\n",
       "L4.PC17           0.025840         0.052917            0.488           0.625\n",
       "L4.PC18          -0.050719         0.037307           -1.359           0.174\n",
       "============================================================================\n",
       "\n",
       "Results for equation PC12\n",
       "============================================================================\n",
       "               coefficient       std. error           t-stat            prob\n",
       "----------------------------------------------------------------------------\n",
       "const             0.002738         0.007590            0.361           0.718\n",
       "L1.target         0.000319         0.000959            0.332           0.740\n",
       "L1.PC1            0.091939         0.050812            1.809           0.070\n",
       "L1.PC2            0.119754         0.035150            3.407           0.001\n",
       "L1.PC3            0.067714         0.030999            2.184           0.029\n",
       "L1.PC4           -0.070575         0.051866           -1.361           0.174\n",
       "L1.PC5            0.145886         0.042215            3.456           0.001\n",
       "L1.PC6            0.233197         0.048267            4.831           0.000\n",
       "L1.PC7           -0.317194         0.058988           -5.377           0.000\n",
       "L1.PC8           -0.061928         0.041778           -1.482           0.138\n",
       "L1.PC9           -0.125191         0.036932           -3.390           0.001\n",
       "L1.PC10           0.128727         0.040462            3.181           0.001\n",
       "L1.PC11          -0.476636         0.047603          -10.013           0.000\n",
       "L1.PC12           1.697806         0.051808           32.771           0.000\n",
       "L1.PC13          -0.021916         0.005939           -3.690           0.000\n",
       "L1.PC14           0.256877         0.038907            6.602           0.000\n",
       "L1.PC15           0.082065         0.040130            2.045           0.041\n",
       "L1.PC16           0.035905         0.046374            0.774           0.439\n",
       "L1.PC17          -0.275565         0.050125           -5.498           0.000\n",
       "L1.PC18           0.058828         0.037272            1.578           0.114\n",
       "L2.target        -0.000875         0.002806           -0.312           0.755\n",
       "L2.PC1           -0.094100         0.059139           -1.591           0.112\n",
       "L2.PC2            0.053537         0.038588            1.387           0.165\n",
       "L2.PC3           -0.039547         0.053838           -0.735           0.463\n",
       "L2.PC4            0.165709         0.060560            2.736           0.006\n",
       "L2.PC5           -0.306622         0.076041           -4.032           0.000\n",
       "L2.PC6           -0.366865         0.094597           -3.878           0.000\n",
       "L2.PC7            0.368217         0.121361            3.034           0.002\n",
       "L2.PC8            0.069371         0.076927            0.902           0.367\n",
       "L2.PC9            0.239764         0.068565            3.497           0.000\n",
       "L2.PC10          -0.299197         0.067596           -4.426           0.000\n",
       "L2.PC11           0.632812         0.090705            6.977           0.000\n",
       "L2.PC12          -0.529216         0.106235           -4.982           0.000\n",
       "L2.PC13           0.042904         0.010564            4.061           0.000\n",
       "L2.PC14          -0.288195         0.068420           -4.212           0.000\n",
       "L2.PC15          -0.100328         0.080032           -1.254           0.210\n",
       "L2.PC16          -0.012442         0.091118           -0.137           0.891\n",
       "L2.PC17           0.382136         0.105164            3.634           0.000\n",
       "L2.PC18          -0.061851         0.070645           -0.876           0.381\n",
       "L3.target         0.000815         0.002786            0.292           0.770\n",
       "L3.PC1           -0.100727         0.031197           -3.229           0.001\n",
       "L3.PC2           -0.000073         0.026609           -0.003           0.998\n",
       "L3.PC3           -0.126084         0.054373           -2.319           0.020\n",
       "L3.PC4            0.130908         0.045648            2.868           0.004\n",
       "L3.PC5            0.048428         0.080866            0.599           0.549\n",
       "L3.PC6           -0.028516         0.097071           -0.294           0.769\n",
       "L3.PC7            0.023044         0.121058            0.190           0.849\n",
       "L3.PC8            0.060390         0.077227            0.782           0.434\n",
       "L3.PC9           -0.119279         0.069198           -1.724           0.085\n",
       "L3.PC10           0.061787         0.068715            0.899           0.369\n",
       "L3.PC11           0.108787         0.092087            1.181           0.237\n",
       "L3.PC12          -0.100441         0.104121           -0.965           0.335\n",
       "L3.PC13           0.002242         0.010496            0.214           0.831\n",
       "L3.PC14          -0.082304         0.068229           -1.206           0.228\n",
       "L3.PC15          -0.033828         0.078718           -0.430           0.667\n",
       "L3.PC16          -0.114595         0.088215           -1.299           0.194\n",
       "L3.PC17           0.014546         0.109584            0.133           0.894\n",
       "L3.PC18           0.041394         0.070255            0.589           0.556\n",
       "L4.target        -0.000258         0.000939           -0.275           0.783\n",
       "L4.PC1           -0.032822         0.025861           -1.269           0.204\n",
       "L4.PC2            0.026466         0.022234            1.190           0.234\n",
       "L4.PC3            0.097635         0.031794            3.071           0.002\n",
       "L4.PC4            0.027282         0.034267            0.796           0.426\n",
       "L4.PC5            0.112760         0.045874            2.458           0.014\n",
       "L4.PC6            0.160168         0.051580            3.105           0.002\n",
       "L4.PC7           -0.073963         0.059198           -1.249           0.212\n",
       "L4.PC8           -0.073245         0.042719           -1.715           0.086\n",
       "L4.PC9            0.003617         0.038236            0.095           0.925\n",
       "L4.PC10           0.108184         0.039513            2.738           0.006\n",
       "L4.PC11          -0.264681         0.048646           -5.441           0.000\n",
       "L4.PC12          -0.067866         0.050672           -1.339           0.180\n",
       "L4.PC13          -0.016847         0.005859           -2.875           0.004\n",
       "L4.PC14           0.119310         0.037120            3.214           0.001\n",
       "L4.PC15           0.054123         0.039428            1.373           0.170\n",
       "L4.PC16           0.090795         0.043822            2.072           0.038\n",
       "L4.PC17          -0.119962         0.053618           -2.237           0.025\n",
       "L4.PC18          -0.036544         0.037802           -0.967           0.334\n",
       "============================================================================\n",
       "\n",
       "Results for equation PC13\n",
       "============================================================================\n",
       "               coefficient       std. error           t-stat            prob\n",
       "----------------------------------------------------------------------------\n",
       "const             0.043846         0.173883            0.252           0.801\n",
       "L1.target        -0.057945         0.021967           -2.638           0.008\n",
       "L1.PC1           -0.383990         1.164098           -0.330           0.742\n",
       "L1.PC2           -0.754636         0.805274           -0.937           0.349\n",
       "L1.PC3           -0.765306         0.710190           -1.078           0.281\n",
       "L1.PC4           -1.183170         1.188228           -0.996           0.319\n",
       "L1.PC5           -0.080848         0.967131           -0.084           0.933\n",
       "L1.PC6           -2.627463         1.105784           -2.376           0.017\n",
       "L1.PC7            3.269432         1.351406            2.419           0.016\n",
       "L1.PC8            1.011012         0.957117            1.056           0.291\n",
       "L1.PC9            0.250698         0.846106            0.296           0.767\n",
       "L1.PC10          -0.478316         0.926982           -0.516           0.606\n",
       "L1.PC11           3.138449         1.090564            2.878           0.004\n",
       "L1.PC12          -0.998113         1.186905           -0.841           0.400\n",
       "L1.PC13           1.260664         0.136056            9.266           0.000\n",
       "L1.PC14          -1.986512         0.891340           -2.229           0.026\n",
       "L1.PC15           0.497542         0.919361            0.541           0.588\n",
       "L1.PC16          -1.939342         1.062410           -1.825           0.068\n",
       "L1.PC17           0.567566         1.148347            0.494           0.621\n",
       "L1.PC18          -0.740854         0.853900           -0.868           0.386\n",
       "L2.target         0.156768         0.064291            2.438           0.015\n",
       "L2.PC1            0.416836         1.354865            0.308           0.758\n",
       "L2.PC2           -0.223520         0.884048           -0.253           0.800\n",
       "L2.PC3            1.303677         1.233421            1.057           0.291\n",
       "L2.PC4           -2.903384         1.387426           -2.093           0.036\n",
       "L2.PC5            0.969697         1.742086            0.557           0.578\n",
       "L2.PC6            4.503044         2.167199            2.078           0.038\n",
       "L2.PC7           -4.619181         2.780352           -1.661           0.097\n",
       "L2.PC8           -1.509636         1.762390           -0.857           0.392\n",
       "L2.PC9           -2.011561         1.570798           -1.281           0.200\n",
       "L2.PC10           3.019770         1.548610            1.950           0.051\n",
       "L2.PC11          -5.154392         2.078028           -2.480           0.013\n",
       "L2.PC12           1.691521         2.433816            0.695           0.487\n",
       "L2.PC13          -0.479608         0.242014           -1.982           0.048\n",
       "L2.PC14           2.690071         1.567478            1.716           0.086\n",
       "L2.PC15          -1.094956         1.833512           -0.597           0.550\n",
       "L2.PC16           2.223187         2.087496            1.065           0.287\n",
       "L2.PC17          -0.292841         2.409284           -0.122           0.903\n",
       "L2.PC18           0.213012         1.618465            0.132           0.895\n",
       "L3.target        -0.141062         0.063830           -2.210           0.027\n",
       "L3.PC1            0.766477         0.714720            1.072           0.284\n",
       "L3.PC2           -0.000751         0.609606           -0.001           0.999\n",
       "L3.PC3           -0.252626         1.245674           -0.203           0.839\n",
       "L3.PC4           -1.354386         1.045796           -1.295           0.195\n",
       "L3.PC5            0.845398         1.852612            0.456           0.648\n",
       "L3.PC6           -0.336318         2.223876           -0.151           0.880\n",
       "L3.PC7            0.820586         2.773406            0.296           0.767\n",
       "L3.PC8            0.112265         1.769265            0.063           0.949\n",
       "L3.PC9            2.436921         1.585311            1.537           0.124\n",
       "L3.PC10          -1.911184         1.574256           -1.214           0.225\n",
       "L3.PC11          -0.324560         2.109686           -0.154           0.878\n",
       "L3.PC12          -1.428174         2.385388           -0.599           0.549\n",
       "L3.PC13           0.067853         0.240461            0.282           0.778\n",
       "L3.PC14          -1.150620         1.563109           -0.736           0.462\n",
       "L3.PC15           0.879860         1.803414            0.488           0.626\n",
       "L3.PC16           1.285382         2.020988            0.636           0.525\n",
       "L3.PC17          -1.079187         2.510534           -0.430           0.667\n",
       "L3.PC18           0.199270         1.609515            0.124           0.901\n",
       "L4.target         0.042240         0.021504            1.964           0.049\n",
       "L4.PC1            0.070808         0.592458            0.120           0.905\n",
       "L4.PC2           -0.272488         0.509374           -0.535           0.593\n",
       "L4.PC3           -0.265908         0.728400           -0.365           0.715\n",
       "L4.PC4           -0.087866         0.785042           -0.112           0.911\n",
       "L4.PC5           -1.756759         1.050968           -1.672           0.095\n",
       "L4.PC6           -1.523626         1.181677           -1.289           0.197\n",
       "L4.PC7            0.535560         1.356212            0.395           0.693\n",
       "L4.PC8            0.448097         0.978680            0.458           0.647\n",
       "L4.PC9           -0.604996         0.875981           -0.691           0.490\n",
       "L4.PC10          -0.648246         0.905232           -0.716           0.474\n",
       "L4.PC11           2.371928         1.114460            2.128           0.033\n",
       "L4.PC12           0.700745         1.160879            0.604           0.546\n",
       "L4.PC13          -0.075570         0.134239           -0.563           0.573\n",
       "L4.PC14           0.433459         0.850417            0.510           0.610\n",
       "L4.PC15          -0.322230         0.903284           -0.357           0.721\n",
       "L4.PC16          -1.525008         1.003963           -1.519           0.129\n",
       "L4.PC17           0.793607         1.228384            0.646           0.518\n",
       "L4.PC18           0.327020         0.866037            0.378           0.706\n",
       "============================================================================\n",
       "\n",
       "Results for equation PC14\n",
       "============================================================================\n",
       "               coefficient       std. error           t-stat            prob\n",
       "----------------------------------------------------------------------------\n",
       "const            -0.016378         0.020278           -0.808           0.419\n",
       "L1.target        -0.006105         0.002562           -2.383           0.017\n",
       "L1.PC1            0.069049         0.135757            0.509           0.611\n",
       "L1.PC2           -0.052037         0.093911           -0.554           0.580\n",
       "L1.PC3           -0.054357         0.082822           -0.656           0.512\n",
       "L1.PC4           -0.282245         0.138571           -2.037           0.042\n",
       "L1.PC5            0.003693         0.112787            0.033           0.974\n",
       "L1.PC6           -0.027298         0.128957           -0.212           0.832\n",
       "L1.PC7            0.455183         0.157601            2.888           0.004\n",
       "L1.PC8            0.094624         0.111619            0.848           0.397\n",
       "L1.PC9           -0.083087         0.098673           -0.842           0.400\n",
       "L1.PC10           0.008533         0.108105            0.079           0.937\n",
       "L1.PC11           0.266423         0.127182            2.095           0.036\n",
       "L1.PC12          -0.330654         0.138417           -2.389           0.017\n",
       "L1.PC13          -0.012915         0.015867           -0.814           0.416\n",
       "L1.PC14           1.182895         0.103948           11.380           0.000\n",
       "L1.PC15          -0.079749         0.107216           -0.744           0.457\n",
       "L1.PC16          -0.204891         0.123898           -1.654           0.098\n",
       "L1.PC17          -0.087633         0.133920           -0.654           0.513\n",
       "L1.PC18          -0.146604         0.099582           -1.472           0.141\n",
       "L2.target         0.015818         0.007498            2.110           0.035\n",
       "L2.PC1            0.083808         0.158004            0.530           0.596\n",
       "L2.PC2           -0.028264         0.103098           -0.274           0.784\n",
       "L2.PC3            0.147423         0.143842            1.025           0.305\n",
       "L2.PC4           -0.433692         0.161802           -2.680           0.007\n",
       "L2.PC5            0.031838         0.203162            0.157           0.875\n",
       "L2.PC6            0.281246         0.252739            1.113           0.266\n",
       "L2.PC7           -0.535367         0.324245           -1.651           0.099\n",
       "L2.PC8           -0.146587         0.205530           -0.713           0.476\n",
       "L2.PC9           -0.094131         0.183186           -0.514           0.607\n",
       "L2.PC10           0.274001         0.180599            1.517           0.129\n",
       "L2.PC11          -0.541269         0.242340           -2.234           0.026\n",
       "L2.PC12           0.377093         0.283832            1.329           0.184\n",
       "L2.PC13          -0.037126         0.028224           -1.315           0.188\n",
       "L2.PC14           0.160560         0.182799            0.878           0.380\n",
       "L2.PC15           0.037298         0.213824            0.174           0.862\n",
       "L2.PC16           0.229351         0.243444            0.942           0.346\n",
       "L2.PC17           0.082231         0.280971            0.293           0.770\n",
       "L2.PC18          -0.018500         0.188745           -0.098           0.922\n",
       "L3.target        -0.013406         0.007444           -1.801           0.072\n",
       "L3.PC1            0.145669         0.083351            1.748           0.081\n",
       "L3.PC2            0.004850         0.071092            0.068           0.946\n",
       "L3.PC3           -0.045872         0.145271           -0.316           0.752\n",
       "L3.PC4           -0.262529         0.121961           -2.153           0.031\n",
       "L3.PC5            0.209364         0.216052            0.969           0.333\n",
       "L3.PC6           -0.020829         0.259348           -0.080           0.936\n",
       "L3.PC7           -0.002200         0.323435           -0.007           0.995\n",
       "L3.PC8            0.036583         0.206332            0.177           0.859\n",
       "L3.PC9            0.329995         0.184879            1.785           0.074\n",
       "L3.PC10          -0.190788         0.183590           -1.039           0.299\n",
       "L3.PC11           0.028533         0.246032            0.116           0.908\n",
       "L3.PC12          -0.020130         0.278184           -0.072           0.942\n",
       "L3.PC13           0.026311         0.028043            0.938           0.348\n",
       "L3.PC14          -0.311903         0.182290           -1.711           0.087\n",
       "L3.PC15           0.093138         0.210314            0.443           0.658\n",
       "L3.PC16           0.217649         0.235688            0.923           0.356\n",
       "L3.PC17           0.047825         0.292779            0.163           0.870\n",
       "L3.PC18           0.167088         0.187702            0.890           0.373\n",
       "L4.target         0.003693         0.002508            1.473           0.141\n",
       "L4.PC1            0.030587         0.069092            0.443           0.658\n",
       "L4.PC2           -0.030136         0.059403           -0.507           0.612\n",
       "L4.PC3           -0.043725         0.084946           -0.515           0.607\n",
       "L4.PC4           -0.054741         0.091552           -0.598           0.550\n",
       "L4.PC5           -0.252108         0.122564           -2.057           0.040\n",
       "L4.PC6           -0.228055         0.137807           -1.655           0.098\n",
       "L4.PC7            0.080910         0.158161            0.512           0.609\n",
       "L4.PC8            0.021303         0.114134            0.187           0.852\n",
       "L4.PC9           -0.140043         0.102157           -1.371           0.170\n",
       "L4.PC10          -0.096098         0.105568           -0.910           0.363\n",
       "L4.PC11           0.244432         0.129968            1.881           0.060\n",
       "L4.PC12          -0.035566         0.135382           -0.263           0.793\n",
       "L4.PC13           0.001462         0.015655            0.093           0.926\n",
       "L4.PC14          -0.029556         0.099176           -0.298           0.766\n",
       "L4.PC15          -0.058888         0.105341           -0.559           0.576\n",
       "L4.PC16          -0.237270         0.117082           -2.027           0.043\n",
       "L4.PC17          -0.047543         0.143254           -0.332           0.740\n",
       "L4.PC18          -0.000125         0.100997           -0.001           0.999\n",
       "============================================================================\n",
       "\n",
       "Results for equation PC15\n",
       "============================================================================\n",
       "               coefficient       std. error           t-stat            prob\n",
       "----------------------------------------------------------------------------\n",
       "const            -0.000248         0.011086           -0.022           0.982\n",
       "L1.target        -0.001928         0.001401           -1.376           0.169\n",
       "L1.PC1           -0.075791         0.074220           -1.021           0.307\n",
       "L1.PC2           -0.098594         0.051342           -1.920           0.055\n",
       "L1.PC3           -0.014344         0.045280           -0.317           0.751\n",
       "L1.PC4            0.106246         0.075758            1.402           0.161\n",
       "L1.PC5            0.006964         0.061662            0.113           0.910\n",
       "L1.PC6           -0.206001         0.070502           -2.922           0.003\n",
       "L1.PC7            0.277316         0.086162            3.219           0.001\n",
       "L1.PC8            0.048805         0.061023            0.800           0.424\n",
       "L1.PC9            0.249381         0.053945            4.623           0.000\n",
       "L1.PC10          -0.146557         0.059102           -2.480           0.013\n",
       "L1.PC11           0.065457         0.069531            0.941           0.347\n",
       "L1.PC12          -0.294317         0.075674           -3.889           0.000\n",
       "L1.PC13          -0.009494         0.008675           -1.095           0.274\n",
       "L1.PC14          -0.022156         0.056829           -0.390           0.697\n",
       "L1.PC15           1.507859         0.058616           25.724           0.000\n",
       "L1.PC16           0.067975         0.067736            1.004           0.316\n",
       "L1.PC17          -0.182994         0.073215           -2.499           0.012\n",
       "L1.PC18          -0.295732         0.054442           -5.432           0.000\n",
       "L2.target         0.005016         0.004099            1.224           0.221\n",
       "L2.PC1           -0.057880         0.086382           -0.670           0.503\n",
       "L2.PC2           -0.119738         0.056364           -2.124           0.034\n",
       "L2.PC3            0.007426         0.078639            0.094           0.925\n",
       "L2.PC4            0.028255         0.088458            0.319           0.749\n",
       "L2.PC5            0.011040         0.111070            0.099           0.921\n",
       "L2.PC6            0.244281         0.138174            1.768           0.077\n",
       "L2.PC7           -0.269828         0.177267           -1.522           0.128\n",
       "L2.PC8           -0.026586         0.112365           -0.237           0.813\n",
       "L2.PC9           -0.324915         0.100150           -3.244           0.001\n",
       "L2.PC10           0.234392         0.098735            2.374           0.018\n",
       "L2.PC11          -0.100611         0.132489           -0.759           0.448\n",
       "L2.PC12           0.317822         0.155173            2.048           0.041\n",
       "L2.PC13          -0.008886         0.015430           -0.576           0.565\n",
       "L2.PC14           0.053793         0.099938            0.538           0.590\n",
       "L2.PC15          -0.302670         0.116899           -2.589           0.010\n",
       "L2.PC16          -0.007904         0.133093           -0.059           0.953\n",
       "L2.PC17           0.368328         0.153609            2.398           0.016\n",
       "L2.PC18           0.323330         0.103189            3.133           0.002\n",
       "L3.target        -0.004273         0.004070           -1.050           0.294\n",
       "L3.PC1            0.023647         0.045568            0.519           0.604\n",
       "L3.PC2           -0.029019         0.038867           -0.747           0.455\n",
       "L3.PC3            0.028932         0.079421            0.364           0.716\n",
       "L3.PC4           -0.015154         0.066677           -0.227           0.820\n",
       "L3.PC5            0.133975         0.118117            1.134           0.257\n",
       "L3.PC6            0.083203         0.141788            0.587           0.557\n",
       "L3.PC7           -0.092841         0.176824           -0.525           0.600\n",
       "L3.PC8           -0.131719         0.112803           -1.168           0.243\n",
       "L3.PC9            0.063657         0.101075            0.630           0.529\n",
       "L3.PC10           0.046071         0.100370            0.459           0.646\n",
       "L3.PC11          -0.125710         0.134507           -0.935           0.350\n",
       "L3.PC12           0.130241         0.152085            0.856           0.392\n",
       "L3.PC13           0.004575         0.015331            0.298           0.765\n",
       "L3.PC14          -0.085774         0.099659           -0.861           0.389\n",
       "L3.PC15          -0.128887         0.114981           -1.121           0.262\n",
       "L3.PC16          -0.087509         0.128852           -0.679           0.497\n",
       "L3.PC17          -0.185110         0.160064           -1.156           0.247\n",
       "L3.PC18           0.132797         0.102618            1.294           0.196\n",
       "L4.target         0.001184         0.001371            0.864           0.388\n",
       "L4.PC1           -0.007588         0.037773           -0.201           0.841\n",
       "L4.PC2           -0.034019         0.032476           -1.047           0.295\n",
       "L4.PC3           -0.021767         0.046441           -0.469           0.639\n",
       "L4.PC4            0.033913         0.050052            0.678           0.498\n",
       "L4.PC5           -0.151770         0.067007           -2.265           0.024\n",
       "L4.PC6           -0.118832         0.075340           -1.577           0.115\n",
       "L4.PC7            0.087332         0.086468            1.010           0.312\n",
       "L4.PC8            0.114226         0.062398            1.831           0.067\n",
       "L4.PC9            0.014274         0.055850            0.256           0.798\n",
       "L4.PC10          -0.140268         0.057715           -2.430           0.015\n",
       "L4.PC11           0.165453         0.071055            2.329           0.020\n",
       "L4.PC12          -0.157506         0.074014           -2.128           0.033\n",
       "L4.PC13           0.005256         0.008559            0.614           0.539\n",
       "L4.PC14           0.057206         0.054220            1.055           0.291\n",
       "L4.PC15          -0.080347         0.057591           -1.395           0.163\n",
       "L4.PC16           0.030216         0.064010            0.472           0.637\n",
       "L4.PC17          -0.002834         0.078318           -0.036           0.971\n",
       "L4.PC18          -0.161220         0.055216           -2.920           0.004\n",
       "============================================================================\n",
       "\n",
       "Results for equation PC16\n",
       "============================================================================\n",
       "               coefficient       std. error           t-stat            prob\n",
       "----------------------------------------------------------------------------\n",
       "const            -0.001709         0.008871           -0.193           0.847\n",
       "L1.target         0.002578         0.001121            2.301           0.021\n",
       "L1.PC1            0.148500         0.059386            2.501           0.012\n",
       "L1.PC2            0.041712         0.041081            1.015           0.310\n",
       "L1.PC3            0.022057         0.036230            0.609           0.543\n",
       "L1.PC4            0.021034         0.060617            0.347           0.729\n",
       "L1.PC5            0.033756         0.049338            0.684           0.494\n",
       "L1.PC6            0.415112         0.056411            7.359           0.000\n",
       "L1.PC7           -0.444644         0.068942           -6.450           0.000\n",
       "L1.PC8            0.212059         0.048827            4.343           0.000\n",
       "L1.PC9           -0.166540         0.043164           -3.858           0.000\n",
       "L1.PC10          -0.024316         0.047290           -0.514           0.607\n",
       "L1.PC11          -0.218437         0.055635           -3.926           0.000\n",
       "L1.PC12           0.225821         0.060550            3.730           0.000\n",
       "L1.PC13           0.015073         0.006941            2.172           0.030\n",
       "L1.PC14           0.220156         0.045471            4.842           0.000\n",
       "L1.PC15          -0.189461         0.046901           -4.040           0.000\n",
       "L1.PC16           1.663615         0.054199           30.695           0.000\n",
       "L1.PC17           0.184060         0.058583            3.142           0.002\n",
       "L1.PC18          -0.108236         0.043561           -2.485           0.013\n",
       "L2.target        -0.007493         0.003280           -2.285           0.022\n",
       "L2.PC1            0.117329         0.069118            1.698           0.090\n",
       "L2.PC2            0.044442         0.045099            0.985           0.324\n",
       "L2.PC3            0.012023         0.062923            0.191           0.848\n",
       "L2.PC4            0.201478         0.070779            2.847           0.004\n",
       "L2.PC5           -0.072985         0.088872           -0.821           0.412\n",
       "L2.PC6           -0.366622         0.110559           -3.316           0.001\n",
       "L2.PC7            0.421498         0.141839            2.972           0.003\n",
       "L2.PC8           -0.239268         0.089908           -2.661           0.008\n",
       "L2.PC9            0.274130         0.080134            3.421           0.001\n",
       "L2.PC10          -0.058368         0.079002           -0.739           0.460\n",
       "L2.PC11           0.305821         0.106010            2.885           0.004\n",
       "L2.PC12          -0.238889         0.124160           -1.924           0.054\n",
       "L2.PC13          -0.000870         0.012346           -0.070           0.944\n",
       "L2.PC14          -0.253544         0.079964           -3.171           0.002\n",
       "L2.PC15           0.211982         0.093536            2.266           0.023\n",
       "L2.PC16          -0.381765         0.106493           -3.585           0.000\n",
       "L2.PC17          -0.244907         0.122909           -1.993           0.046\n",
       "L2.PC18           0.157482         0.082565            1.907           0.056\n",
       "L3.target         0.007305         0.003256            2.243           0.025\n",
       "L3.PC1           -0.044540         0.036461           -1.222           0.222\n",
       "L3.PC2           -0.077277         0.031099           -2.485           0.013\n",
       "L3.PC3           -0.067016         0.063548           -1.055           0.292\n",
       "L3.PC4            0.272416         0.053351            5.106           0.000\n",
       "L3.PC5           -0.125759         0.094510           -1.331           0.183\n",
       "L3.PC6           -0.377103         0.113450           -3.324           0.001\n",
       "L3.PC7            0.317016         0.141484            2.241           0.025\n",
       "L3.PC8            0.014817         0.090258            0.164           0.870\n",
       "L3.PC9           -0.057258         0.080874           -0.708           0.479\n",
       "L3.PC10           0.059120         0.080310            0.736           0.462\n",
       "L3.PC11           0.067866         0.107625            0.631           0.528\n",
       "L3.PC12          -0.140592         0.121690           -1.155           0.248\n",
       "L3.PC13          -0.012284         0.012267           -1.001           0.317\n",
       "L3.PC14          -0.114698         0.079742           -1.438           0.150\n",
       "L3.PC15           0.119234         0.092001            1.296           0.195\n",
       "L3.PC16          -0.382423         0.103100           -3.709           0.000\n",
       "L3.PC17          -0.028889         0.128074           -0.226           0.822\n",
       "L3.PC18           0.026551         0.082109            0.323           0.746\n",
       "L4.target        -0.002391         0.001097           -2.179           0.029\n",
       "L4.PC1           -0.032369         0.030224           -1.071           0.284\n",
       "L4.PC2           -0.015342         0.025986           -0.590           0.555\n",
       "L4.PC3            0.032841         0.037159            0.884           0.377\n",
       "L4.PC4            0.090544         0.040049            2.261           0.024\n",
       "L4.PC5            0.163897         0.053615            3.057           0.002\n",
       "L4.PC6            0.326665         0.060283            5.419           0.000\n",
       "L4.PC7           -0.297933         0.069187           -4.306           0.000\n",
       "L4.PC8            0.007208         0.049927            0.144           0.885\n",
       "L4.PC9           -0.053231         0.044688           -1.191           0.234\n",
       "L4.PC10           0.023503         0.046180            0.509           0.611\n",
       "L4.PC11          -0.157732         0.056854           -2.774           0.006\n",
       "L4.PC12           0.156411         0.059222            2.641           0.008\n",
       "L4.PC13           0.003616         0.006848            0.528           0.597\n",
       "L4.PC14           0.150353         0.043384            3.466           0.001\n",
       "L4.PC15          -0.144768         0.046081           -3.142           0.002\n",
       "L4.PC16           0.098892         0.051217            1.931           0.054\n",
       "L4.PC17           0.091618         0.062666            1.462           0.144\n",
       "L4.PC18          -0.077496         0.044181           -1.754           0.079\n",
       "============================================================================\n",
       "\n",
       "Results for equation PC17\n",
       "============================================================================\n",
       "               coefficient       std. error           t-stat            prob\n",
       "----------------------------------------------------------------------------\n",
       "const             0.008686         0.007110            1.222           0.222\n",
       "L1.target        -0.000032         0.000898           -0.035           0.972\n",
       "L1.PC1           -0.007463         0.047600           -0.157           0.875\n",
       "L1.PC2           -0.005298         0.032928           -0.161           0.872\n",
       "L1.PC3           -0.029820         0.029040           -1.027           0.304\n",
       "L1.PC4            0.025922         0.048587            0.534           0.594\n",
       "L1.PC5           -0.083602         0.039546           -2.114           0.035\n",
       "L1.PC6           -0.075201         0.045216           -1.663           0.096\n",
       "L1.PC7           -0.047275         0.055259           -0.856           0.392\n",
       "L1.PC8            0.101787         0.039137            2.601           0.009\n",
       "L1.PC9            0.083132         0.034597            2.403           0.016\n",
       "L1.PC10          -0.120532         0.037905           -3.180           0.001\n",
       "L1.PC11           0.175297         0.044593            3.931           0.000\n",
       "L1.PC12          -0.128837         0.048533           -2.655           0.008\n",
       "L1.PC13           0.003966         0.005563            0.713           0.476\n",
       "L1.PC14           0.047147         0.036447            1.294           0.196\n",
       "L1.PC15           0.012388         0.037593            0.330           0.742\n",
       "L1.PC16           0.052602         0.043442            1.211           0.226\n",
       "L1.PC17           1.618990         0.046956           34.479           0.000\n",
       "L1.PC18          -0.074496         0.034916           -2.134           0.033\n",
       "L2.target         0.000678         0.002629            0.258           0.796\n",
       "L2.PC1            0.037459         0.055401            0.676           0.499\n",
       "L2.PC2            0.005682         0.036149            0.157           0.875\n",
       "L2.PC3           -0.017976         0.050435           -0.356           0.722\n",
       "L2.PC4           -0.008060         0.056732           -0.142           0.887\n",
       "L2.PC5            0.116531         0.071234            1.636           0.102\n",
       "L2.PC6            0.010075         0.088617            0.114           0.909\n",
       "L2.PC7            0.003881         0.113689            0.034           0.973\n",
       "L2.PC8           -0.082278         0.072065           -1.142           0.254\n",
       "L2.PC9           -0.119579         0.064230           -1.862           0.063\n",
       "L2.PC10           0.111358         0.063323            1.759           0.079\n",
       "L2.PC11          -0.205480         0.084971           -2.418           0.016\n",
       "L2.PC12           0.204515         0.099519            2.055           0.040\n",
       "L2.PC13          -0.001336         0.009896           -0.135           0.893\n",
       "L2.PC14          -0.074707         0.064095           -1.166           0.244\n",
       "L2.PC15           0.062598         0.074973            0.835           0.404\n",
       "L2.PC16          -0.114373         0.085358           -1.340           0.180\n",
       "L2.PC17          -0.435632         0.098516           -4.422           0.000\n",
       "L2.PC18           0.155281         0.066179            2.346           0.019\n",
       "L3.target        -0.001291         0.002610           -0.495           0.621\n",
       "L3.PC1           -0.000000         0.029225           -0.000           1.000\n",
       "L3.PC2            0.022713         0.024927            0.911           0.362\n",
       "L3.PC3            0.088283         0.050936            1.733           0.083\n",
       "L3.PC4           -0.010313         0.042763           -0.241           0.809\n",
       "L3.PC5           -0.036810         0.075754           -0.486           0.627\n",
       "L3.PC6            0.066181         0.090935            0.728           0.467\n",
       "L3.PC7           -0.000329         0.113405           -0.003           0.998\n",
       "L3.PC8           -0.059602         0.072346           -0.824           0.410\n",
       "L3.PC9           -0.028256         0.064824           -0.436           0.663\n",
       "L3.PC10           0.042307         0.064372            0.657           0.511\n",
       "L3.PC11          -0.016514         0.086266           -0.191           0.848\n",
       "L3.PC12           0.007582         0.097539            0.078           0.938\n",
       "L3.PC13          -0.000151         0.009833           -0.015           0.988\n",
       "L3.PC14           0.067626         0.063916            1.058           0.290\n",
       "L3.PC15          -0.122017         0.073742           -1.655           0.098\n",
       "L3.PC16           0.040705         0.082639            0.493           0.622\n",
       "L3.PC17          -0.068346         0.102656           -0.666           0.506\n",
       "L3.PC18          -0.019416         0.065813           -0.295           0.768\n",
       "L4.target         0.000645         0.000879            0.733           0.463\n",
       "L4.PC1            0.006886         0.024226            0.284           0.776\n",
       "L4.PC2            0.001645         0.020828            0.079           0.937\n",
       "L4.PC3           -0.041055         0.029784           -1.378           0.168\n",
       "L4.PC4            0.006273         0.032101            0.195           0.845\n",
       "L4.PC5            0.005860         0.042974            0.136           0.892\n",
       "L4.PC6           -0.003912         0.048319           -0.081           0.935\n",
       "L4.PC7            0.043532         0.055456            0.785           0.432\n",
       "L4.PC8            0.039419         0.040018            0.985           0.325\n",
       "L4.PC9            0.061107         0.035819            1.706           0.088\n",
       "L4.PC10          -0.032176         0.037015           -0.869           0.385\n",
       "L4.PC11           0.048558         0.045571            1.066           0.287\n",
       "L4.PC12          -0.082448         0.047469           -1.737           0.082\n",
       "L4.PC13          -0.001075         0.005489           -0.196           0.845\n",
       "L4.PC14          -0.041875         0.034774           -1.204           0.229\n",
       "L4.PC15           0.051668         0.036935            1.399           0.162\n",
       "L4.PC16           0.018393         0.041052            0.448           0.654\n",
       "L4.PC17          -0.120319         0.050229           -2.395           0.017\n",
       "L4.PC18          -0.062277         0.035412           -1.759           0.079\n",
       "============================================================================\n",
       "\n",
       "Results for equation PC18\n",
       "============================================================================\n",
       "               coefficient       std. error           t-stat            prob\n",
       "----------------------------------------------------------------------------\n",
       "const            -0.007116         0.010615           -0.670           0.503\n",
       "L1.target        -0.001866         0.001341           -1.392           0.164\n",
       "L1.PC1            0.013759         0.071064            0.194           0.846\n",
       "L1.PC2           -0.073053         0.049159           -1.486           0.137\n",
       "L1.PC3           -0.021315         0.043355           -0.492           0.623\n",
       "L1.PC4            0.077141         0.072537            1.063           0.288\n",
       "L1.PC5            0.128067         0.059040            2.169           0.030\n",
       "L1.PC6            0.077399         0.067504            1.147           0.252\n",
       "L1.PC7            0.180397         0.082499            2.187           0.029\n",
       "L1.PC8            0.019655         0.058429            0.336           0.737\n",
       "L1.PC9           -0.079624         0.051652           -1.542           0.123\n",
       "L1.PC10           0.131377         0.056589            2.322           0.020\n",
       "L1.PC11           0.108870         0.066575            1.635           0.102\n",
       "L1.PC12          -0.050035         0.072456           -0.691           0.490\n",
       "L1.PC13           0.012944         0.008306            1.558           0.119\n",
       "L1.PC14          -0.144753         0.054413           -2.660           0.008\n",
       "L1.PC15           0.041655         0.056124            0.742           0.458\n",
       "L1.PC16           0.261366         0.064856            4.030           0.000\n",
       "L1.PC17           0.302710         0.070103            4.318           0.000\n",
       "L1.PC18           1.454298         0.052128           27.899           0.000\n",
       "L2.target         0.004961         0.003925            1.264           0.206\n",
       "L2.PC1           -0.037769         0.082710           -0.457           0.648\n",
       "L2.PC2           -0.048343         0.053968           -0.896           0.370\n",
       "L2.PC3            0.055563         0.075296            0.738           0.461\n",
       "L2.PC4            0.067353         0.084698            0.795           0.426\n",
       "L2.PC5           -0.094022         0.106348           -0.884           0.377\n",
       "L2.PC6           -0.081873         0.132300           -0.619           0.536\n",
       "L2.PC7           -0.061333         0.169731           -0.361           0.718\n",
       "L2.PC8           -0.135441         0.107588           -1.259           0.208\n",
       "L2.PC9            0.067798         0.095892            0.707           0.480\n",
       "L2.PC10           0.039635         0.094537            0.419           0.675\n",
       "L2.PC11          -0.231773         0.126856           -1.827           0.068\n",
       "L2.PC12          -0.009142         0.148576           -0.062           0.951\n",
       "L2.PC13          -0.028053         0.014774           -1.899           0.058\n",
       "L2.PC14           0.078506         0.095689            0.820           0.412\n",
       "L2.PC15          -0.037256         0.111930           -0.333           0.739\n",
       "L2.PC16          -0.345471         0.127434           -2.711           0.007\n",
       "L2.PC17          -0.393729         0.147078           -2.677           0.007\n",
       "L2.PC18          -0.266281         0.098802           -2.695           0.007\n",
       "L3.target        -0.004373         0.003897           -1.122           0.262\n",
       "L3.PC1            0.007536         0.043631            0.173           0.863\n",
       "L3.PC2            0.005751         0.037214            0.155           0.877\n",
       "L3.PC3           -0.022901         0.076044           -0.301           0.763\n",
       "L3.PC4            0.012218         0.063842            0.191           0.848\n",
       "L3.PC5            0.086335         0.113095            0.763           0.445\n",
       "L3.PC6            0.076312         0.135760            0.562           0.574\n",
       "L3.PC7           -0.079901         0.169307           -0.472           0.637\n",
       "L3.PC8            0.046480         0.108007            0.430           0.667\n",
       "L3.PC9            0.057802         0.096778            0.597           0.550\n",
       "L3.PC10          -0.090432         0.096103           -0.941           0.347\n",
       "L3.PC11          -0.003040         0.128789           -0.024           0.981\n",
       "L3.PC12           0.050568         0.145620            0.347           0.728\n",
       "L3.PC13          -0.003723         0.014679           -0.254           0.800\n",
       "L3.PC14           0.065669         0.095422            0.688           0.491\n",
       "L3.PC15          -0.053828         0.110092           -0.489           0.625\n",
       "L3.PC16           0.018151         0.123374            0.147           0.883\n",
       "L3.PC17          -0.096937         0.153259           -0.633           0.527\n",
       "L3.PC18          -0.109709         0.098255           -1.117           0.264\n",
       "L4.target         0.001279         0.001313            0.974           0.330\n",
       "L4.PC1           -0.015910         0.036168           -0.440           0.660\n",
       "L4.PC2           -0.002986         0.031096           -0.096           0.923\n",
       "L4.PC3           -0.010037         0.044466           -0.226           0.821\n",
       "L4.PC4            0.020026         0.047924            0.418           0.676\n",
       "L4.PC5           -0.122387         0.064158           -1.908           0.056\n",
       "L4.PC6           -0.066568         0.072137           -0.923           0.356\n",
       "L4.PC7           -0.038053         0.082792           -0.460           0.646\n",
       "L4.PC8            0.077276         0.059745            1.293           0.196\n",
       "L4.PC9           -0.037428         0.053476           -0.700           0.484\n",
       "L4.PC10          -0.080961         0.055261           -1.465           0.143\n",
       "L4.PC11           0.122441         0.068034            1.800           0.072\n",
       "L4.PC12           0.002795         0.070868            0.039           0.969\n",
       "L4.PC13           0.015113         0.008195            1.844           0.065\n",
       "L4.PC14           0.001287         0.051915            0.025           0.980\n",
       "L4.PC15           0.047170         0.055142            0.855           0.392\n",
       "L4.PC16           0.069412         0.061288            1.133           0.257\n",
       "L4.PC17           0.188052         0.074989            2.508           0.012\n",
       "L4.PC18          -0.083128         0.052869           -1.572           0.116\n",
       "============================================================================\n",
       "\n",
       "Correlation matrix of residuals\n",
       "            target       PC1       PC2       PC3       PC4       PC5       PC6       PC7       PC8       PC9      PC10      PC11      PC12      PC13      PC14      PC15      PC16      PC17      PC18\n",
       "target    1.000000  0.022812 -0.019632 -0.002342 -0.018711  0.038169  0.044975 -0.025482 -0.002648  0.024941  0.019669  0.010831 -0.029141  0.053680  0.028640  0.010060 -0.046595 -0.045958  0.012196\n",
       "PC1       0.022812  1.000000  0.011426  0.410353  0.543266 -0.405527 -0.394544  0.305382 -0.108178  0.003044  0.123471 -0.186566 -0.043379  0.208301  0.218409 -0.004232 -0.074702  0.027695  0.048720\n",
       "PC2      -0.019632  0.011426  1.000000  0.139540  0.221553 -0.104252 -0.107256  0.286726  0.357266 -0.239742  0.017086  0.165135  0.082735 -0.071750 -0.022272  0.160327  0.075390 -0.033090  0.063402\n",
       "PC3      -0.002342  0.410353  0.139540  1.000000 -0.058653 -0.075037 -0.198339  0.276904  0.266104 -0.202644 -0.150065 -0.143973 -0.091637 -0.101025 -0.142761 -0.124880  0.026891  0.129449 -0.103342\n",
       "PC4      -0.018711  0.543266  0.221553 -0.058653  1.000000 -0.069795 -0.247569 -0.053885  0.164093 -0.036893  0.285344  0.019019  0.170665 -0.065679  0.055261 -0.082986 -0.148256  0.085506 -0.145233\n",
       "PC5       0.038169 -0.405527 -0.104252 -0.075037 -0.069795  1.000000 -0.057572 -0.328713  0.214352 -0.078338  0.240500  0.284786 -0.177921  0.090347  0.134076  0.128482 -0.141693 -0.015463 -0.136950\n",
       "PC6       0.044975 -0.394544 -0.107256 -0.198339 -0.247569 -0.057572  1.000000  0.199780 -0.062219 -0.170456 -0.308556 -0.072135  0.051844 -0.147524 -0.268187 -0.020998 -0.219784  0.200978 -0.075577\n",
       "PC7      -0.025482  0.305382  0.286726  0.276904 -0.053885 -0.328713  0.199780  1.000000 -0.173429 -0.278749 -0.135293 -0.183854  0.139959  0.117522 -0.013408 -0.039322  0.113987  0.069383  0.011887\n",
       "PC8      -0.002648 -0.108178  0.357266  0.266104  0.164093  0.214352 -0.062219 -0.173429  1.000000 -0.164523 -0.044724  0.014859  0.216761 -0.373636 -0.251218 -0.106234 -0.070661  0.033266 -0.127013\n",
       "PC9       0.024941  0.003044 -0.239742 -0.202644 -0.036893 -0.078338 -0.170456 -0.278749 -0.164523  1.000000  0.092470  0.274206  0.096628  0.156668  0.218378 -0.019281  0.123419 -0.244180  0.229782\n",
       "PC10      0.019669  0.123471  0.017086 -0.150065  0.285344  0.240500 -0.308556 -0.135293 -0.044724  0.092470  1.000000  0.179552 -0.211293  0.452893  0.414150  0.346597 -0.143981 -0.031525 -0.131043\n",
       "PC11      0.010831 -0.186566  0.165135 -0.143973  0.019019  0.284786 -0.072135 -0.183854  0.014859  0.274206  0.179552  1.000000  0.218626 -0.088162 -0.038753  0.100801  0.232353 -0.181513 -0.050460\n",
       "PC12     -0.029141 -0.043379  0.082735 -0.091637  0.170665 -0.177921  0.051844  0.139959  0.216761  0.096628 -0.211293  0.218626  1.000000 -0.558360 -0.472968 -0.327520  0.335893  0.077437 -0.227282\n",
       "PC13      0.053680  0.208301 -0.071750 -0.101025 -0.065679  0.090347 -0.147524  0.117522 -0.373636  0.156668  0.452893 -0.088162 -0.558360  1.000000  0.905244  0.663088 -0.444995 -0.328618  0.512959\n",
       "PC14      0.028640  0.218409 -0.022272 -0.142761  0.055261  0.134076 -0.268187 -0.013408 -0.251218  0.218378  0.414150 -0.038753 -0.472968  0.905244  1.000000  0.664334 -0.456898 -0.271031  0.541532\n",
       "PC15      0.010060 -0.004232  0.160327 -0.124880 -0.082986  0.128482 -0.020998 -0.039322 -0.106234 -0.019281  0.346597  0.100801 -0.327520  0.663088  0.664334  1.000000 -0.338001 -0.113015  0.396703\n",
       "PC16     -0.046595 -0.074702  0.075390  0.026891 -0.148256 -0.141693 -0.219784  0.113987 -0.070661  0.123419 -0.143981  0.232353  0.335893 -0.444995 -0.456898 -0.338001  1.000000 -0.116755 -0.207746\n",
       "PC17     -0.045958  0.027695 -0.033090  0.129449  0.085506 -0.015463  0.200978  0.069383  0.033266 -0.244180 -0.031525 -0.181513  0.077437 -0.328618 -0.271031 -0.113015 -0.116755  1.000000 -0.399111\n",
       "PC18      0.012196  0.048720  0.063402 -0.103342 -0.145233 -0.136950 -0.075577  0.011887 -0.127013  0.229782 -0.131043 -0.050460 -0.227282  0.512959  0.541532  0.396703 -0.207746 -0.399111  1.000000\n",
       "\n"
      ]
     },
     "execution_count": 179,
     "metadata": {},
     "output_type": "execute_result"
    }
   ],
   "source": [
    "fitted_var.summary()\n"
   ]
  },
  {
   "cell_type": "code",
   "execution_count": 241,
   "metadata": {},
   "outputs": [],
   "source": [
    "\n",
    "\n",
    "starting_index = round(len(full) * .8) # starting split after 80% of observations are in \"training\" set\n",
    "\n",
    "var_train = full.iloc[:starting_index,:]\n",
    "\n",
    "var_test  = full.iloc[starting_index:,:]"
   ]
  },
  {
   "cell_type": "code",
   "execution_count": 242,
   "metadata": {},
   "outputs": [],
   "source": [
    "var_train_preds, lower_conf_ints, upper_conf_ints = fitted_var.forecast_interval(var_train.values, len(var_train))\n",
    "var_test_preds, lower_conf_ints, upper_conf_ints = fitted_var.forecast_interval(var_train.values, len(var_test))"
   ]
  },
  {
   "cell_type": "markdown",
   "metadata": {},
   "source": [
    "Get predictions for the test interval "
   ]
  },
  {
   "cell_type": "code",
   "execution_count": 245,
   "metadata": {
    "scrolled": true
   },
   "outputs": [
    {
     "name": "stdout",
     "output_type": "stream",
     "text": [
      "VAR Train RMSE is 34655.0511998083\n",
      "VAR Test RMSE is 769.570490409739\n"
     ]
    }
   ],
   "source": [
    "print(f'VAR Train RMSE is {rmse(var_train,var_train_preds)}')\n",
    "print(f'VAR Test RMSE is {rmse(var_test,var_test_preds)}')"
   ]
  },
  {
   "cell_type": "markdown",
   "metadata": {},
   "source": [
    "It scored well, but did not outperform our Sarimax and Sarima Model"
   ]
  },
  {
   "cell_type": "markdown",
   "metadata": {},
   "source": [
    "# RNN"
   ]
  },
  {
   "cell_type": "markdown",
   "metadata": {},
   "source": [
    "I wanted to see if Recurent Neural Network could handle all 1306 features without PCA"
   ]
  },
  {
   "cell_type": "code",
   "execution_count": 204,
   "metadata": {},
   "outputs": [],
   "source": [
    "train_sequences = TimeseriesGenerator(X_train_ss, y_train, length=52, batch_size=64)\n",
    "test_sequences = TimeseriesGenerator(X_test_ss, y_test, length=52, batch_size=64)"
   ]
  },
  {
   "cell_type": "code",
   "execution_count": 205,
   "metadata": {},
   "outputs": [],
   "source": [
    "batch_x, batch_y = train_sequences[0]\n"
   ]
  },
  {
   "cell_type": "code",
   "execution_count": 206,
   "metadata": {},
   "outputs": [],
   "source": [
    "model = Sequential()\n",
    "model.add(GRU(8, input_shape=(52,1368), return_sequences=True))\n",
    "model.add(GRU(8))\n",
    "\n",
    "model.add(Dense(4, activation='relu'))\n",
    "\n",
    "model.add(Dense(1, activation='linear'))"
   ]
  },
  {
   "cell_type": "markdown",
   "metadata": {},
   "source": [
    "We have 4 layers here with a linear output layer, layer so our predictions will be in the right form. "
   ]
  },
  {
   "cell_type": "code",
   "execution_count": 207,
   "metadata": {},
   "outputs": [],
   "source": [
    "model.compile(optimizer='adam', loss='mse', metrics=['mse'])"
   ]
  },
  {
   "cell_type": "markdown",
   "metadata": {},
   "source": [
    "Our loss metric is Mean Squared Error"
   ]
  },
  {
   "cell_type": "code",
   "execution_count": 208,
   "metadata": {},
   "outputs": [
    {
     "name": "stdout",
     "output_type": "stream",
     "text": [
      "Model: \"sequential_1\"\n",
      "_________________________________________________________________\n",
      "Layer (type)                 Output Shape              Param #   \n",
      "=================================================================\n",
      "gru_2 (GRU)                  (None, 52, 8)             33072     \n",
      "_________________________________________________________________\n",
      "gru_3 (GRU)                  (None, 8)                 432       \n",
      "_________________________________________________________________\n",
      "dense_2 (Dense)              (None, 4)                 36        \n",
      "_________________________________________________________________\n",
      "dense_3 (Dense)              (None, 1)                 5         \n",
      "=================================================================\n",
      "Total params: 33,545\n",
      "Trainable params: 33,545\n",
      "Non-trainable params: 0\n",
      "_________________________________________________________________\n"
     ]
    }
   ],
   "source": [
    "model.summary()"
   ]
  },
  {
   "cell_type": "code",
   "execution_count": 209,
   "metadata": {
    "scrolled": true
   },
   "outputs": [
    {
     "name": "stdout",
     "output_type": "stream",
     "text": [
      "Epoch 1/10\n",
      "11/11 [==============================] - 3s 265ms/step - loss: 6299452416.0000 - mse: 6299452416.0000 - val_loss: 19956658176.0000 - val_mse: 19956658176.0000\n",
      "Epoch 2/10\n",
      "11/11 [==============================] - 2s 177ms/step - loss: 6299386880.0000 - mse: 6299386880.0000 - val_loss: 19956459520.0000 - val_mse: 19956457472.0000\n",
      "Epoch 3/10\n",
      "11/11 [==============================] - 1s 135ms/step - loss: 6299331584.0000 - mse: 6299331584.0000 - val_loss: 19956344832.0000 - val_mse: 19956344832.0000\n",
      "Epoch 4/10\n",
      "11/11 [==============================] - 1s 120ms/step - loss: 6299277824.0000 - mse: 6299277824.0000 - val_loss: 19956277248.0000 - val_mse: 19956277248.0000\n",
      "Epoch 5/10\n",
      "11/11 [==============================] - 1s 113ms/step - loss: 6299245568.0000 - mse: 6299245568.0000 - val_loss: 19956195328.0000 - val_mse: 19956195328.0000\n",
      "Epoch 6/10\n",
      "11/11 [==============================] - 1s 113ms/step - loss: 6299206144.0000 - mse: 6299206144.0000 - val_loss: 19956123648.0000 - val_mse: 19956123648.0000\n",
      "Epoch 7/10\n",
      "11/11 [==============================] - 1s 116ms/step - loss: 6299172352.0000 - mse: 6299172352.0000 - val_loss: 19956090880.0000 - val_mse: 19956090880.0000\n",
      "Epoch 8/10\n",
      "11/11 [==============================] - 1s 116ms/step - loss: 6299139072.0000 - mse: 6299139072.0000 - val_loss: 19956011008.0000 - val_mse: 19956011008.0000\n",
      "Epoch 9/10\n",
      "11/11 [==============================] - 1s 110ms/step - loss: 6299113472.0000 - mse: 6299113472.0000 - val_loss: 19955978240.0000 - val_mse: 19955978240.0000\n",
      "Epoch 10/10\n",
      "11/11 [==============================] - 1s 111ms/step - loss: 6299081728.0000 - mse: 6299081728.0000 - val_loss: 19955953664.0000 - val_mse: 19955953664.0000\n"
     ]
    }
   ],
   "source": [
    "history = model.fit_generator(train_sequences, validation_data=test_sequences, epochs=10, verbose=1)"
   ]
  },
  {
   "cell_type": "code",
   "execution_count": 210,
   "metadata": {
    "scrolled": true
   },
   "outputs": [
    {
     "data": {
      "text/plain": [
       "array([[2.7944942],\n",
       "       [2.7943246],\n",
       "       [2.7942393],\n",
       "       [2.7940252],\n",
       "       [2.793826 ],\n",
       "       [2.7936585],\n",
       "       [2.7935498],\n",
       "       [2.7934785],\n",
       "       [2.7933981],\n",
       "       [2.7933607],\n",
       "       [2.7933457],\n",
       "       [2.7933552],\n",
       "       [2.7934027],\n",
       "       [2.793432 ],\n",
       "       [2.7935102],\n",
       "       [2.7936065],\n",
       "       [2.7937255],\n",
       "       [2.7938292],\n",
       "       [2.793959 ],\n",
       "       [2.7940927],\n",
       "       [2.7942297],\n",
       "       [2.7943742],\n",
       "       [2.7944577],\n",
       "       [2.794585 ],\n",
       "       [2.7946882],\n",
       "       [2.7947714],\n",
       "       [2.7948363],\n",
       "       [2.7948892],\n",
       "       [2.794932 ],\n",
       "       [2.7949646],\n",
       "       [2.7949908],\n",
       "       [2.7950099],\n",
       "       [2.795024 ],\n",
       "       [2.7950325],\n",
       "       [2.7950401],\n",
       "       [2.7950406],\n",
       "       [2.7950382],\n",
       "       [2.7950327],\n",
       "       [2.7950215],\n",
       "       [2.7950132],\n",
       "       [2.7949975],\n",
       "       [2.794977 ],\n",
       "       [2.7949429],\n",
       "       [2.7948956],\n",
       "       [2.794819 ],\n",
       "       [2.7947652],\n",
       "       [2.7947712],\n",
       "       [2.7948148],\n",
       "       [2.7948816],\n",
       "       [2.7949734],\n",
       "       [2.7949185],\n",
       "       [2.7946367],\n",
       "       [2.794551 ],\n",
       "       [2.7944467],\n",
       "       [2.794251 ],\n",
       "       [2.794027 ],\n",
       "       [2.793805 ],\n",
       "       [2.7936168],\n",
       "       [2.7933967],\n",
       "       [2.7931728],\n",
       "       [2.792912 ],\n",
       "       [2.7925508],\n",
       "       [2.7921636],\n",
       "       [2.7917042],\n",
       "       [2.7911627],\n",
       "       [2.7904491],\n",
       "       [2.7896721],\n",
       "       [2.7887402],\n",
       "       [2.7876055],\n",
       "       [2.7861888],\n",
       "       [2.7845197],\n",
       "       [2.7824652],\n",
       "       [2.7798848],\n",
       "       [2.7762244],\n",
       "       [2.7717712],\n",
       "       [2.7661889],\n",
       "       [2.7598114],\n",
       "       [2.7522192],\n",
       "       [2.7452555],\n",
       "       [2.7365658],\n",
       "       [2.7267766],\n",
       "       [2.7151182],\n",
       "       [2.703266 ],\n",
       "       [2.6894932],\n",
       "       [2.6738365],\n",
       "       [2.6560836],\n",
       "       [2.635425 ],\n",
       "       [2.6117764],\n",
       "       [2.5878224],\n",
       "       [2.5606275],\n",
       "       [2.5298615],\n",
       "       [2.4943237],\n",
       "       [2.4574814],\n",
       "       [2.410825 ],\n",
       "       [2.3377554],\n",
       "       [2.2423532],\n",
       "       [2.1522639],\n",
       "       [2.094464 ],\n",
       "       [2.0422983],\n",
       "       [2.0487955],\n",
       "       [2.124234 ],\n",
       "       [2.1996891],\n",
       "       [2.180518 ],\n",
       "       [1.8763313],\n",
       "       [1.5896076],\n",
       "       [1.4204574],\n",
       "       [1.3254772],\n",
       "       [1.2683961],\n",
       "       [1.2245259],\n",
       "       [1.1733642],\n",
       "       [1.1385831],\n",
       "       [1.1164205],\n",
       "       [1.1028047],\n",
       "       [1.0936347],\n",
       "       [1.0887263],\n",
       "       [1.0852422],\n",
       "       [1.0826695],\n",
       "       [1.0795985],\n",
       "       [1.0783654],\n",
       "       [1.076632 ],\n",
       "       [1.0745684],\n",
       "       [1.0720595],\n",
       "       [1.0651085],\n",
       "       [1.0636779],\n",
       "       [1.0589786],\n",
       "       [1.0519143]], dtype=float32)"
      ]
     },
     "execution_count": 210,
     "metadata": {},
     "output_type": "execute_result"
    }
   ],
   "source": [
    "model.predict(test_sequences)"
   ]
  },
  {
   "cell_type": "markdown",
   "metadata": {},
   "source": [
    "Didnt output predictions that were usable, possibly too many features, we need to retry with our PCA features."
   ]
  },
  {
   "cell_type": "code",
   "execution_count": 217,
   "metadata": {},
   "outputs": [
    {
     "data": {
      "text/plain": [
       "(710, 23)"
      ]
     },
     "execution_count": 217,
     "metadata": {},
     "output_type": "execute_result"
    }
   ],
   "source": [
    "Z_test.shape"
   ]
  },
  {
   "cell_type": "code",
   "execution_count": 223,
   "metadata": {
    "scrolled": true
   },
   "outputs": [],
   "source": [
    "train_sequences = TimeseriesGenerator(Z_train, y_train, length=52, batch_size=64)\n",
    "test_sequences = TimeseriesGenerator(Z_test, y_test, length=52, batch_size=64)"
   ]
  },
  {
   "cell_type": "code",
   "execution_count": 224,
   "metadata": {},
   "outputs": [],
   "source": [
    "batch_x, batch_y = train_sequences[0]"
   ]
  },
  {
   "cell_type": "code",
   "execution_count": 228,
   "metadata": {},
   "outputs": [],
   "source": [
    "model = Sequential()\n",
    "model.add(GRU(8, input_shape=(52,23), return_sequences=True,kernel_regularizer=regularizers.l2(0.01)))\n",
    "model.add(Dropout(0.5))\n",
    "model.add(GRU(8))\n",
    "\n",
    "model.add(Dense(4, activation='relu'))\n",
    "\n",
    "model.add(Dense(1, activation='linear'))"
   ]
  },
  {
   "cell_type": "markdown",
   "metadata": {},
   "source": [
    "We are running it for 10k epochs, so I added some regularizations and an early stop, to prevent overfitting."
   ]
  },
  {
   "cell_type": "code",
   "execution_count": 229,
   "metadata": {},
   "outputs": [],
   "source": [
    "model.compile(optimizer='adam', loss='mse', metrics=['mse'])\n",
    "early_stop = EarlyStopping(monitor='val_mse', min_delta=0, patience=5, verbose=1, mode='auto')"
   ]
  },
  {
   "cell_type": "code",
   "execution_count": 230,
   "metadata": {},
   "outputs": [
    {
     "name": "stdout",
     "output_type": "stream",
     "text": [
      "Epoch 1/10\n",
      "11/11 [==============================] - 2s 139ms/step - loss: 6299406336.0000 - mse: 6299406336.0000 - val_loss: 19956658176.0000 - val_mse: 19956658176.0000\n",
      "Epoch 2/10\n",
      "11/11 [==============================] - 1s 67ms/step - loss: 6299400192.0000 - mse: 6299400192.0000 - val_loss: 19956637696.0000 - val_mse: 19956637696.0000\n",
      "Epoch 3/10\n",
      "11/11 [==============================] - 1s 64ms/step - loss: 6299390976.0000 - mse: 6299390976.0000 - val_loss: 19956615168.0000 - val_mse: 19956615168.0000\n",
      "Epoch 4/10\n",
      "11/11 [==============================] - 1s 64ms/step - loss: 6299382272.0000 - mse: 6299382272.0000 - val_loss: 19956600832.0000 - val_mse: 19956600832.0000\n",
      "Epoch 5/10\n",
      "11/11 [==============================] - 1s 66ms/step - loss: 6299371520.0000 - mse: 6299371520.0000 - val_loss: 19956588544.0000 - val_mse: 19956588544.0000\n",
      "Epoch 6/10\n",
      "11/11 [==============================] - 1s 67ms/step - loss: 6299357184.0000 - mse: 6299357184.0000 - val_loss: 19956576256.0000 - val_mse: 19956576256.0000\n",
      "Epoch 7/10\n",
      "11/11 [==============================] - 1s 78ms/step - loss: 6299343360.0000 - mse: 6299343360.0000 - val_loss: 19956551680.0000 - val_mse: 19956551680.0000\n",
      "Epoch 8/10\n",
      "11/11 [==============================] - 1s 65ms/step - loss: 6299322880.0000 - mse: 6299322880.0000 - val_loss: 19956504576.0000 - val_mse: 19956504576.0000\n",
      "Epoch 9/10\n",
      "11/11 [==============================] - 1s 67ms/step - loss: 6299292672.0000 - mse: 6299292672.0000 - val_loss: 19956424704.0000 - val_mse: 19956424704.0000\n",
      "Epoch 10/10\n",
      "11/11 [==============================] - 1s 82ms/step - loss: 6299257344.0000 - mse: 6299257344.0000 - val_loss: 19956324352.0000 - val_mse: 19956324352.0000\n"
     ]
    }
   ],
   "source": [
    "history = model.fit_generator(train_sequences, validation_data=test_sequences, epochs=10,callbacks=[early_stop],verbose=1)"
   ]
  },
  {
   "cell_type": "code",
   "execution_count": 233,
   "metadata": {},
   "outputs": [],
   "source": [
    "rnn_test_preds = model.predict(test_sequences)\n"
   ]
  },
  {
   "cell_type": "markdown",
   "metadata": {},
   "source": [
    "Again, it didn't output usable predictions"
   ]
  },
  {
   "cell_type": "markdown",
   "metadata": {},
   "source": [
    "# Model Selection"
   ]
  },
  {
   "cell_type": "markdown",
   "metadata": {},
   "source": [
    "|   Model   | 80% RMSE | 20% RMSE|\n",
    "|-----------|----------|---------|\n",
    "| Linear Regression    | 11,000   | 2 X 10**16  |\n",
    "| LASSO   | 4700  | 150000|\n",
    "| ARIMAX   |3.6    |3.55|\n",
    "| SARIMAX   |4700  |207|\n",
    "| Var  |34000    |769|\n",
    "| SARIMA   |4084  |3.27|\n"
   ]
  },
  {
   "cell_type": "markdown",
   "metadata": {},
   "source": [
    "# Model Evaluation "
   ]
  },
  {
   "cell_type": "code",
   "execution_count": 289,
   "metadata": {},
   "outputs": [],
   "source": [
    "y.index = pd.to_datetime(y.index, format='%Y/%m/%d')"
   ]
  },
  {
   "cell_type": "code",
   "execution_count": 296,
   "metadata": {},
   "outputs": [
    {
     "data": {
      "image/png": "[encoded data removed]",
      "text/plain": [
       "<Figure size 864x360 with 1 Axes>"
      ]
     },
     "metadata": {
      "needs_background": "light"
     },
     "output_type": "display_data"
    }
   ],
   "source": [
    "plt.figure(figsize=(12,5))\n",
    "plt.title(\"Permit Pricing ($) (in-sample)\")\n",
    "\n",
    "# train data\n",
    "plt.plot(y.index, y, lw=1, color='blue', ls='solid', label='Train Data')\n",
    "\n",
    "# test predictions\n",
    "plt.plot(arimax_test_preds.index, arimax_test_preds, lw=1, color='red', ls='dashed', label='Test Interval')\n",
    "\n",
    "#  labels\n",
    "plt.xlabel(\"Date\")\n",
    "plt.ylabel(\"Permit Price ($)\")\n",
    "\n",
    "# legend\n",
    "plt.legend(loc = \"upper left\");"
   ]
  },
  {
   "cell_type": "markdown",
   "metadata": {},
   "source": [
    "We were really accurate but we cannot get a forecast without exog variables past our data set. We need to bring in our SARIMA model and use to forecast past our current date."
   ]
  },
  {
   "cell_type": "markdown",
   "metadata": {},
   "source": [
    "# SARIMA Evaluation"
   ]
  },
  {
   "cell_type": "code",
   "execution_count": 367,
   "metadata": {},
   "outputs": [],
   "source": [
    "# get forecast object\n",
    "forecast_object = sarima.get_forecast(steps = len(sarima_test))\n",
    "\n",
    "# grab forecasted values\n",
    "forecast_pred_values = forecast_object.predicted_mean\n",
    "# converting to pandas Seried with proper datetime index\n",
    "forecast_preds = pd.Series(forecast_pred_values, index = y_test.index)\n",
    "\n",
    "# grab confidence intervals\n",
    "pred_ci = forecast_object.conf_int()\n",
    "\n",
    "# break out lower and upper confidence values\n",
    "lower_conf_int = pred_ci.iloc[:,0]\n",
    "upper_conf_int = pred_ci.iloc[:,1]"
   ]
  },
  {
   "cell_type": "code",
   "execution_count": 371,
   "metadata": {
    "scrolled": true
   },
   "outputs": [
    {
     "data": {
      "image/png": "[encoded data removed]",
      "text/plain": [
       "<Figure size 432x288 with 1 Axes>"
      ]
     },
     "metadata": {
      "needs_background": "light"
     },
     "output_type": "display_data"
    }
   ],
   "source": [
    "price.plot(label = 'True Value')\n",
    "sarima_test_preds.plot(label=\"test preds \")\n",
    "\n",
    "plt.fill_between(sarima_test.index, lower_conf_int, upper_conf_int, color='k', alpha=0.1,  label =\"95% conf. int.\")\n",
    "plt.legend()\n",
    "plt.title(\"Price Prediction With Confidence Interval 2011-2020\")\n",
    "plt.ylabel(\"Price($)\")\n",
    "plt.xlabel(\"Year\");\n",
    "          \n",
    "\n"
   ]
  },
  {
   "cell_type": "markdown",
   "metadata": {},
   "source": [
    "We were very close to the real values over the period from 2011-2020, but with a very large confidence interval."
   ]
  },
  {
   "cell_type": "code",
   "execution_count": 356,
   "metadata": {},
   "outputs": [],
   "source": [
    "def plot_SARIMAX_predictions(y_train, y_test = None, train_preds = None, test_preds = None, lower_conf_int = None, upper_conf_int = None, title = \"Title\", ylabel = \"{y_label}\",xlabel = \"Data\"):\n",
    "    plt.figure(figsize=(12,5))\n",
    "    plt.title(title)\n",
    "\n",
    "    # train data\n",
    "    plt.plot(y_train.index, y_train, lw=1, color='purple', ls='solid', label='Train Data')\n",
    "\n",
    "    # train prediction\n",
    "    if train_preds is not None:\n",
    "        plt.plot(train_preds.index, train_preds, lw=1, color='green', ls='dashed', label='Training Predictions')\n",
    "\n",
    "    # test data\n",
    "    if y_test is not None:\n",
    "        plt.plot(y_test.index, y_test, lw=1, color='blue', ls='solid',label='Test Data')\n",
    "\n",
    "    # test predictions\n",
    "    if test_preds is not None:\n",
    "        plt.plot(test_preds.index, test_preds, lw=1, color='red', ls='dashed',label='Testing Predictions')\n",
    "\n",
    "    #  labels\n",
    "    plt.xlabel(xlabel)\n",
    "    plt.ylabel(ylabel)\n",
    "\n",
    "    # confidence intervals\n",
    "    if lower_conf_int is not None and upper_conf_int is not None:\n",
    "        plt.fill_between(y_test.index, lower_conf_int, upper_conf_int, color='k', alpha=0.1,  label =\"95% conf. int.\");\n",
    "    # legend\n",
    "    plt.legend(loc = \"upper left\");\n",
    "# Found at Mahdi Shadkam-Farrokhi https://git.generalassemb.ly/DSI-US-11/local_sarimax/blob/master/sarimax_SOLUTION.ipynb"
   ]
  },
  {
   "cell_type": "code",
   "execution_count": 357,
   "metadata": {},
   "outputs": [],
   "source": [
    "\n",
    "# get forecast object\n",
    "forecast_object = sarima.get_forecast(steps = len(test))\n",
    "\n",
    "# grab forecasted values\n",
    "forecast_pred_values = forecast_object.predicted_mean\n",
    "# converting to pandas Seried with proper datetime index\n",
    "forecast_preds = pd.Series(forecast_pred_values, index = y_test.index)\n",
    "\n",
    "# grab confidence intervals\n",
    "pred_ci = forecast_object.conf_int()\n",
    "\n",
    "# break out lower and upper confidence values\n",
    "lower_conf_int = pred_ci.iloc[:,0]\n",
    "upper_conf_int = pred_ci.iloc[:,1]"
   ]
  },
  {
   "cell_type": "code",
   "execution_count": 358,
   "metadata": {},
   "outputs": [
    {
     "data": {
      "image/png": "[encoded data removed]",
      "text/plain": [
       "<Figure size 864x360 with 1 Axes>"
      ]
     },
     "metadata": {
      "needs_background": "light"
     },
     "output_type": "display_data"
    }
   ],
   "source": [
    "five_year = sarima.forecast(steps=250)\n",
    "plot_SARIMAX_predictions(\n",
    "    price,  \n",
    "    test_preds = five_year,\n",
    "    title = \"Five Year Forecast for Permit Pricing\",\n",
    "    ylabel = \"Price($)\"\n",
    "   \n",
    ")"
   ]
  },
  {
   "cell_type": "markdown",
   "metadata": {},
   "source": [
    "The permits are projected to double in value over the period 2020-2025.\n",
    "But what is the confidence interval for this?"
   ]
  },
  {
   "cell_type": "code",
   "execution_count": 359,
   "metadata": {},
   "outputs": [],
   "source": [
    "# get forecast object\n",
    "forecast_object = sarima.get_forecast(steps=250)\n",
    "\n",
    "# grab forecasted values\n",
    "forecast_pred_values = forecast_object.predicted_mean\n",
    "# converting to pandas Seried with proper datetime index\n",
    "forecast_preds = pd.Series(forecast_pred_values, index = y_test.index)\n",
    "\n",
    "# grab confidence intervals\n",
    "pred_ci = forecast_object.conf_int()\n",
    "\n",
    "# break out lower and upper confidence values\n",
    "lower_conf_int = pred_ci.iloc[:,0]\n",
    "upper_conf_int = pred_ci.iloc[:,1]"
   ]
  },
  {
   "cell_type": "code",
   "execution_count": 360,
   "metadata": {},
   "outputs": [
    {
     "data": {
      "text/plain": [
       "<Figure size 1440x576 with 0 Axes>"
      ]
     },
     "metadata": {},
     "output_type": "display_data"
    },
    {
     "data": {
      "image/png": "[encoded data removed]",
      "text/plain": [
       "<Figure size 432x288 with 1 Axes>"
      ]
     },
     "metadata": {
      "needs_background": "light"
     },
     "output_type": "display_data"
    }
   ],
   "source": [
    "plt.figure(figsize=(20,8))\n",
    "price.plot(label = 'True Value')\n",
    "five_year.plot(label=\"Five Year Mean \")\n",
    "lower_conf_int.plot(label = 'Lower estimated Value')\n",
    "upper_conf_int.plot(label = 'Upper estimated Value')\n",
    "plt.fill_between(five_year.index, lower_conf_int, upper_conf_int, color='k', alpha=0.1,  label =\"95% conf. int.\")\n",
    "plt.legend()\n",
    "plt.title(\"Price Prediction With Confidence Interval 2020-2025\")\n",
    "plt.ylabel(\"Price($)\")\n",
    "plt.xlabel(\"Year\");\n",
    "          \n"
   ]
  },
  {
   "cell_type": "markdown",
   "metadata": {},
   "source": [
    "The confidence Interval is quite large and so we cannot be that confident that our price will go up. It looks like the price could either drop in value or quadruple in value. However, It will most likely go up based on the mean trend in the data."
   ]
  },
  {
   "cell_type": "markdown",
   "metadata": {},
   "source": [
    "# Conclusions/Recommendations"
   ]
  },
  {
   "cell_type": "markdown",
   "metadata": {},
   "source": [
    "Although the models we ran had a wide confidence interval, given the strength of the industry as a whole and resiliency we have seen we are comfortable going ahead with the purchase.\n",
    "The Arimax model handled the exogenous variables the best, but in the end the SARIMA outperformed it. Too many features added noise to the model and ended up skewing the results, but we did get a good sense of the features that were correlative for us in making our prediction.\n",
    "\n",
    "Moving forward, I would remove some of the fish production and consumption data and only focus on features that really add variance. \n"
   ]
  }
 ],
 "metadata": {
  "kernelspec": {
   "display_name": "Python 3",
   "language": "python",
   "name": "python3"
  },
  "language_info": {
   "codemirror_mode": {
    "name": "ipython",
    "version": 3
   },
   "file_extension": ".py",
   "mimetype": "text/x-python",
   "name": "python",
   "nbconvert_exporter": "python",
   "pygments_lexer": "ipython3",
   "version": "3.7.4"
  }
 },
 "nbformat": 4,
 "nbformat_minor": 2
}
